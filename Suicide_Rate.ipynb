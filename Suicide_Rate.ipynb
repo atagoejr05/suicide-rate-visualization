{
 "cells": [
  {
   "cell_type": "code",
   "execution_count": 1,
   "id": "2672cf21",
   "metadata": {},
   "outputs": [],
   "source": [
    "import streamlit as st # type: ignore\n",
    "import pandas as pd # type:ignore\n",
    "import plotly.express as px # type:ignore\n",
    "import plotly.graph_objects as go # type:ignore\n"
   ]
  },
  {
   "cell_type": "code",
   "execution_count": 2,
   "id": "f3a650c7",
   "metadata": {},
   "outputs": [
    {
     "name": "stderr",
     "output_type": "stream",
     "text": [
      "2025-01-09 18:39:31.386 \n",
      "  \u001b[33m\u001b[1mWarning:\u001b[0m to view this Streamlit app on a browser, run it with the following\n",
      "  command:\n",
      "\n",
      "    streamlit run c:\\Users\\Adolf\\anaconda3\\Lib\\site-packages\\ipykernel_launcher.py [ARGUMENTS]\n"
     ]
    },
    {
     "data": {
      "application/vnd.plotly.v1+json": {
       "config": {
        "plotlyServerURL": "https://plot.ly"
       },
       "data": [
        {
         "hovertemplate": "<b>%{hovertext}</b><br><br>M+F_RatePer100k_2021=%{marker.color}<br>country=%{y}<extra></extra>",
         "hovertext": [
          "India",
          "China",
          "United States",
          "Indonesia",
          "Pakistan",
          "Nigeria",
          "Brazil",
          "Bangladesh",
          "Russia",
          "Ethiopia",
          "Mexico",
          "Japan",
          "Egypt",
          "Philippines",
          "DR Congo",
          "Vietnam",
          "Iran",
          "Turkey",
          "Germany",
          "Thailand",
          "United Kingdom",
          "Tanzania",
          "France",
          "South Africa",
          "Italy",
          "Kenya",
          "Myanmar",
          "Colombia",
          "South Korea",
          "Sudan",
          "Uganda",
          "Spain",
          "Algeria",
          "Iraq",
          "Argentina",
          "Afghanistan",
          "Yemen",
          "Canada",
          "Poland",
          "Morocco",
          "Angola",
          "Ukraine",
          "Uzbekistan",
          "Malaysia",
          "Mozambique",
          "Ghana",
          "Peru",
          "Saudi Arabia",
          "Madagascar",
          "Ivory Coast",
          "Nepal",
          "Cameroon",
          "Venezuela",
          "Niger",
          "Australia",
          "North Korea",
          "Syria",
          "Mali",
          "Burkina Faso",
          "Taiwan",
          "Sri Lanka",
          "Malawi",
          "Zambia",
          "Kazakhstan",
          "Chad",
          "Chile",
          "Romania",
          "Somalia",
          "Senegal",
          "Guatemala",
          "Netherlands",
          "Ecuador",
          "Cambodia",
          "Zimbabwe",
          "Guinea",
          "Benin",
          "Rwanda",
          "Burundi",
          "Bolivia",
          "Tunisia",
          "South Sudan",
          "Haiti",
          "Belgium",
          "Jordan",
          "Dominican Republic",
          "United Arab Emirates",
          "Cuba",
          "Honduras",
          "Czech Republic",
          "Sweden",
          "Tajikistan",
          "Papua New Guinea",
          "Portugal",
          "Azerbaijan",
          "Greece",
          "Hungary",
          "Togo",
          "Israel",
          "Austria",
          "Belarus",
          "Switzerland",
          "Sierra Leone",
          "Laos",
          "Turkmenistan",
          "Libya",
          "Kyrgyzstan",
          "Paraguay",
          "Nicaragua",
          "Bulgaria",
          "Serbia",
          "El Salvador",
          "Republic of the Congo",
          "Denmark",
          "Singapore",
          "Lebanon",
          "Finland",
          "Liberia",
          "Norway",
          "Slovakia",
          "Palestine",
          "Central African Republic",
          "Oman",
          "Ireland",
          "New Zealand",
          "Mauritania",
          "Costa Rica",
          "Kuwait",
          "Panama",
          "Croatia",
          "Georgia",
          "Eritrea",
          "Mongolia",
          "Uruguay",
          "Puerto Rico",
          "Bosnia and Herzegovina",
          "Qatar",
          "Moldova",
          "Namibia",
          "Armenia",
          "Lithuania",
          "Jamaica",
          "Albania",
          "Gambia",
          "Gabon",
          "Botswana",
          "Lesotho",
          "Guinea-Bissau",
          "Slovenia",
          "Equatorial Guinea",
          "Latvia",
          "North Macedonia",
          "Bahrain",
          "Trinidad and Tobago",
          "Timor-Leste",
          "Estonia",
          "Cyprus",
          "Mauritius",
          "Eswatini",
          "Djibouti",
          "Fiji",
          "Comoros",
          "Guyana",
          "Solomon Islands",
          "Bhutan",
          "Luxembourg",
          "Montenegro",
          "Suriname",
          "Malta",
          "Maldives",
          "Cape Verde",
          "Brunei",
          "Belize",
          "Bahamas",
          "Iceland",
          "Vanuatu",
          "Barbados",
          "Sao Tome and Principe",
          "Samoa",
          "Saint Lucia",
          "Guam",
          "Kiribati",
          "Seychelles",
          "Grenada",
          "Micronesia",
          "Tonga",
          "Saint Vincent and the Grenadines",
          "Antigua and Barbuda",
          "United States Virgin Islands",
          "Andorra",
          "Dominica",
          "Bermuda",
          "Greenland",
          "Saint Kitts and Nevis",
          "American Samoa",
          "Northern Mariana Islands",
          "Monaco",
          "Marshall Islands",
          "San Marino",
          "Palau",
          "Cook Islands",
          "Nauru",
          "Tuvalu",
          "Tokelau",
          "Niue"
         ],
         "legendgroup": "",
         "marker": {
          "color": [
           13.33,
           9.17,
           15.25,
           1.64,
           5.82,
           4.27,
           7.78,
           3.67,
           24.1,
           6.17,
           6.84,
           17.47,
           1.01,
           3.77,
           8.12,
           8.01,
           4.34,
           3.84,
           12.31,
           12,
           8.47,
           5.66,
           13.72,
           15.3,
           6.44,
           6.82,
           3.57,
           6.74,
           25.81,
           4.28,
           5.84,
           7.73,
           2.76,
           4.41,
           10.47,
           3.6,
           3.56,
           12.51,
           15.15,
           3.68,
           6.95,
           23.17,
           8.96,
           5.17,
           9.28,
           5.68,
           2.9,
           7.87,
           6.31,
           7.05,
           13.07,
           7.16,
           8.11,
           3.55,
           12.86,
           10.88,
           0.89,
           4.09,
           6.56,
           16.04,
           16.27,
           8.31,
           8.16,
           18.2,
           5.43,
           10.61,
           10.76,
           5.78,
           7.58,
           5.43,
           11.23,
           8.51,
           4.54,
           17.61,
           5.02,
           5.32,
           7.36,
           7.13,
           5.53,
           3.06,
           8.03,
           7.18,
           17.3,
           1.07,
           5.39,
           2.37,
           15.83,
           3.9,
           12.56,
           12.32,
           3.37,
           2.28,
           11.62,
           2.5,
           5.22,
           16.91,
           7.88,
           5.15,
           14.34,
           20.44,
           11.72,
           5.09,
           5.23,
           9.72,
           5.52,
           9.25,
           5.8,
           5.72,
           13.3,
           15.91,
           8.32,
           9.57,
           11.27,
           7.75,
           0.94,
           15.67,
           6.66,
           11.68,
           12.34,
           0.78,
           11.64,
           1.04,
           8.41,
           11.31,
           3.55,
           9.85,
           1.97,
           5.28,
           14.31,
           8.64,
           9.66,
           14.59,
           21.31,
           7.1,
           10.7,
           3.81,
           14.92,
           11.57,
           5.53,
           27.91,
           1.43,
           4.1,
           5.58,
           9.67,
           9.72,
           20.57,
           8.49,
           17.12,
           6.89,
           19.42,
           7.91,
           4.28,
           13.82,
           4.08,
           15.19,
           4.04,
           10.96,
           18.42,
           5.63,
           8.89,
           6.3,
           31.26,
           18.27,
           5.75,
           9.02,
           15.45,
           23.6,
           4.96,
           2.22,
           15.06,
           4.05,
           5.09,
           2.61,
           12.49,
           16.31,
           4.67,
           1.15,
           12.18,
           6.77,
           17.08,
           17.29,
           5.77,
           4.63,
           20.17,
           4.64,
           6.19,
           1.38,
           7.02,
           7.89,
           4.23,
           3.99,
           59.62,
           2.85,
           8.04,
           15.59,
           15.42,
           20.04,
           7.59,
           14.99,
           9.17,
           23.55,
           16.49,
           15.83,
           15.59
          ],
          "coloraxis": "coloraxis",
          "symbol": "circle"
         },
         "mode": "markers",
         "name": "",
         "orientation": "h",
         "showlegend": false,
         "type": "scatter",
         "x": [
          13.33,
          9.17,
          15.25,
          1.64,
          5.82,
          4.27,
          7.78,
          3.67,
          24.1,
          6.17,
          6.84,
          17.47,
          1.01,
          3.77,
          8.12,
          8.01,
          4.34,
          3.84,
          12.31,
          12,
          8.47,
          5.66,
          13.72,
          15.3,
          6.44,
          6.82,
          3.57,
          6.74,
          25.81,
          4.28,
          5.84,
          7.73,
          2.76,
          4.41,
          10.47,
          3.6,
          3.56,
          12.51,
          15.15,
          3.68,
          6.95,
          23.17,
          8.96,
          5.17,
          9.28,
          5.68,
          2.9,
          7.87,
          6.31,
          7.05,
          13.07,
          7.16,
          8.11,
          3.55,
          12.86,
          10.88,
          0.89,
          4.09,
          6.56,
          16.04,
          16.27,
          8.31,
          8.16,
          18.2,
          5.43,
          10.61,
          10.76,
          5.78,
          7.58,
          5.43,
          11.23,
          8.51,
          4.54,
          17.61,
          5.02,
          5.32,
          7.36,
          7.13,
          5.53,
          3.06,
          8.03,
          7.18,
          17.3,
          1.07,
          5.39,
          2.37,
          15.83,
          3.9,
          12.56,
          12.32,
          3.37,
          2.28,
          11.62,
          2.5,
          5.22,
          16.91,
          7.88,
          5.15,
          14.34,
          20.44,
          11.72,
          5.09,
          5.23,
          9.72,
          5.52,
          9.25,
          5.8,
          5.72,
          13.3,
          15.91,
          8.32,
          9.57,
          11.27,
          7.75,
          0.94,
          15.67,
          6.66,
          11.68,
          12.34,
          0.78,
          11.64,
          1.04,
          8.41,
          11.31,
          3.55,
          9.85,
          1.97,
          5.28,
          14.31,
          8.64,
          9.66,
          14.59,
          21.31,
          7.1,
          10.7,
          3.81,
          14.92,
          11.57,
          5.53,
          27.91,
          1.43,
          4.1,
          5.58,
          9.67,
          9.72,
          20.57,
          8.49,
          17.12,
          6.89,
          19.42,
          7.91,
          4.28,
          13.82,
          4.08,
          15.19,
          4.04,
          10.96,
          18.42,
          5.63,
          8.89,
          6.3,
          31.26,
          18.27,
          5.75,
          9.02,
          15.45,
          23.6,
          4.96,
          2.22,
          15.06,
          4.05,
          5.09,
          2.61,
          12.49,
          16.31,
          4.67,
          1.15,
          12.18,
          6.77,
          17.08,
          17.29,
          5.77,
          4.63,
          20.17,
          4.64,
          6.19,
          1.38,
          7.02,
          7.89,
          4.23,
          3.99,
          59.62,
          2.85,
          8.04,
          15.59,
          15.42,
          20.04,
          7.59,
          14.99,
          9.17,
          23.55,
          16.49,
          15.83,
          15.59
         ],
         "xaxis": "x",
         "y": [
          "India",
          "China",
          "United States",
          "Indonesia",
          "Pakistan",
          "Nigeria",
          "Brazil",
          "Bangladesh",
          "Russia",
          "Ethiopia",
          "Mexico",
          "Japan",
          "Egypt",
          "Philippines",
          "DR Congo",
          "Vietnam",
          "Iran",
          "Turkey",
          "Germany",
          "Thailand",
          "United Kingdom",
          "Tanzania",
          "France",
          "South Africa",
          "Italy",
          "Kenya",
          "Myanmar",
          "Colombia",
          "South Korea",
          "Sudan",
          "Uganda",
          "Spain",
          "Algeria",
          "Iraq",
          "Argentina",
          "Afghanistan",
          "Yemen",
          "Canada",
          "Poland",
          "Morocco",
          "Angola",
          "Ukraine",
          "Uzbekistan",
          "Malaysia",
          "Mozambique",
          "Ghana",
          "Peru",
          "Saudi Arabia",
          "Madagascar",
          "Ivory Coast",
          "Nepal",
          "Cameroon",
          "Venezuela",
          "Niger",
          "Australia",
          "North Korea",
          "Syria",
          "Mali",
          "Burkina Faso",
          "Taiwan",
          "Sri Lanka",
          "Malawi",
          "Zambia",
          "Kazakhstan",
          "Chad",
          "Chile",
          "Romania",
          "Somalia",
          "Senegal",
          "Guatemala",
          "Netherlands",
          "Ecuador",
          "Cambodia",
          "Zimbabwe",
          "Guinea",
          "Benin",
          "Rwanda",
          "Burundi",
          "Bolivia",
          "Tunisia",
          "South Sudan",
          "Haiti",
          "Belgium",
          "Jordan",
          "Dominican Republic",
          "United Arab Emirates",
          "Cuba",
          "Honduras",
          "Czech Republic",
          "Sweden",
          "Tajikistan",
          "Papua New Guinea",
          "Portugal",
          "Azerbaijan",
          "Greece",
          "Hungary",
          "Togo",
          "Israel",
          "Austria",
          "Belarus",
          "Switzerland",
          "Sierra Leone",
          "Laos",
          "Turkmenistan",
          "Libya",
          "Kyrgyzstan",
          "Paraguay",
          "Nicaragua",
          "Bulgaria",
          "Serbia",
          "El Salvador",
          "Republic of the Congo",
          "Denmark",
          "Singapore",
          "Lebanon",
          "Finland",
          "Liberia",
          "Norway",
          "Slovakia",
          "Palestine",
          "Central African Republic",
          "Oman",
          "Ireland",
          "New Zealand",
          "Mauritania",
          "Costa Rica",
          "Kuwait",
          "Panama",
          "Croatia",
          "Georgia",
          "Eritrea",
          "Mongolia",
          "Uruguay",
          "Puerto Rico",
          "Bosnia and Herzegovina",
          "Qatar",
          "Moldova",
          "Namibia",
          "Armenia",
          "Lithuania",
          "Jamaica",
          "Albania",
          "Gambia",
          "Gabon",
          "Botswana",
          "Lesotho",
          "Guinea-Bissau",
          "Slovenia",
          "Equatorial Guinea",
          "Latvia",
          "North Macedonia",
          "Bahrain",
          "Trinidad and Tobago",
          "Timor-Leste",
          "Estonia",
          "Cyprus",
          "Mauritius",
          "Eswatini",
          "Djibouti",
          "Fiji",
          "Comoros",
          "Guyana",
          "Solomon Islands",
          "Bhutan",
          "Luxembourg",
          "Montenegro",
          "Suriname",
          "Malta",
          "Maldives",
          "Cape Verde",
          "Brunei",
          "Belize",
          "Bahamas",
          "Iceland",
          "Vanuatu",
          "Barbados",
          "Sao Tome and Principe",
          "Samoa",
          "Saint Lucia",
          "Guam",
          "Kiribati",
          "Seychelles",
          "Grenada",
          "Micronesia",
          "Tonga",
          "Saint Vincent and the Grenadines",
          "Antigua and Barbuda",
          "United States Virgin Islands",
          "Andorra",
          "Dominica",
          "Bermuda",
          "Greenland",
          "Saint Kitts and Nevis",
          "American Samoa",
          "Northern Mariana Islands",
          "Monaco",
          "Marshall Islands",
          "San Marino",
          "Palau",
          "Cook Islands",
          "Nauru",
          "Tuvalu",
          "Tokelau",
          "Niue"
         ],
         "yaxis": "y"
        }
       ],
       "layout": {
        "coloraxis": {
         "colorbar": {
          "title": {
           "text": "M+F_RatePer100k_2021"
          }
         },
         "colorscale": [
          [
           0,
           "#440154"
          ],
          [
           0.1111111111111111,
           "#482878"
          ],
          [
           0.2222222222222222,
           "#3e4989"
          ],
          [
           0.3333333333333333,
           "#31688e"
          ],
          [
           0.4444444444444444,
           "#26828e"
          ],
          [
           0.5555555555555556,
           "#1f9e89"
          ],
          [
           0.6666666666666666,
           "#35b779"
          ],
          [
           0.7777777777777778,
           "#6ece58"
          ],
          [
           0.8888888888888888,
           "#b5de2b"
          ],
          [
           1,
           "#fde725"
          ]
         ]
        },
        "height": 800,
        "hoverlabel": {
         "font": {
          "size": 14
         }
        },
        "legend": {
         "tracegroupgap": 0
        },
        "margin": {
         "b": 100,
         "l": 100,
         "r": 50,
         "t": 50
        },
        "showlegend": false,
        "template": {
         "data": {
          "candlestick": [
           {
            "decreasing": {
             "line": {
              "color": "#000033"
             }
            },
            "increasing": {
             "line": {
              "color": "#000032"
             }
            },
            "type": "candlestick"
           }
          ],
          "contour": [
           {
            "colorscale": [
             [
              0,
              "#000011"
             ],
             [
              0.1111111111111111,
              "#000012"
             ],
             [
              0.2222222222222222,
              "#000013"
             ],
             [
              0.3333333333333333,
              "#000014"
             ],
             [
              0.4444444444444444,
              "#000015"
             ],
             [
              0.5555555555555556,
              "#000016"
             ],
             [
              0.6666666666666666,
              "#000017"
             ],
             [
              0.7777777777777778,
              "#000018"
             ],
             [
              0.8888888888888888,
              "#000019"
             ],
             [
              1,
              "#000020"
             ]
            ],
            "type": "contour"
           }
          ],
          "contourcarpet": [
           {
            "colorscale": [
             [
              0,
              "#000011"
             ],
             [
              0.1111111111111111,
              "#000012"
             ],
             [
              0.2222222222222222,
              "#000013"
             ],
             [
              0.3333333333333333,
              "#000014"
             ],
             [
              0.4444444444444444,
              "#000015"
             ],
             [
              0.5555555555555556,
              "#000016"
             ],
             [
              0.6666666666666666,
              "#000017"
             ],
             [
              0.7777777777777778,
              "#000018"
             ],
             [
              0.8888888888888888,
              "#000019"
             ],
             [
              1,
              "#000020"
             ]
            ],
            "type": "contourcarpet"
           }
          ],
          "heatmap": [
           {
            "colorscale": [
             [
              0,
              "#000011"
             ],
             [
              0.1111111111111111,
              "#000012"
             ],
             [
              0.2222222222222222,
              "#000013"
             ],
             [
              0.3333333333333333,
              "#000014"
             ],
             [
              0.4444444444444444,
              "#000015"
             ],
             [
              0.5555555555555556,
              "#000016"
             ],
             [
              0.6666666666666666,
              "#000017"
             ],
             [
              0.7777777777777778,
              "#000018"
             ],
             [
              0.8888888888888888,
              "#000019"
             ],
             [
              1,
              "#000020"
             ]
            ],
            "type": "heatmap"
           }
          ],
          "histogram2d": [
           {
            "colorscale": [
             [
              0,
              "#000011"
             ],
             [
              0.1111111111111111,
              "#000012"
             ],
             [
              0.2222222222222222,
              "#000013"
             ],
             [
              0.3333333333333333,
              "#000014"
             ],
             [
              0.4444444444444444,
              "#000015"
             ],
             [
              0.5555555555555556,
              "#000016"
             ],
             [
              0.6666666666666666,
              "#000017"
             ],
             [
              0.7777777777777778,
              "#000018"
             ],
             [
              0.8888888888888888,
              "#000019"
             ],
             [
              1,
              "#000020"
             ]
            ],
            "type": "histogram2d"
           }
          ],
          "icicle": [
           {
            "textfont": {
             "color": "white"
            },
            "type": "icicle"
           }
          ],
          "sankey": [
           {
            "textfont": {
             "color": "#000036"
            },
            "type": "sankey"
           }
          ],
          "scatter": [
           {
            "marker": {
             "line": {
              "width": 0
             }
            },
            "type": "scatter"
           }
          ],
          "table": [
           {
            "cells": {
             "fill": {
              "color": "#000038"
             },
             "font": {
              "color": "#000037"
             },
             "line": {
              "color": "#000039"
             }
            },
            "header": {
             "fill": {
              "color": "#000040"
             },
             "font": {
              "color": "#000036"
             },
             "line": {
              "color": "#000039"
             }
            },
            "type": "table"
           }
          ],
          "waterfall": [
           {
            "connector": {
             "line": {
              "color": "#000036",
              "width": 2
             }
            },
            "decreasing": {
             "marker": {
              "color": "#000033"
             }
            },
            "increasing": {
             "marker": {
              "color": "#000032"
             }
            },
            "totals": {
             "marker": {
              "color": "#000034"
             }
            },
            "type": "waterfall"
           }
          ]
         },
         "layout": {
          "coloraxis": {
           "colorscale": [
            [
             0,
             "#000011"
            ],
            [
             0.1111111111111111,
             "#000012"
            ],
            [
             0.2222222222222222,
             "#000013"
            ],
            [
             0.3333333333333333,
             "#000014"
            ],
            [
             0.4444444444444444,
             "#000015"
            ],
            [
             0.5555555555555556,
             "#000016"
            ],
            [
             0.6666666666666666,
             "#000017"
            ],
            [
             0.7777777777777778,
             "#000018"
            ],
            [
             0.8888888888888888,
             "#000019"
            ],
            [
             1,
             "#000020"
            ]
           ]
          },
          "colorscale": {
           "diverging": [
            [
             0,
             "#000021"
            ],
            [
             0.1,
             "#000022"
            ],
            [
             0.2,
             "#000023"
            ],
            [
             0.3,
             "#000024"
            ],
            [
             0.4,
             "#000025"
            ],
            [
             0.5,
             "#000026"
            ],
            [
             0.6,
             "#000027"
            ],
            [
             0.7,
             "#000028"
            ],
            [
             0.8,
             "#000029"
            ],
            [
             0.9,
             "#000030"
            ],
            [
             1,
             "#000031"
            ]
           ],
           "sequential": [
            [
             0,
             "#000011"
            ],
            [
             0.1111111111111111,
             "#000012"
            ],
            [
             0.2222222222222222,
             "#000013"
            ],
            [
             0.3333333333333333,
             "#000014"
            ],
            [
             0.4444444444444444,
             "#000015"
            ],
            [
             0.5555555555555556,
             "#000016"
            ],
            [
             0.6666666666666666,
             "#000017"
            ],
            [
             0.7777777777777778,
             "#000018"
            ],
            [
             0.8888888888888888,
             "#000019"
            ],
            [
             1,
             "#000020"
            ]
           ],
           "sequentialminus": [
            [
             0,
             "#000011"
            ],
            [
             0.1111111111111111,
             "#000012"
            ],
            [
             0.2222222222222222,
             "#000013"
            ],
            [
             0.3333333333333333,
             "#000014"
            ],
            [
             0.4444444444444444,
             "#000015"
            ],
            [
             0.5555555555555556,
             "#000016"
            ],
            [
             0.6666666666666666,
             "#000017"
            ],
            [
             0.7777777777777778,
             "#000018"
            ],
            [
             0.8888888888888888,
             "#000019"
            ],
            [
             1,
             "#000020"
            ]
           ]
          },
          "colorway": [
           "#000001",
           "#000002",
           "#000003",
           "#000004",
           "#000005",
           "#000006",
           "#000007",
           "#000008",
           "#000009",
           "#000010"
          ]
         }
        },
        "title": {
         "text": "Male & Female Suicide Rates per 100k (Filtered by Rate Range)"
        },
        "updatemenus": [
         {
          "buttons": [
           {
            "args": [
             "xaxis.range",
             [
              0.78,
              0.78
             ]
            ],
            "label": "Suicide Rate < 0.78",
            "method": "relayout"
           },
           {
            "args": [
             "xaxis.range",
             [
              0.78,
              59.62
             ]
            ],
            "label": "Suicide Rate between 0.78 and 59.62",
            "method": "relayout"
           },
           {
            "args": [
             "xaxis.range",
             [
              59.62,
              59.62
             ]
            ],
            "label": "Suicide Rate > 59.62",
            "method": "relayout"
           }
          ],
          "direction": "down",
          "type": "dropdown",
          "x": 0.17,
          "y": 1.15
         }
        ],
        "width": 1200,
        "xaxis": {
         "anchor": "y",
         "domain": [
          0,
          1
         ],
         "title": {
          "text": "M+F Rate per 100k (2021)"
         }
        },
        "yaxis": {
         "anchor": "x",
         "domain": [
          0,
          1
         ],
         "title": {
          "text": "Country"
         }
        }
       }
      }
     },
     "metadata": {},
     "output_type": "display_data"
    }
   ],
   "source": [
    "'''Load the data'''\n",
    "df = pd.read_excel(r\"C:\\Users\\Adolf\\Downloads\\archive (1)\\suicide-rate-by-country-2024.xlsx\")\n",
    "\n",
    "\n",
    "df['M+F_RatePer100k_2021'] = pd.to_numeric(df['M+F_RatePer100k_2021'], errors='coerce')\n",
    "\n",
    "'''This Function to creates a scatter plot'''\n",
    "def create_scatter_plot(df, x_col, y_col, color_col, color_scale=\"Viridis\"):\n",
    "    fig = px.scatter(df, \n",
    "                     x=x_col, \n",
    "                     y=y_col, \n",
    "                     hover_name=y_col,  \n",
    "                     color=color_col, \n",
    "                     color_continuous_scale=color_scale)\n",
    "    return fig\n",
    "\n",
    "'''This Function updates the layout of the figure'''\n",
    "def update_layout(fig, title, xaxis_title, yaxis_title, width=1200, height=800):\n",
    "    fig.update_layout(\n",
    "        width=width,  \n",
    "        height=height,\n",
    "        margin=dict(l=100, r=50, t=50,b=100), \n",
    "        title=title,  \n",
    "        xaxis_title=xaxis_title,  \n",
    "        yaxis_title=yaxis_title, \n",
    "        showlegend=False, \n",
    "        hoverlabel=dict(font_size=14),\n",
    "    )\n",
    "    return fig\n",
    "\n",
    "'''Function to create the dropdown for filtering based on suicide rate'''\n",
    "def create_rate_range_dropdown(min_rate, max_rate):\n",
    "    return [\n",
    "        dict(\n",
    "            label=f\"Suicide Rate < {min_rate}\",\n",
    "            method=\"relayout\",\n",
    "            args=[\"xaxis.range\", [df['M+F_RatePer100k_2021'].min(), min_rate]]\n",
    "        ),\n",
    "        dict(\n",
    "            label=f\"Suicide Rate between {min_rate} and {max_rate}\",\n",
    "            method=\"relayout\",\n",
    "            args=[\"xaxis.range\", [min_rate, max_rate]]\n",
    "        ),\n",
    "        dict(\n",
    "            label=f\"Suicide Rate > {max_rate}\",\n",
    "            method=\"relayout\",\n",
    "            args=[\"xaxis.range\", [max_rate, df['M+F_RatePer100k_2021'].max()]]\n",
    "        ),\n",
    "    ]\n",
    "\n",
    "'''This Function filters the dataframe based on suicide rate range'''\n",
    "def filter_data_by_rate_range(df, min_rate, max_rate):\n",
    "    return df[(df['M+F_RatePer100k_2021'] >= min_rate) & (df['M+F_RatePer100k_2021'] <= max_rate)]\n",
    "\n",
    "'''Main function to display the interactive plot'''\n",
    "def display_interactive_plot():\n",
    "    '''Sidebar filter for suicide rate range'''\n",
    "    min_rate, max_rate = st.sidebar.slider(\n",
    "        \"Select Suicide Rate Range (per 100k)\",\n",
    "        min_value=float(df['M+F_RatePer100k_2021'].min()),\n",
    "        max_value=float(df['M+F_RatePer100k_2021'].max()),\n",
    "        value=(float(df['M+F_RatePer100k_2021'].min()), float(df['M+F_RatePer100k_2021'].max()))\n",
    "    )\n",
    "\n",
    "    '''Filter the data based on selected rate range'''\n",
    "    filtered_df = filter_data_by_rate_range(df, min_rate, max_rate)\n",
    "\n",
    "   \n",
    "    fig = create_scatter_plot(filtered_df, 'M+F_RatePer100k_2021', 'country', 'M+F_RatePer100k_2021')\n",
    "\n",
    "    '''Create the dropdown buttons for rate range selection'''\n",
    "    rate_range_buttons = create_rate_range_dropdown(min_rate, max_rate)\n",
    "\n",
    "    '''Add dropdown buttons to the plot'''\n",
    "    fig.update_layout(\n",
    "        updatemenus=[\n",
    "            dict(\n",
    "                type=\"dropdown\",\n",
    "                direction=\"down\",\n",
    "                x=0.17,\n",
    "                y=1.15,\n",
    "                buttons=rate_range_buttons\n",
    "            ),\n",
    "        ]\n",
    "    )\n",
    "\n",
    "    '''Update the layout of the figure'''\n",
    "    fig = update_layout(fig, \n",
    "                        title=f'Male & Female Suicide Rates per 100k (Filtered by Rate Range)', \n",
    "                        xaxis_title='M+F Rate per 100k (2021)',\n",
    "                        yaxis_title='Country')\n",
    "\n",
    "    '''Show the plot'''\n",
    "    fig.show()\n",
    "\n",
    "'''Call the main function to display the plot'''\n",
    "display_interactive_plot()\n"
   ]
  },
  {
   "cell_type": "code",
   "execution_count": 3,
   "id": "92ed53b1-7658-44ec-bcb5-27fcc176e85a",
   "metadata": {},
   "outputs": [
    {
     "data": {
      "application/vnd.plotly.v1+json": {
       "config": {
        "plotlyServerURL": "https://plot.ly"
       },
       "data": [
        {
         "hovertemplate": "<b>%{hovertext}</b><br><br>Male_RatePer100k_2021=%{marker.color}<br>country=%{y}<extra></extra>",
         "hovertext": [
          "India",
          "China",
          "United States",
          "Indonesia",
          "Pakistan",
          "Nigeria",
          "Brazil",
          "Bangladesh",
          "Russia",
          "Ethiopia",
          "Mexico",
          "Japan",
          "Egypt",
          "Philippines",
          "DR Congo",
          "Vietnam",
          "Iran",
          "Turkey",
          "Germany",
          "Thailand",
          "United Kingdom",
          "Tanzania",
          "France",
          "South Africa",
          "Italy",
          "Kenya",
          "Myanmar",
          "Colombia",
          "South Korea",
          "Sudan",
          "Uganda",
          "Spain",
          "Algeria",
          "Iraq",
          "Argentina",
          "Afghanistan",
          "Yemen",
          "Canada",
          "Poland",
          "Morocco",
          "Angola",
          "Ukraine",
          "Uzbekistan",
          "Malaysia",
          "Mozambique",
          "Ghana",
          "Peru",
          "Saudi Arabia",
          "Madagascar",
          "Ivory Coast",
          "Nepal",
          "Cameroon",
          "Venezuela",
          "Niger",
          "Australia",
          "North Korea",
          "Syria",
          "Mali",
          "Burkina Faso",
          "Taiwan",
          "Sri Lanka",
          "Malawi",
          "Zambia",
          "Kazakhstan",
          "Chad",
          "Chile",
          "Romania",
          "Somalia",
          "Senegal",
          "Guatemala",
          "Netherlands",
          "Ecuador",
          "Cambodia",
          "Zimbabwe",
          "Guinea",
          "Benin",
          "Rwanda",
          "Burundi",
          "Bolivia",
          "Tunisia",
          "South Sudan",
          "Haiti",
          "Belgium",
          "Jordan",
          "Dominican Republic",
          "United Arab Emirates",
          "Cuba",
          "Honduras",
          "Czech Republic",
          "Sweden",
          "Tajikistan",
          "Papua New Guinea",
          "Portugal",
          "Azerbaijan",
          "Greece",
          "Hungary",
          "Togo",
          "Israel",
          "Austria",
          "Belarus",
          "Switzerland",
          "Sierra Leone",
          "Laos",
          "Turkmenistan",
          "Libya",
          "Kyrgyzstan",
          "Paraguay",
          "Nicaragua",
          "Bulgaria",
          "Serbia",
          "El Salvador",
          "Republic of the Congo",
          "Denmark",
          "Singapore",
          "Lebanon",
          "Finland",
          "Liberia",
          "Norway",
          "Slovakia",
          "Palestine",
          "Central African Republic",
          "Oman",
          "Ireland",
          "New Zealand",
          "Mauritania",
          "Costa Rica",
          "Kuwait",
          "Panama",
          "Croatia",
          "Georgia",
          "Eritrea",
          "Mongolia",
          "Uruguay",
          "Puerto Rico",
          "Bosnia and Herzegovina",
          "Qatar",
          "Moldova",
          "Namibia",
          "Armenia",
          "Lithuania",
          "Jamaica",
          "Albania",
          "Gambia",
          "Gabon",
          "Botswana",
          "Lesotho",
          "Guinea-Bissau",
          "Slovenia",
          "Equatorial Guinea",
          "Latvia",
          "North Macedonia",
          "Bahrain",
          "Trinidad and Tobago",
          "Timor-Leste",
          "Estonia",
          "Cyprus",
          "Mauritius",
          "Eswatini",
          "Djibouti",
          "Fiji",
          "Comoros",
          "Guyana",
          "Solomon Islands",
          "Bhutan",
          "Luxembourg",
          "Montenegro",
          "Suriname",
          "Malta",
          "Maldives",
          "Cape Verde",
          "Brunei",
          "Belize",
          "Bahamas",
          "Iceland",
          "Vanuatu",
          "Barbados",
          "Sao Tome and Principe",
          "Samoa",
          "Saint Lucia",
          "Guam",
          "Kiribati",
          "Seychelles",
          "Grenada",
          "Micronesia",
          "Tonga",
          "Saint Vincent and the Grenadines",
          "Antigua and Barbuda",
          "United States Virgin Islands",
          "Andorra",
          "Dominica",
          "Bermuda",
          "Greenland",
          "Saint Kitts and Nevis",
          "American Samoa",
          "Northern Mariana Islands",
          "Monaco",
          "Marshall Islands",
          "San Marino",
          "Palau",
          "Cook Islands",
          "Nauru",
          "Tuvalu",
          "Tokelau",
          "Niue"
         ],
         "legendgroup": "",
         "marker": {
          "color": [
           15.7,
           10.64,
           24.13,
           2.21,
           8.46,
           7.22,
           12.47,
           5.18,
           41.82,
           9.4,
           11.51,
           25.2,
           1.48,
           6.04,
           12.39,
           10.97,
           6.46,
           6.02,
           18.9,
           20.1,
           13.18,
           8.9,
           22.01,
           25.55,
           10.37,
           10.53,
           6.06,
           11.09,
           36.96,
           5.41,
           9.79,
           11.86,
           3.6,
           6.55,
           17.29,
           4.16,
           4.63,
           19.43,
           27.27,
           4.28,
           11.28,
           41.4,
           12.29,
           8,
           15.86,
           9.21,
           4.35,
           10.95,
           9.05,
           11.52,
           18.26,
           11.35,
           14.2,
           4.6,
           19.8,
           12.25,
           1.44,
           5.24,
           10.43,
           21.9,
           26.45,
           13.84,
           13.42,
           30.96,
           7.88,
           17.78,
           18.54,
           7.11,
           11.87,
           8.45,
           15.24,
           13.53,
           6.46,
           26.57,
           6.89,
           8.32,
           11.13,
           10.94,
           7.61,
           4.41,
           12.19,
           10.28,
           25.49,
           1.6,
           8.73,
           2.79,
           25.07,
           6.47,
           20.54,
           16.76,
           4.91,
           2.84,
           18.25,
           3.91,
           8.65,
           26.39,
           12.41,
           8.36,
           22.34,
           35.68,
           17.43,
           6.91,
           7.58,
           14.57,
           7.62,
           14.71,
           8.63,
           8.91,
           20.72,
           23.78,
           13.31,
           14.47,
           16.26,
           10.19,
           1.18,
           23.96,
           9.37,
           16.4,
           21.31,
           1.24,
           18.72,
           1.49,
           13.7,
           16.97,
           4.98,
           17.37,
           3.05,
           8.82,
           22.31,
           14.57,
           14.19,
           25.68,
           36.61,
           12.68,
           17.41,
           5.08,
           26.48,
           20.03,
           8.86,
           49.96,
           2.44,
           5.28,
           8.11,
           16.72,
           15.73,
           32.55,
           12.74,
           28.01,
           10.29,
           34.67,
           11.08,
           6.02,
           23.21,
           5.62,
           25.66,
           6.48,
           18.01,
           31.17,
           7.67,
           12.25,
           7.82,
           52.79,
           27.24,
           7.57,
           13.24,
           23.77,
           37.42,
           8.06,
           3.33,
           25.66,
           6.17,
           8.88,
           4.75,
           19.64,
           25.01,
           8.22,
           1.77,
           17.11,
           12.36,
           29.13,
           30.08,
           9.92,
           7.32,
           30.72,
           5.97,
           11.19,
           2.5,
           12.76,
           12.22,
           7.46,
           7.06,
           86.96,
           4.96,
           11.97,
           24.66,
           21.33,
           29.01,
           12.19,
           17.12,
           14.39,
           35.11,
           23.79,
           19.54,
           20.62
          ],
          "coloraxis": "coloraxis",
          "symbol": "circle"
         },
         "mode": "markers",
         "name": "",
         "orientation": "h",
         "showlegend": false,
         "type": "scatter",
         "x": [
          15.7,
          10.64,
          24.13,
          2.21,
          8.46,
          7.22,
          12.47,
          5.18,
          41.82,
          9.4,
          11.51,
          25.2,
          1.48,
          6.04,
          12.39,
          10.97,
          6.46,
          6.02,
          18.9,
          20.1,
          13.18,
          8.9,
          22.01,
          25.55,
          10.37,
          10.53,
          6.06,
          11.09,
          36.96,
          5.41,
          9.79,
          11.86,
          3.6,
          6.55,
          17.29,
          4.16,
          4.63,
          19.43,
          27.27,
          4.28,
          11.28,
          41.4,
          12.29,
          8,
          15.86,
          9.21,
          4.35,
          10.95,
          9.05,
          11.52,
          18.26,
          11.35,
          14.2,
          4.6,
          19.8,
          12.25,
          1.44,
          5.24,
          10.43,
          21.9,
          26.45,
          13.84,
          13.42,
          30.96,
          7.88,
          17.78,
          18.54,
          7.11,
          11.87,
          8.45,
          15.24,
          13.53,
          6.46,
          26.57,
          6.89,
          8.32,
          11.13,
          10.94,
          7.61,
          4.41,
          12.19,
          10.28,
          25.49,
          1.6,
          8.73,
          2.79,
          25.07,
          6.47,
          20.54,
          16.76,
          4.91,
          2.84,
          18.25,
          3.91,
          8.65,
          26.39,
          12.41,
          8.36,
          22.34,
          35.68,
          17.43,
          6.91,
          7.58,
          14.57,
          7.62,
          14.71,
          8.63,
          8.91,
          20.72,
          23.78,
          13.31,
          14.47,
          16.26,
          10.19,
          1.18,
          23.96,
          9.37,
          16.4,
          21.31,
          1.24,
          18.72,
          1.49,
          13.7,
          16.97,
          4.98,
          17.37,
          3.05,
          8.82,
          22.31,
          14.57,
          14.19,
          25.68,
          36.61,
          12.68,
          17.41,
          5.08,
          26.48,
          20.03,
          8.86,
          49.96,
          2.44,
          5.28,
          8.11,
          16.72,
          15.73,
          32.55,
          12.74,
          28.01,
          10.29,
          34.67,
          11.08,
          6.02,
          23.21,
          5.62,
          25.66,
          6.48,
          18.01,
          31.17,
          7.67,
          12.25,
          7.82,
          52.79,
          27.24,
          7.57,
          13.24,
          23.77,
          37.42,
          8.06,
          3.33,
          25.66,
          6.17,
          8.88,
          4.75,
          19.64,
          25.01,
          8.22,
          1.77,
          17.11,
          12.36,
          29.13,
          30.08,
          9.92,
          7.32,
          30.72,
          5.97,
          11.19,
          2.5,
          12.76,
          12.22,
          7.46,
          7.06,
          86.96,
          4.96,
          11.97,
          24.66,
          21.33,
          29.01,
          12.19,
          17.12,
          14.39,
          35.11,
          23.79,
          19.54,
          20.62
         ],
         "xaxis": "x",
         "y": [
          "India",
          "China",
          "United States",
          "Indonesia",
          "Pakistan",
          "Nigeria",
          "Brazil",
          "Bangladesh",
          "Russia",
          "Ethiopia",
          "Mexico",
          "Japan",
          "Egypt",
          "Philippines",
          "DR Congo",
          "Vietnam",
          "Iran",
          "Turkey",
          "Germany",
          "Thailand",
          "United Kingdom",
          "Tanzania",
          "France",
          "South Africa",
          "Italy",
          "Kenya",
          "Myanmar",
          "Colombia",
          "South Korea",
          "Sudan",
          "Uganda",
          "Spain",
          "Algeria",
          "Iraq",
          "Argentina",
          "Afghanistan",
          "Yemen",
          "Canada",
          "Poland",
          "Morocco",
          "Angola",
          "Ukraine",
          "Uzbekistan",
          "Malaysia",
          "Mozambique",
          "Ghana",
          "Peru",
          "Saudi Arabia",
          "Madagascar",
          "Ivory Coast",
          "Nepal",
          "Cameroon",
          "Venezuela",
          "Niger",
          "Australia",
          "North Korea",
          "Syria",
          "Mali",
          "Burkina Faso",
          "Taiwan",
          "Sri Lanka",
          "Malawi",
          "Zambia",
          "Kazakhstan",
          "Chad",
          "Chile",
          "Romania",
          "Somalia",
          "Senegal",
          "Guatemala",
          "Netherlands",
          "Ecuador",
          "Cambodia",
          "Zimbabwe",
          "Guinea",
          "Benin",
          "Rwanda",
          "Burundi",
          "Bolivia",
          "Tunisia",
          "South Sudan",
          "Haiti",
          "Belgium",
          "Jordan",
          "Dominican Republic",
          "United Arab Emirates",
          "Cuba",
          "Honduras",
          "Czech Republic",
          "Sweden",
          "Tajikistan",
          "Papua New Guinea",
          "Portugal",
          "Azerbaijan",
          "Greece",
          "Hungary",
          "Togo",
          "Israel",
          "Austria",
          "Belarus",
          "Switzerland",
          "Sierra Leone",
          "Laos",
          "Turkmenistan",
          "Libya",
          "Kyrgyzstan",
          "Paraguay",
          "Nicaragua",
          "Bulgaria",
          "Serbia",
          "El Salvador",
          "Republic of the Congo",
          "Denmark",
          "Singapore",
          "Lebanon",
          "Finland",
          "Liberia",
          "Norway",
          "Slovakia",
          "Palestine",
          "Central African Republic",
          "Oman",
          "Ireland",
          "New Zealand",
          "Mauritania",
          "Costa Rica",
          "Kuwait",
          "Panama",
          "Croatia",
          "Georgia",
          "Eritrea",
          "Mongolia",
          "Uruguay",
          "Puerto Rico",
          "Bosnia and Herzegovina",
          "Qatar",
          "Moldova",
          "Namibia",
          "Armenia",
          "Lithuania",
          "Jamaica",
          "Albania",
          "Gambia",
          "Gabon",
          "Botswana",
          "Lesotho",
          "Guinea-Bissau",
          "Slovenia",
          "Equatorial Guinea",
          "Latvia",
          "North Macedonia",
          "Bahrain",
          "Trinidad and Tobago",
          "Timor-Leste",
          "Estonia",
          "Cyprus",
          "Mauritius",
          "Eswatini",
          "Djibouti",
          "Fiji",
          "Comoros",
          "Guyana",
          "Solomon Islands",
          "Bhutan",
          "Luxembourg",
          "Montenegro",
          "Suriname",
          "Malta",
          "Maldives",
          "Cape Verde",
          "Brunei",
          "Belize",
          "Bahamas",
          "Iceland",
          "Vanuatu",
          "Barbados",
          "Sao Tome and Principe",
          "Samoa",
          "Saint Lucia",
          "Guam",
          "Kiribati",
          "Seychelles",
          "Grenada",
          "Micronesia",
          "Tonga",
          "Saint Vincent and the Grenadines",
          "Antigua and Barbuda",
          "United States Virgin Islands",
          "Andorra",
          "Dominica",
          "Bermuda",
          "Greenland",
          "Saint Kitts and Nevis",
          "American Samoa",
          "Northern Mariana Islands",
          "Monaco",
          "Marshall Islands",
          "San Marino",
          "Palau",
          "Cook Islands",
          "Nauru",
          "Tuvalu",
          "Tokelau",
          "Niue"
         ],
         "yaxis": "y"
        }
       ],
       "layout": {
        "coloraxis": {
         "colorbar": {
          "title": {
           "text": "Male_RatePer100k_2021"
          }
         },
         "colorscale": [
          [
           0,
           "#440154"
          ],
          [
           0.1111111111111111,
           "#482878"
          ],
          [
           0.2222222222222222,
           "#3e4989"
          ],
          [
           0.3333333333333333,
           "#31688e"
          ],
          [
           0.4444444444444444,
           "#26828e"
          ],
          [
           0.5555555555555556,
           "#1f9e89"
          ],
          [
           0.6666666666666666,
           "#35b779"
          ],
          [
           0.7777777777777778,
           "#6ece58"
          ],
          [
           0.8888888888888888,
           "#b5de2b"
          ],
          [
           1,
           "#fde725"
          ]
         ]
        },
        "height": 800,
        "hoverlabel": {
         "font": {
          "size": 14
         }
        },
        "legend": {
         "tracegroupgap": 0
        },
        "margin": {
         "b": 100,
         "l": 100,
         "r": 50,
         "t": 50
        },
        "showlegend": false,
        "template": {
         "data": {
          "candlestick": [
           {
            "decreasing": {
             "line": {
              "color": "#000033"
             }
            },
            "increasing": {
             "line": {
              "color": "#000032"
             }
            },
            "type": "candlestick"
           }
          ],
          "contour": [
           {
            "colorscale": [
             [
              0,
              "#000011"
             ],
             [
              0.1111111111111111,
              "#000012"
             ],
             [
              0.2222222222222222,
              "#000013"
             ],
             [
              0.3333333333333333,
              "#000014"
             ],
             [
              0.4444444444444444,
              "#000015"
             ],
             [
              0.5555555555555556,
              "#000016"
             ],
             [
              0.6666666666666666,
              "#000017"
             ],
             [
              0.7777777777777778,
              "#000018"
             ],
             [
              0.8888888888888888,
              "#000019"
             ],
             [
              1,
              "#000020"
             ]
            ],
            "type": "contour"
           }
          ],
          "contourcarpet": [
           {
            "colorscale": [
             [
              0,
              "#000011"
             ],
             [
              0.1111111111111111,
              "#000012"
             ],
             [
              0.2222222222222222,
              "#000013"
             ],
             [
              0.3333333333333333,
              "#000014"
             ],
             [
              0.4444444444444444,
              "#000015"
             ],
             [
              0.5555555555555556,
              "#000016"
             ],
             [
              0.6666666666666666,
              "#000017"
             ],
             [
              0.7777777777777778,
              "#000018"
             ],
             [
              0.8888888888888888,
              "#000019"
             ],
             [
              1,
              "#000020"
             ]
            ],
            "type": "contourcarpet"
           }
          ],
          "heatmap": [
           {
            "colorscale": [
             [
              0,
              "#000011"
             ],
             [
              0.1111111111111111,
              "#000012"
             ],
             [
              0.2222222222222222,
              "#000013"
             ],
             [
              0.3333333333333333,
              "#000014"
             ],
             [
              0.4444444444444444,
              "#000015"
             ],
             [
              0.5555555555555556,
              "#000016"
             ],
             [
              0.6666666666666666,
              "#000017"
             ],
             [
              0.7777777777777778,
              "#000018"
             ],
             [
              0.8888888888888888,
              "#000019"
             ],
             [
              1,
              "#000020"
             ]
            ],
            "type": "heatmap"
           }
          ],
          "histogram2d": [
           {
            "colorscale": [
             [
              0,
              "#000011"
             ],
             [
              0.1111111111111111,
              "#000012"
             ],
             [
              0.2222222222222222,
              "#000013"
             ],
             [
              0.3333333333333333,
              "#000014"
             ],
             [
              0.4444444444444444,
              "#000015"
             ],
             [
              0.5555555555555556,
              "#000016"
             ],
             [
              0.6666666666666666,
              "#000017"
             ],
             [
              0.7777777777777778,
              "#000018"
             ],
             [
              0.8888888888888888,
              "#000019"
             ],
             [
              1,
              "#000020"
             ]
            ],
            "type": "histogram2d"
           }
          ],
          "icicle": [
           {
            "textfont": {
             "color": "white"
            },
            "type": "icicle"
           }
          ],
          "sankey": [
           {
            "textfont": {
             "color": "#000036"
            },
            "type": "sankey"
           }
          ],
          "scatter": [
           {
            "marker": {
             "line": {
              "width": 0
             }
            },
            "type": "scatter"
           }
          ],
          "table": [
           {
            "cells": {
             "fill": {
              "color": "#000038"
             },
             "font": {
              "color": "#000037"
             },
             "line": {
              "color": "#000039"
             }
            },
            "header": {
             "fill": {
              "color": "#000040"
             },
             "font": {
              "color": "#000036"
             },
             "line": {
              "color": "#000039"
             }
            },
            "type": "table"
           }
          ],
          "waterfall": [
           {
            "connector": {
             "line": {
              "color": "#000036",
              "width": 2
             }
            },
            "decreasing": {
             "marker": {
              "color": "#000033"
             }
            },
            "increasing": {
             "marker": {
              "color": "#000032"
             }
            },
            "totals": {
             "marker": {
              "color": "#000034"
             }
            },
            "type": "waterfall"
           }
          ]
         },
         "layout": {
          "coloraxis": {
           "colorscale": [
            [
             0,
             "#000011"
            ],
            [
             0.1111111111111111,
             "#000012"
            ],
            [
             0.2222222222222222,
             "#000013"
            ],
            [
             0.3333333333333333,
             "#000014"
            ],
            [
             0.4444444444444444,
             "#000015"
            ],
            [
             0.5555555555555556,
             "#000016"
            ],
            [
             0.6666666666666666,
             "#000017"
            ],
            [
             0.7777777777777778,
             "#000018"
            ],
            [
             0.8888888888888888,
             "#000019"
            ],
            [
             1,
             "#000020"
            ]
           ]
          },
          "colorscale": {
           "diverging": [
            [
             0,
             "#000021"
            ],
            [
             0.1,
             "#000022"
            ],
            [
             0.2,
             "#000023"
            ],
            [
             0.3,
             "#000024"
            ],
            [
             0.4,
             "#000025"
            ],
            [
             0.5,
             "#000026"
            ],
            [
             0.6,
             "#000027"
            ],
            [
             0.7,
             "#000028"
            ],
            [
             0.8,
             "#000029"
            ],
            [
             0.9,
             "#000030"
            ],
            [
             1,
             "#000031"
            ]
           ],
           "sequential": [
            [
             0,
             "#000011"
            ],
            [
             0.1111111111111111,
             "#000012"
            ],
            [
             0.2222222222222222,
             "#000013"
            ],
            [
             0.3333333333333333,
             "#000014"
            ],
            [
             0.4444444444444444,
             "#000015"
            ],
            [
             0.5555555555555556,
             "#000016"
            ],
            [
             0.6666666666666666,
             "#000017"
            ],
            [
             0.7777777777777778,
             "#000018"
            ],
            [
             0.8888888888888888,
             "#000019"
            ],
            [
             1,
             "#000020"
            ]
           ],
           "sequentialminus": [
            [
             0,
             "#000011"
            ],
            [
             0.1111111111111111,
             "#000012"
            ],
            [
             0.2222222222222222,
             "#000013"
            ],
            [
             0.3333333333333333,
             "#000014"
            ],
            [
             0.4444444444444444,
             "#000015"
            ],
            [
             0.5555555555555556,
             "#000016"
            ],
            [
             0.6666666666666666,
             "#000017"
            ],
            [
             0.7777777777777778,
             "#000018"
            ],
            [
             0.8888888888888888,
             "#000019"
            ],
            [
             1,
             "#000020"
            ]
           ]
          },
          "colorway": [
           "#000001",
           "#000002",
           "#000003",
           "#000004",
           "#000005",
           "#000006",
           "#000007",
           "#000008",
           "#000009",
           "#000010"
          ]
         }
        },
        "title": {
         "text": "Male suicide Rates per 100k (Filtered by Rate Range)"
        },
        "updatemenus": [
         {
          "buttons": [
           {
            "args": [
             "xaxis.range",
             [
              1.18,
              1.18
             ]
            ],
            "label": "Suicide Rate < 1.18",
            "method": "relayout"
           },
           {
            "args": [
             "xaxis.range",
             [
              1.18,
              86.96
             ]
            ],
            "label": "Suicide Rate between 1.18 and 86.96",
            "method": "relayout"
           },
           {
            "args": [
             "xaxis.range",
             [
              86.96,
              86.96
             ]
            ],
            "label": "Suicide Rate > 86.96",
            "method": "relayout"
           }
          ],
          "direction": "down",
          "type": "dropdown",
          "x": 0.17,
          "y": 1.15
         }
        ],
        "width": 1200,
        "xaxis": {
         "anchor": "y",
         "domain": [
          0,
          1
         ],
         "title": {
          "text": "Male RatePer100k(2021)"
         }
        },
        "yaxis": {
         "anchor": "x",
         "domain": [
          0,
          1
         ],
         "title": {
          "text": "Country"
         }
        }
       }
      }
     },
     "metadata": {},
     "output_type": "display_data"
    }
   ],
   "source": [
    "df['Male_RatePer100k_2021'] = pd.to_numeric(df['Male_RatePer100k_2021'], errors='coerce')\n",
    "\n",
    "'''This Function to creates a scatter plot'''\n",
    "def create_scatter_plot(df, x_col, y_col, color_col, color_scale=\"Viridis\"):\n",
    "    fig = px.scatter(df, \n",
    "                     x=x_col, \n",
    "                     y=y_col, \n",
    "                     hover_name=y_col,  \n",
    "                     color=color_col, \n",
    "                     color_continuous_scale=color_scale)\n",
    "    return fig\n",
    "\n",
    "'''This Function updates the layout of the figure'''\n",
    "def update_layout(fig, title, xaxis_title, yaxis_title, width=1200, height=800):\n",
    "    fig.update_layout(\n",
    "        width=width,  \n",
    "        height=height,\n",
    "        margin=dict(l=100, r=50, t=50, b=100), \n",
    "        title=title,  \n",
    "        xaxis_title=xaxis_title,  \n",
    "        yaxis_title=yaxis_title, \n",
    "        showlegend=False, \n",
    "        hoverlabel=dict(font_size=14),\n",
    "    )\n",
    "    return fig\n",
    "\n",
    "'''Function to create the dropdown for filtering based on suicide rate'''\n",
    "def create_rate_range_dropdown(min_rate, max_rate):\n",
    "    return [\n",
    "        dict(\n",
    "            label=f\"Suicide Rate < {min_rate}\",\n",
    "            method=\"relayout\",\n",
    "            args=[\"xaxis.range\", [df['Male_RatePer100k_2021'].min(), min_rate]]\n",
    "        ),\n",
    "        dict(\n",
    "            label=f\"Suicide Rate between {min_rate} and {max_rate}\",\n",
    "            method=\"relayout\",\n",
    "            args=[\"xaxis.range\", [min_rate, max_rate]]\n",
    "        ),\n",
    "        dict(\n",
    "            label=f\"Suicide Rate > {max_rate}\",\n",
    "            method=\"relayout\",\n",
    "            args=[\"xaxis.range\", [max_rate, df['Male_RatePer100k_2021'].max()]]\n",
    "        ),\n",
    "    ]\n",
    "\n",
    "'''Function to filter the dataframe based on suicide rate range'''\n",
    "def filter_data_by_rate_range(df, min_rate, max_rate):\n",
    "    return df[(df['Male_RatePer100k_2021'] >= min_rate) & (df['Male_RatePer100k_2021'] <= max_rate)]\n",
    "\n",
    "'''Main function to display the interactive plot'''\n",
    "def display_interactive_plot():\n",
    "    '''Sidebar filter for suicide rate range'''\n",
    "    min_rate, max_rate = st.sidebar.slider(\n",
    "        \"Select Suicide Rate Range (per 100k)\",\n",
    "        min_value=float(df['Male_RatePer100k_2021'].min()),\n",
    "        max_value=float(df['Male_RatePer100k_2021'].max()),\n",
    "        value=(float(df['Male_RatePer100k_2021'].min()), float(df['Male_RatePer100k_2021'].max()))\n",
    "    )\n",
    "\n",
    "    '''Filter the data based on selected rate range'''\n",
    "    filtered_df = filter_data_by_rate_range(df, min_rate, max_rate)\n",
    "\n",
    "    '''Create the scatter plot'''\n",
    "    fig = create_scatter_plot(filtered_df, 'Male_RatePer100k_2021', 'country', 'Male_RatePer100k_2021')\n",
    "\n",
    "    '''Create the dropdown buttons for rate range selection'''\n",
    "    rate_range_buttons = create_rate_range_dropdown(min_rate, max_rate)\n",
    "\n",
    "    '''Add dropdown buttons to the plot'''\n",
    "    fig.update_layout(\n",
    "        updatemenus=[\n",
    "            dict(\n",
    "                type=\"dropdown\",\n",
    "                direction=\"down\",\n",
    "                x=0.17,\n",
    "                y=1.15,\n",
    "                buttons=rate_range_buttons\n",
    "            ),\n",
    "        ]\n",
    "    )\n",
    "\n",
    "    ''' Update the layout of the figure'''\n",
    "    fig = update_layout(fig, \n",
    "                        title=f'Male suicide Rates per 100k (Filtered by Rate Range)', \n",
    "                        xaxis_title='Male RatePer100k(2021)',\n",
    "                        yaxis_title='Country')\n",
    "\n",
    "    '''Show the plot'''\n",
    "    fig.show()\n",
    "\n",
    "'''Call the main function to display the plot'''\n",
    "display_interactive_plot()\n",
    "\n",
    "  "
   ]
  },
  {
   "cell_type": "code",
   "execution_count": 4,
   "id": "eac82a49-a038-4424-adfd-be6582eafc5a",
   "metadata": {},
   "outputs": [
    {
     "data": {
      "application/vnd.plotly.v1+json": {
       "config": {
        "plotlyServerURL": "https://plot.ly"
       },
       "data": [
        {
         "hovertemplate": "<b>%{hovertext}</b><br><br>Female_RatePer100k_2021=%{marker.color}<br>country=%{y}<extra></extra>",
         "hovertext": [
          "India",
          "China",
          "United States",
          "Indonesia",
          "Pakistan",
          "Nigeria",
          "Brazil",
          "Bangladesh",
          "Russia",
          "Ethiopia",
          "Mexico",
          "Japan",
          "Egypt",
          "Philippines",
          "DR Congo",
          "Vietnam",
          "Iran",
          "Turkey",
          "Germany",
          "Thailand",
          "United Kingdom",
          "Tanzania",
          "France",
          "South Africa",
          "Italy",
          "Kenya",
          "Myanmar",
          "Colombia",
          "South Korea",
          "Sudan",
          "Uganda",
          "Spain",
          "Algeria",
          "Iraq",
          "Argentina",
          "Afghanistan",
          "Yemen",
          "Canada",
          "Poland",
          "Morocco",
          "Angola",
          "Ukraine",
          "Uzbekistan",
          "Malaysia",
          "Mozambique",
          "Ghana",
          "Peru",
          "Saudi Arabia",
          "Madagascar",
          "Ivory Coast",
          "Nepal",
          "Cameroon",
          "Venezuela",
          "Niger",
          "Australia",
          "North Korea",
          "Syria",
          "Mali",
          "Burkina Faso",
          "Taiwan",
          "Sri Lanka",
          "Malawi",
          "Zambia",
          "Kazakhstan",
          "Chad",
          "Chile",
          "Romania",
          "Somalia",
          "Senegal",
          "Guatemala",
          "Netherlands",
          "Ecuador",
          "Cambodia",
          "Zimbabwe",
          "Guinea",
          "Benin",
          "Rwanda",
          "Burundi",
          "Bolivia",
          "Tunisia",
          "South Sudan",
          "Haiti",
          "Belgium",
          "Jordan",
          "Dominican Republic",
          "United Arab Emirates",
          "Cuba",
          "Honduras",
          "Czech Republic",
          "Sweden",
          "Tajikistan",
          "Papua New Guinea",
          "Portugal",
          "Azerbaijan",
          "Greece",
          "Hungary",
          "Togo",
          "Israel",
          "Austria",
          "Belarus",
          "Switzerland",
          "Sierra Leone",
          "Laos",
          "Turkmenistan",
          "Libya",
          "Kyrgyzstan",
          "Paraguay",
          "Nicaragua",
          "Bulgaria",
          "Serbia",
          "El Salvador",
          "Republic of the Congo",
          "Denmark",
          "Singapore",
          "Lebanon",
          "Finland",
          "Liberia",
          "Norway",
          "Slovakia",
          "Palestine",
          "Central African Republic",
          "Oman",
          "Ireland",
          "New Zealand",
          "Mauritania",
          "Costa Rica",
          "Kuwait",
          "Panama",
          "Croatia",
          "Georgia",
          "Eritrea",
          "Mongolia",
          "Uruguay",
          "Puerto Rico",
          "Bosnia and Herzegovina",
          "Qatar",
          "Moldova",
          "Namibia",
          "Armenia",
          "Lithuania",
          "Jamaica",
          "Albania",
          "Gambia",
          "Gabon",
          "Botswana",
          "Lesotho",
          "Guinea-Bissau",
          "Slovenia",
          "Equatorial Guinea",
          "Latvia",
          "North Macedonia",
          "Bahrain",
          "Trinidad and Tobago",
          "Timor-Leste",
          "Estonia",
          "Cyprus",
          "Mauritius",
          "Eswatini",
          "Djibouti",
          "Fiji",
          "Comoros",
          "Guyana",
          "Solomon Islands",
          "Bhutan",
          "Luxembourg",
          "Montenegro",
          "Suriname",
          "Malta",
          "Maldives",
          "Cape Verde",
          "Brunei",
          "Belize",
          "Bahamas",
          "Iceland",
          "Vanuatu",
          "Barbados",
          "Sao Tome and Principe",
          "Samoa",
          "Saint Lucia",
          "Guam",
          "Kiribati",
          "Seychelles",
          "Grenada",
          "Micronesia",
          "Tonga",
          "Saint Vincent and the Grenadines",
          "Antigua and Barbuda",
          "United States Virgin Islands",
          "Andorra",
          "Dominica",
          "Bermuda",
          "Greenland",
          "Saint Kitts and Nevis",
          "American Samoa",
          "Northern Mariana Islands",
          "Monaco",
          "Marshall Islands",
          "San Marino",
          "Palau",
          "Cook Islands",
          "Nauru",
          "Tuvalu",
          "Tokelau",
          "Niue"
         ],
         "legendgroup": "",
         "marker": {
          "color": [
           10.85,
           7.63,
           6.66,
           1.05,
           3.05,
           1.56,
           3.3,
           2.21,
           8.66,
           2.88,
           2.38,
           10.12,
           0.5,
           1.44,
           3.77,
           5.07,
           2.16,
           1.65,
           5.77,
           4.44,
           3.93,
           2.59,
           5.92,
           5.46,
           2.72,
           3.16,
           1.26,
           2.57,
           14.58,
           3.11,
           2.01,
           3.78,
           1.9,
           2.12,
           3.99,
           3.01,
           2.46,
           5.77,
           3.79,
           3.07,
           2.87,
           7.43,
           5.65,
           2.13,
           3.17,
           2.34,
           1.43,
           3.55,
           3.64,
           2.28,
           8.37,
           2.97,
           2.41,
           2.52,
           6.08,
           9.52,
           0.39,
           2.96,
           2.93,
           10.29,
           6.78,
           3.05,
           2.99,
           6.19,
           3,
           3.66,
           3.4,
           4.39,
           3.25,
           2.59,
           7.28,
           3.54,
           2.7,
           9.32,
           3.26,
           2.41,
           3.79,
           3.3,
           3.44,
           1.73,
           3.84,
           4.2,
           9.36,
           0.46,
           2.02,
           1.3,
           6.71,
           1.48,
           4.82,
           7.82,
           1.79,
           1.67,
           5.63,
           1.08,
           1.98,
           8.27,
           3.54,
           1.97,
           6.55,
           7.16,
           6.03,
           3.29,
           2.85,
           4.65,
           3.29,
           3.92,
           2.91,
           2.6,
           6.34,
           8.07,
           3.92,
           4.72,
           6.33,
           5.21,
           0.69,
           7.58,
           3.86,
           6.86,
           3.79,
           0.31,
           4.83,
           0.33,
           3.24,
           5.67,
           2.16,
           2.83,
           0.75,
           1.7,
           6.76,
           3.18,
           4.99,
           3.77,
           7.23,
           2.05,
           4.29,
           0.77,
           4.41,
           3.61,
           2.44,
           9.07,
           0.44,
           2.91,
           3.12,
           3.12,
           3.84,
           9.27,
           4.44,
           6.37,
           2.85,
           6.39,
           4.64,
           1.33,
           4.4,
           2.49,
           5.83,
           1.67,
           4.09,
           6.16,
           3.25,
           5.45,
           4.79,
           10.31,
           8.94,
           3.79,
           4.74,
           7.33,
           10.13,
           1.85,
           0.44,
           4.28,
           1.68,
           1.34,
           0.62,
           5.13,
           7.45,
           1.36,
           0.52,
           6.95,
           1.17,
           4.71,
           5.02,
           1.13,
           1.8,
           9.2,
           3.31,
           0.97,
           0.3,
           1.6,
           3.31,
           0.89,
           1.11,
           29.4,
           0.74,
           3.93,
           5.55,
           9.84,
           10.65,
           3.28,
           12.39,
           3.95,
           11.79,
           8.56,
           11.97,
           10.51
          ],
          "coloraxis": "coloraxis",
          "symbol": "circle"
         },
         "mode": "markers",
         "name": "",
         "orientation": "h",
         "showlegend": false,
         "type": "scatter",
         "x": [
          10.85,
          7.63,
          6.66,
          1.05,
          3.05,
          1.56,
          3.3,
          2.21,
          8.66,
          2.88,
          2.38,
          10.12,
          0.5,
          1.44,
          3.77,
          5.07,
          2.16,
          1.65,
          5.77,
          4.44,
          3.93,
          2.59,
          5.92,
          5.46,
          2.72,
          3.16,
          1.26,
          2.57,
          14.58,
          3.11,
          2.01,
          3.78,
          1.9,
          2.12,
          3.99,
          3.01,
          2.46,
          5.77,
          3.79,
          3.07,
          2.87,
          7.43,
          5.65,
          2.13,
          3.17,
          2.34,
          1.43,
          3.55,
          3.64,
          2.28,
          8.37,
          2.97,
          2.41,
          2.52,
          6.08,
          9.52,
          0.39,
          2.96,
          2.93,
          10.29,
          6.78,
          3.05,
          2.99,
          6.19,
          3,
          3.66,
          3.4,
          4.39,
          3.25,
          2.59,
          7.28,
          3.54,
          2.7,
          9.32,
          3.26,
          2.41,
          3.79,
          3.3,
          3.44,
          1.73,
          3.84,
          4.2,
          9.36,
          0.46,
          2.02,
          1.3,
          6.71,
          1.48,
          4.82,
          7.82,
          1.79,
          1.67,
          5.63,
          1.08,
          1.98,
          8.27,
          3.54,
          1.97,
          6.55,
          7.16,
          6.03,
          3.29,
          2.85,
          4.65,
          3.29,
          3.92,
          2.91,
          2.6,
          6.34,
          8.07,
          3.92,
          4.72,
          6.33,
          5.21,
          0.69,
          7.58,
          3.86,
          6.86,
          3.79,
          0.31,
          4.83,
          0.33,
          3.24,
          5.67,
          2.16,
          2.83,
          0.75,
          1.7,
          6.76,
          3.18,
          4.99,
          3.77,
          7.23,
          2.05,
          4.29,
          0.77,
          4.41,
          3.61,
          2.44,
          9.07,
          0.44,
          2.91,
          3.12,
          3.12,
          3.84,
          9.27,
          4.44,
          6.37,
          2.85,
          6.39,
          4.64,
          1.33,
          4.4,
          2.49,
          5.83,
          1.67,
          4.09,
          6.16,
          3.25,
          5.45,
          4.79,
          10.31,
          8.94,
          3.79,
          4.74,
          7.33,
          10.13,
          1.85,
          0.44,
          4.28,
          1.68,
          1.34,
          0.62,
          5.13,
          7.45,
          1.36,
          0.52,
          6.95,
          1.17,
          4.71,
          5.02,
          1.13,
          1.8,
          9.2,
          3.31,
          0.97,
          0.3,
          1.6,
          3.31,
          0.89,
          1.11,
          29.4,
          0.74,
          3.93,
          5.55,
          9.84,
          10.65,
          3.28,
          12.39,
          3.95,
          11.79,
          8.56,
          11.97,
          10.51
         ],
         "xaxis": "x",
         "y": [
          "India",
          "China",
          "United States",
          "Indonesia",
          "Pakistan",
          "Nigeria",
          "Brazil",
          "Bangladesh",
          "Russia",
          "Ethiopia",
          "Mexico",
          "Japan",
          "Egypt",
          "Philippines",
          "DR Congo",
          "Vietnam",
          "Iran",
          "Turkey",
          "Germany",
          "Thailand",
          "United Kingdom",
          "Tanzania",
          "France",
          "South Africa",
          "Italy",
          "Kenya",
          "Myanmar",
          "Colombia",
          "South Korea",
          "Sudan",
          "Uganda",
          "Spain",
          "Algeria",
          "Iraq",
          "Argentina",
          "Afghanistan",
          "Yemen",
          "Canada",
          "Poland",
          "Morocco",
          "Angola",
          "Ukraine",
          "Uzbekistan",
          "Malaysia",
          "Mozambique",
          "Ghana",
          "Peru",
          "Saudi Arabia",
          "Madagascar",
          "Ivory Coast",
          "Nepal",
          "Cameroon",
          "Venezuela",
          "Niger",
          "Australia",
          "North Korea",
          "Syria",
          "Mali",
          "Burkina Faso",
          "Taiwan",
          "Sri Lanka",
          "Malawi",
          "Zambia",
          "Kazakhstan",
          "Chad",
          "Chile",
          "Romania",
          "Somalia",
          "Senegal",
          "Guatemala",
          "Netherlands",
          "Ecuador",
          "Cambodia",
          "Zimbabwe",
          "Guinea",
          "Benin",
          "Rwanda",
          "Burundi",
          "Bolivia",
          "Tunisia",
          "South Sudan",
          "Haiti",
          "Belgium",
          "Jordan",
          "Dominican Republic",
          "United Arab Emirates",
          "Cuba",
          "Honduras",
          "Czech Republic",
          "Sweden",
          "Tajikistan",
          "Papua New Guinea",
          "Portugal",
          "Azerbaijan",
          "Greece",
          "Hungary",
          "Togo",
          "Israel",
          "Austria",
          "Belarus",
          "Switzerland",
          "Sierra Leone",
          "Laos",
          "Turkmenistan",
          "Libya",
          "Kyrgyzstan",
          "Paraguay",
          "Nicaragua",
          "Bulgaria",
          "Serbia",
          "El Salvador",
          "Republic of the Congo",
          "Denmark",
          "Singapore",
          "Lebanon",
          "Finland",
          "Liberia",
          "Norway",
          "Slovakia",
          "Palestine",
          "Central African Republic",
          "Oman",
          "Ireland",
          "New Zealand",
          "Mauritania",
          "Costa Rica",
          "Kuwait",
          "Panama",
          "Croatia",
          "Georgia",
          "Eritrea",
          "Mongolia",
          "Uruguay",
          "Puerto Rico",
          "Bosnia and Herzegovina",
          "Qatar",
          "Moldova",
          "Namibia",
          "Armenia",
          "Lithuania",
          "Jamaica",
          "Albania",
          "Gambia",
          "Gabon",
          "Botswana",
          "Lesotho",
          "Guinea-Bissau",
          "Slovenia",
          "Equatorial Guinea",
          "Latvia",
          "North Macedonia",
          "Bahrain",
          "Trinidad and Tobago",
          "Timor-Leste",
          "Estonia",
          "Cyprus",
          "Mauritius",
          "Eswatini",
          "Djibouti",
          "Fiji",
          "Comoros",
          "Guyana",
          "Solomon Islands",
          "Bhutan",
          "Luxembourg",
          "Montenegro",
          "Suriname",
          "Malta",
          "Maldives",
          "Cape Verde",
          "Brunei",
          "Belize",
          "Bahamas",
          "Iceland",
          "Vanuatu",
          "Barbados",
          "Sao Tome and Principe",
          "Samoa",
          "Saint Lucia",
          "Guam",
          "Kiribati",
          "Seychelles",
          "Grenada",
          "Micronesia",
          "Tonga",
          "Saint Vincent and the Grenadines",
          "Antigua and Barbuda",
          "United States Virgin Islands",
          "Andorra",
          "Dominica",
          "Bermuda",
          "Greenland",
          "Saint Kitts and Nevis",
          "American Samoa",
          "Northern Mariana Islands",
          "Monaco",
          "Marshall Islands",
          "San Marino",
          "Palau",
          "Cook Islands",
          "Nauru",
          "Tuvalu",
          "Tokelau",
          "Niue"
         ],
         "yaxis": "y"
        }
       ],
       "layout": {
        "coloraxis": {
         "colorbar": {
          "title": {
           "text": "Female_RatePer100k_2021"
          }
         },
         "colorscale": [
          [
           0,
           "#440154"
          ],
          [
           0.1111111111111111,
           "#482878"
          ],
          [
           0.2222222222222222,
           "#3e4989"
          ],
          [
           0.3333333333333333,
           "#31688e"
          ],
          [
           0.4444444444444444,
           "#26828e"
          ],
          [
           0.5555555555555556,
           "#1f9e89"
          ],
          [
           0.6666666666666666,
           "#35b779"
          ],
          [
           0.7777777777777778,
           "#6ece58"
          ],
          [
           0.8888888888888888,
           "#b5de2b"
          ],
          [
           1,
           "#fde725"
          ]
         ]
        },
        "height": 800,
        "hoverlabel": {
         "font": {
          "size": 14
         }
        },
        "legend": {
         "tracegroupgap": 0
        },
        "margin": {
         "b": 100,
         "l": 100,
         "r": 50,
         "t": 50
        },
        "showlegend": false,
        "template": {
         "data": {
          "candlestick": [
           {
            "decreasing": {
             "line": {
              "color": "#000033"
             }
            },
            "increasing": {
             "line": {
              "color": "#000032"
             }
            },
            "type": "candlestick"
           }
          ],
          "contour": [
           {
            "colorscale": [
             [
              0,
              "#000011"
             ],
             [
              0.1111111111111111,
              "#000012"
             ],
             [
              0.2222222222222222,
              "#000013"
             ],
             [
              0.3333333333333333,
              "#000014"
             ],
             [
              0.4444444444444444,
              "#000015"
             ],
             [
              0.5555555555555556,
              "#000016"
             ],
             [
              0.6666666666666666,
              "#000017"
             ],
             [
              0.7777777777777778,
              "#000018"
             ],
             [
              0.8888888888888888,
              "#000019"
             ],
             [
              1,
              "#000020"
             ]
            ],
            "type": "contour"
           }
          ],
          "contourcarpet": [
           {
            "colorscale": [
             [
              0,
              "#000011"
             ],
             [
              0.1111111111111111,
              "#000012"
             ],
             [
              0.2222222222222222,
              "#000013"
             ],
             [
              0.3333333333333333,
              "#000014"
             ],
             [
              0.4444444444444444,
              "#000015"
             ],
             [
              0.5555555555555556,
              "#000016"
             ],
             [
              0.6666666666666666,
              "#000017"
             ],
             [
              0.7777777777777778,
              "#000018"
             ],
             [
              0.8888888888888888,
              "#000019"
             ],
             [
              1,
              "#000020"
             ]
            ],
            "type": "contourcarpet"
           }
          ],
          "heatmap": [
           {
            "colorscale": [
             [
              0,
              "#000011"
             ],
             [
              0.1111111111111111,
              "#000012"
             ],
             [
              0.2222222222222222,
              "#000013"
             ],
             [
              0.3333333333333333,
              "#000014"
             ],
             [
              0.4444444444444444,
              "#000015"
             ],
             [
              0.5555555555555556,
              "#000016"
             ],
             [
              0.6666666666666666,
              "#000017"
             ],
             [
              0.7777777777777778,
              "#000018"
             ],
             [
              0.8888888888888888,
              "#000019"
             ],
             [
              1,
              "#000020"
             ]
            ],
            "type": "heatmap"
           }
          ],
          "histogram2d": [
           {
            "colorscale": [
             [
              0,
              "#000011"
             ],
             [
              0.1111111111111111,
              "#000012"
             ],
             [
              0.2222222222222222,
              "#000013"
             ],
             [
              0.3333333333333333,
              "#000014"
             ],
             [
              0.4444444444444444,
              "#000015"
             ],
             [
              0.5555555555555556,
              "#000016"
             ],
             [
              0.6666666666666666,
              "#000017"
             ],
             [
              0.7777777777777778,
              "#000018"
             ],
             [
              0.8888888888888888,
              "#000019"
             ],
             [
              1,
              "#000020"
             ]
            ],
            "type": "histogram2d"
           }
          ],
          "icicle": [
           {
            "textfont": {
             "color": "white"
            },
            "type": "icicle"
           }
          ],
          "sankey": [
           {
            "textfont": {
             "color": "#000036"
            },
            "type": "sankey"
           }
          ],
          "scatter": [
           {
            "marker": {
             "line": {
              "width": 0
             }
            },
            "type": "scatter"
           }
          ],
          "table": [
           {
            "cells": {
             "fill": {
              "color": "#000038"
             },
             "font": {
              "color": "#000037"
             },
             "line": {
              "color": "#000039"
             }
            },
            "header": {
             "fill": {
              "color": "#000040"
             },
             "font": {
              "color": "#000036"
             },
             "line": {
              "color": "#000039"
             }
            },
            "type": "table"
           }
          ],
          "waterfall": [
           {
            "connector": {
             "line": {
              "color": "#000036",
              "width": 2
             }
            },
            "decreasing": {
             "marker": {
              "color": "#000033"
             }
            },
            "increasing": {
             "marker": {
              "color": "#000032"
             }
            },
            "totals": {
             "marker": {
              "color": "#000034"
             }
            },
            "type": "waterfall"
           }
          ]
         },
         "layout": {
          "coloraxis": {
           "colorscale": [
            [
             0,
             "#000011"
            ],
            [
             0.1111111111111111,
             "#000012"
            ],
            [
             0.2222222222222222,
             "#000013"
            ],
            [
             0.3333333333333333,
             "#000014"
            ],
            [
             0.4444444444444444,
             "#000015"
            ],
            [
             0.5555555555555556,
             "#000016"
            ],
            [
             0.6666666666666666,
             "#000017"
            ],
            [
             0.7777777777777778,
             "#000018"
            ],
            [
             0.8888888888888888,
             "#000019"
            ],
            [
             1,
             "#000020"
            ]
           ]
          },
          "colorscale": {
           "diverging": [
            [
             0,
             "#000021"
            ],
            [
             0.1,
             "#000022"
            ],
            [
             0.2,
             "#000023"
            ],
            [
             0.3,
             "#000024"
            ],
            [
             0.4,
             "#000025"
            ],
            [
             0.5,
             "#000026"
            ],
            [
             0.6,
             "#000027"
            ],
            [
             0.7,
             "#000028"
            ],
            [
             0.8,
             "#000029"
            ],
            [
             0.9,
             "#000030"
            ],
            [
             1,
             "#000031"
            ]
           ],
           "sequential": [
            [
             0,
             "#000011"
            ],
            [
             0.1111111111111111,
             "#000012"
            ],
            [
             0.2222222222222222,
             "#000013"
            ],
            [
             0.3333333333333333,
             "#000014"
            ],
            [
             0.4444444444444444,
             "#000015"
            ],
            [
             0.5555555555555556,
             "#000016"
            ],
            [
             0.6666666666666666,
             "#000017"
            ],
            [
             0.7777777777777778,
             "#000018"
            ],
            [
             0.8888888888888888,
             "#000019"
            ],
            [
             1,
             "#000020"
            ]
           ],
           "sequentialminus": [
            [
             0,
             "#000011"
            ],
            [
             0.1111111111111111,
             "#000012"
            ],
            [
             0.2222222222222222,
             "#000013"
            ],
            [
             0.3333333333333333,
             "#000014"
            ],
            [
             0.4444444444444444,
             "#000015"
            ],
            [
             0.5555555555555556,
             "#000016"
            ],
            [
             0.6666666666666666,
             "#000017"
            ],
            [
             0.7777777777777778,
             "#000018"
            ],
            [
             0.8888888888888888,
             "#000019"
            ],
            [
             1,
             "#000020"
            ]
           ]
          },
          "colorway": [
           "#000001",
           "#000002",
           "#000003",
           "#000004",
           "#000005",
           "#000006",
           "#000007",
           "#000008",
           "#000009",
           "#000010"
          ]
         }
        },
        "title": {
         "text": "Female Suicide Rates per 100k (Filtered by Rate Range)"
        },
        "updatemenus": [
         {
          "buttons": [
           {
            "args": [
             "xaxis.range",
             [
              0.3,
              0.3
             ]
            ],
            "label": "Suicide Rate < 0.3",
            "method": "relayout"
           },
           {
            "args": [
             "xaxis.range",
             [
              0.3,
              29.4
             ]
            ],
            "label": "Suicide Rate between 0.3 and 29.4",
            "method": "relayout"
           },
           {
            "args": [
             "xaxis.range",
             [
              29.4,
              29.4
             ]
            ],
            "label": "Suicide Rate > 29.4",
            "method": "relayout"
           }
          ],
          "direction": "down",
          "type": "dropdown",
          "x": 0.17,
          "y": 1.15
         }
        ],
        "width": 1200,
        "xaxis": {
         "anchor": "y",
         "domain": [
          0,
          1
         ],
         "title": {
          "text": "Female Rate Per100k(2021)"
         }
        },
        "yaxis": {
         "anchor": "x",
         "domain": [
          0,
          1
         ],
         "title": {
          "text": "Country"
         }
        }
       }
      }
     },
     "metadata": {},
     "output_type": "display_data"
    }
   ],
   "source": [
    "df['Female_RatePer100k_2021'] = pd.to_numeric(df['Female_RatePer100k_2021'], errors='coerce')\n",
    "\n",
    "'''This Function to creates a scatter plot'''\n",
    "def create_scatter_plot(df, x_col, y_col, color_col, color_scale=\"Viridis\"):\n",
    "    fig = px.scatter(df, \n",
    "                     x=x_col, \n",
    "                     y=y_col, \n",
    "                     hover_name=y_col,  \n",
    "                     color=color_col, \n",
    "                     color_continuous_scale=color_scale)\n",
    "    return fig\n",
    "\n",
    "'''This Function updates the layout of the figure'''\n",
    "def update_layout(fig, title, xaxis_title, yaxis_title, width=1200, height=800):\n",
    "    fig.update_layout(\n",
    "        width=width,  \n",
    "        height=height,\n",
    "        margin=dict(l=100, r=50, t=50, b=100), \n",
    "        title=title,  \n",
    "        xaxis_title=xaxis_title,  \n",
    "        yaxis_title=yaxis_title, \n",
    "        showlegend=False, \n",
    "        hoverlabel=dict(font_size=14),\n",
    "    )\n",
    "    return fig\n",
    "\n",
    "'''Function to create the dropdown for filtering based on suicide rate'''\n",
    "def create_rate_range_dropdown(min_rate, max_rate):\n",
    "    return [\n",
    "        dict(\n",
    "            label=f\"Suicide Rate < {min_rate}\",\n",
    "            method=\"relayout\",\n",
    "            args=[\"xaxis.range\", [df['Female_RatePer100k_2021'].min(), min_rate]]\n",
    "        ),\n",
    "        dict(\n",
    "            label=f\"Suicide Rate between {min_rate} and {max_rate}\",\n",
    "            method=\"relayout\",\n",
    "            args=[\"xaxis.range\", [min_rate, max_rate]]\n",
    "        ),\n",
    "        dict(\n",
    "            label=f\"Suicide Rate > {max_rate}\",\n",
    "            method=\"relayout\",\n",
    "            args=[\"xaxis.range\", [max_rate, df['Female_RatePer100k_2021'].max()]]\n",
    "        ),\n",
    "    ]\n",
    "\n",
    "'''Function to filter the dataframe based on suicide rate range'''\n",
    "def filter_data_by_rate_range(df, min_rate, max_rate):\n",
    "    return df[(df['Female_RatePer100k_2021'] >= min_rate) & (df['Female_RatePer100k_2021'] <= max_rate)]\n",
    "\n",
    "'''Main function to display the interactive plot'''\n",
    "def display_interactive_plot():\n",
    "    '''Sidebar filter for suicide rate range'''\n",
    "    min_rate, max_rate = st.sidebar.slider(\n",
    "        \"Select Suicide Rate Range (per 100k)\",\n",
    "        min_value=float(df['Female_RatePer100k_2021'].min()),\n",
    "        max_value=float(df['Female_RatePer100k_2021'].max()),\n",
    "        value=(float(df['Female_RatePer100k_2021'].min()), float(df['Female_RatePer100k_2021'].max()))\n",
    "    )\n",
    "\n",
    "    '''Filter the data based on selected rate range'''\n",
    "    filtered_df = filter_data_by_rate_range(df, min_rate, max_rate)\n",
    "\n",
    "    '''Create the scatter plot'''\n",
    "    fig = create_scatter_plot(filtered_df, 'Female_RatePer100k_2021', 'country', 'Female_RatePer100k_2021')\n",
    "\n",
    "    '''Create the dropdown buttons for rate range selection'''\n",
    "    rate_range_buttons = create_rate_range_dropdown(min_rate, max_rate)\n",
    "\n",
    "    '''Add dropdown buttons to the plot'''\n",
    "    fig.update_layout(\n",
    "        updatemenus=[\n",
    "            dict(\n",
    "                type=\"dropdown\",\n",
    "                direction=\"down\",\n",
    "                x=0.17,\n",
    "                y=1.15,\n",
    "                buttons=rate_range_buttons\n",
    "            ),\n",
    "        ]\n",
    "    )\n",
    "\n",
    "    '''Update the layout of the figure'''\n",
    "    fig = update_layout(fig, \n",
    "                        title=f'Female Suicide Rates per 100k (Filtered by Rate Range)', \n",
    "                        xaxis_title='Female Rate Per100k(2021)',\n",
    "                        yaxis_title='Country')\n",
    "\n",
    "    ''' Show the plot'''\n",
    "    fig.show()\n",
    "\n",
    "'''Call the main function to display the plot'''\n",
    "display_interactive_plot()"
   ]
  },
  {
   "cell_type": "code",
   "execution_count": 5,
   "id": "b2f22f51-1d50-404f-8eaf-f5a637919004",
   "metadata": {},
   "outputs": [
    {
     "data": {
      "application/vnd.plotly.v1+json": {
       "config": {
        "plotlyServerURL": "https://plot.ly"
       },
       "data": [
        {
         "hovertemplate": "<b>%{hovertext}</b><br><br>M+F_RatePer100k_2020=%{marker.color}<br>country=%{y}<extra></extra>",
         "hovertext": [
          "India",
          "China",
          "United States",
          "Indonesia",
          "Pakistan",
          "Nigeria",
          "Brazil",
          "Bangladesh",
          "Russia",
          "Ethiopia",
          "Mexico",
          "Japan",
          "Egypt",
          "Philippines",
          "DR Congo",
          "Vietnam",
          "Iran",
          "Turkey",
          "Germany",
          "Thailand",
          "United Kingdom",
          "Tanzania",
          "France",
          "South Africa",
          "Italy",
          "Kenya",
          "Myanmar",
          "Colombia",
          "South Korea",
          "Sudan",
          "Uganda",
          "Spain",
          "Algeria",
          "Iraq",
          "Argentina",
          "Afghanistan",
          "Yemen",
          "Canada",
          "Poland",
          "Morocco",
          "Angola",
          "Ukraine",
          "Uzbekistan",
          "Malaysia",
          "Mozambique",
          "Ghana",
          "Peru",
          "Saudi Arabia",
          "Madagascar",
          "Ivory Coast",
          "Nepal",
          "Cameroon",
          "Venezuela",
          "Niger",
          "Australia",
          "North Korea",
          "Syria",
          "Mali",
          "Burkina Faso",
          "Taiwan",
          "Sri Lanka",
          "Malawi",
          "Zambia",
          "Kazakhstan",
          "Chad",
          "Chile",
          "Romania",
          "Somalia",
          "Senegal",
          "Guatemala",
          "Netherlands",
          "Ecuador",
          "Cambodia",
          "Zimbabwe",
          "Guinea",
          "Benin",
          "Rwanda",
          "Burundi",
          "Bolivia",
          "Tunisia",
          "South Sudan",
          "Haiti",
          "Belgium",
          "Jordan",
          "Dominican Republic",
          "United Arab Emirates",
          "Cuba",
          "Honduras",
          "Czech Republic",
          "Sweden",
          "Tajikistan",
          "Papua New Guinea",
          "Portugal",
          "Azerbaijan",
          "Greece",
          "Hungary",
          "Togo",
          "Israel",
          "Austria",
          "Belarus",
          "Switzerland",
          "Sierra Leone",
          "Laos",
          "Turkmenistan",
          "Libya",
          "Kyrgyzstan",
          "Paraguay",
          "Nicaragua",
          "Bulgaria",
          "Serbia",
          "El Salvador",
          "Republic of the Congo",
          "Denmark",
          "Singapore",
          "Lebanon",
          "Finland",
          "Liberia",
          "Norway",
          "Slovakia",
          "Palestine",
          "Central African Republic",
          "Oman",
          "Ireland",
          "New Zealand",
          "Mauritania",
          "Costa Rica",
          "Kuwait",
          "Panama",
          "Croatia",
          "Georgia",
          "Eritrea",
          "Mongolia",
          "Uruguay",
          "Puerto Rico",
          "Bosnia and Herzegovina",
          "Qatar",
          "Moldova",
          "Namibia",
          "Armenia",
          "Lithuania",
          "Jamaica",
          "Albania",
          "Gambia",
          "Gabon",
          "Botswana",
          "Lesotho",
          "Guinea-Bissau",
          "Slovenia",
          "Equatorial Guinea",
          "Latvia",
          "North Macedonia",
          "Bahrain",
          "Trinidad and Tobago",
          "Timor-Leste",
          "Estonia",
          "Cyprus",
          "Mauritius",
          "Eswatini",
          "Djibouti",
          "Fiji",
          "Comoros",
          "Guyana",
          "Solomon Islands",
          "Bhutan",
          "Luxembourg",
          "Montenegro",
          "Suriname",
          "Malta",
          "Maldives",
          "Cape Verde",
          "Brunei",
          "Belize",
          "Bahamas",
          "Iceland",
          "Vanuatu",
          "Barbados",
          "Sao Tome and Principe",
          "Samoa",
          "Saint Lucia",
          "Guam",
          "Kiribati",
          "Seychelles",
          "Grenada",
          "Micronesia",
          "Tonga",
          "Saint Vincent and the Grenadines",
          "Antigua and Barbuda",
          "United States Virgin Islands",
          "Andorra",
          "Dominica",
          "Bermuda",
          "Greenland",
          "Saint Kitts and Nevis",
          "American Samoa",
          "Northern Mariana Islands",
          "Monaco",
          "Marshall Islands",
          "San Marino",
          "Palau",
          "Cook Islands",
          "Nauru",
          "Tuvalu",
          "Tokelau",
          "Niue"
         ],
         "legendgroup": "",
         "marker": {
          "color": [
           13.28,
           9.04,
           15.38,
           1.66,
           5.89,
           4.3,
           7.75,
           3.7,
           24.25,
           6.12,
           6.73,
           17.53,
           1.02,
           3.59,
           8.08,
           8.02,
           4.38,
           3.82,
           12.58,
           11.95,
           8.29,
           5.65,
           14.27,
           15.1,
           6.22,
           6.84,
           3.56,
           6.77,
           25.63,
           4.34,
           5.88,
           7.55,
           2.76,
           4.44,
           11.01,
           3.63,
           3.56,
           12.84,
           15.21,
           3.67,
           6.9,
           22.9,
           9.12,
           4.55,
           9.44,
           5.78,
           2.97,
           7.86,
           6.25,
           7.13,
           12.97,
           7.2,
           8.06,
           3.59,
           12.87,
           10.87,
           0.89,
           4.14,
           6.6,
           15.87,
           14.86,
           837,
           8.28,
           18.03,
           5.44,
           10.41,
           10.6,
           5.85,
           7.68,
           5.42,
           11.27,
           8.4,
           4.53,
           17.56,
           5.09,
           5.38,
           7.35,
           7.14,
           5.55,
           3.06,
           8.14,
           7.16,
           15.93,
           1.06,
           5.41,
           2.69,
           15.86,
           3.9,
           12.56,
           12.98,
           3.41,
           2.32,
           11.66,
           2.48,
           5.23,
           17.01,
           7.89,
           5.36,
           14.92,
           20.14,
           11.48,
           5.08,
           5.28,
           9.73,
           5.57,
           9.17,
           5.91,
           5.75,
           13.45,
           16.46,
           8.11,
           9.56,
           11.71,
           8.15,
           0.93,
           16.38,
           6.54,
           12.22,
           12.43,
           0.77,
           11.74,
           1.05,
           8.75,
           11.27,
           3.46,
           8.98,
           2.1,
           5.35,
           14.24,
           8.8,
           9.58,
           15.94,
           20.05,
           7.15,
           11.52,
           3.88,
           14.79,
           11.66,
           5.6,
           28.07,
           1.37,
           4.02,
           5.58,
           9.82,
           9.76,
           20.77,
           8.58,
           17.07,
           6.86,
           18.74,
           7.96,
           4.31,
           13.93,
           4.04,
           15.08,
           4.01,
           11.22,
           18.87,
           5.62,
           9.01,
           6.28,
           31.71,
           18.55,
           5.74,
           8.93,
           16.87,
           25.17,
           5.06,
           2.12,
           15.02,
           4.33,
           5.03,
           2.61,
           12.12,
           16.37,
           4.79,
           1.13,
           12.27,
           6.79,
           18.33,
           17.4,
           7.3,
           4.65,
           20.16,
           4.62,
           6.12,
           1.49,
           8.14,
           7.92,
           4.18,
           3.72,
           64.6,
           2.8,
           8.46,
           13.21,
           15.5,
           20.11,
           8.01,
           15.04,
           11.63,
           23.66,
           16.61,
           15.95,
           15.63
          ],
          "coloraxis": "coloraxis",
          "symbol": "circle"
         },
         "mode": "markers",
         "name": "",
         "orientation": "h",
         "showlegend": false,
         "type": "scatter",
         "x": [
          13.28,
          9.04,
          15.38,
          1.66,
          5.89,
          4.3,
          7.75,
          3.7,
          24.25,
          6.12,
          6.73,
          17.53,
          1.02,
          3.59,
          8.08,
          8.02,
          4.38,
          3.82,
          12.58,
          11.95,
          8.29,
          5.65,
          14.27,
          15.1,
          6.22,
          6.84,
          3.56,
          6.77,
          25.63,
          4.34,
          5.88,
          7.55,
          2.76,
          4.44,
          11.01,
          3.63,
          3.56,
          12.84,
          15.21,
          3.67,
          6.9,
          22.9,
          9.12,
          4.55,
          9.44,
          5.78,
          2.97,
          7.86,
          6.25,
          7.13,
          12.97,
          7.2,
          8.06,
          3.59,
          12.87,
          10.87,
          0.89,
          4.14,
          6.6,
          15.87,
          14.86,
          837,
          8.28,
          18.03,
          5.44,
          10.41,
          10.6,
          5.85,
          7.68,
          5.42,
          11.27,
          8.4,
          4.53,
          17.56,
          5.09,
          5.38,
          7.35,
          7.14,
          5.55,
          3.06,
          8.14,
          7.16,
          15.93,
          1.06,
          5.41,
          2.69,
          15.86,
          3.9,
          12.56,
          12.98,
          3.41,
          2.32,
          11.66,
          2.48,
          5.23,
          17.01,
          7.89,
          5.36,
          14.92,
          20.14,
          11.48,
          5.08,
          5.28,
          9.73,
          5.57,
          9.17,
          5.91,
          5.75,
          13.45,
          16.46,
          8.11,
          9.56,
          11.71,
          8.15,
          0.93,
          16.38,
          6.54,
          12.22,
          12.43,
          0.77,
          11.74,
          1.05,
          8.75,
          11.27,
          3.46,
          8.98,
          2.1,
          5.35,
          14.24,
          8.8,
          9.58,
          15.94,
          20.05,
          7.15,
          11.52,
          3.88,
          14.79,
          11.66,
          5.6,
          28.07,
          1.37,
          4.02,
          5.58,
          9.82,
          9.76,
          20.77,
          8.58,
          17.07,
          6.86,
          18.74,
          7.96,
          4.31,
          13.93,
          4.04,
          15.08,
          4.01,
          11.22,
          18.87,
          5.62,
          9.01,
          6.28,
          31.71,
          18.55,
          5.74,
          8.93,
          16.87,
          25.17,
          5.06,
          2.12,
          15.02,
          4.33,
          5.03,
          2.61,
          12.12,
          16.37,
          4.79,
          1.13,
          12.27,
          6.79,
          18.33,
          17.4,
          7.3,
          4.65,
          20.16,
          4.62,
          6.12,
          1.49,
          8.14,
          7.92,
          4.18,
          3.72,
          64.6,
          2.8,
          8.46,
          13.21,
          15.5,
          20.11,
          8.01,
          15.04,
          11.63,
          23.66,
          16.61,
          15.95,
          15.63
         ],
         "xaxis": "x",
         "y": [
          "India",
          "China",
          "United States",
          "Indonesia",
          "Pakistan",
          "Nigeria",
          "Brazil",
          "Bangladesh",
          "Russia",
          "Ethiopia",
          "Mexico",
          "Japan",
          "Egypt",
          "Philippines",
          "DR Congo",
          "Vietnam",
          "Iran",
          "Turkey",
          "Germany",
          "Thailand",
          "United Kingdom",
          "Tanzania",
          "France",
          "South Africa",
          "Italy",
          "Kenya",
          "Myanmar",
          "Colombia",
          "South Korea",
          "Sudan",
          "Uganda",
          "Spain",
          "Algeria",
          "Iraq",
          "Argentina",
          "Afghanistan",
          "Yemen",
          "Canada",
          "Poland",
          "Morocco",
          "Angola",
          "Ukraine",
          "Uzbekistan",
          "Malaysia",
          "Mozambique",
          "Ghana",
          "Peru",
          "Saudi Arabia",
          "Madagascar",
          "Ivory Coast",
          "Nepal",
          "Cameroon",
          "Venezuela",
          "Niger",
          "Australia",
          "North Korea",
          "Syria",
          "Mali",
          "Burkina Faso",
          "Taiwan",
          "Sri Lanka",
          "Malawi",
          "Zambia",
          "Kazakhstan",
          "Chad",
          "Chile",
          "Romania",
          "Somalia",
          "Senegal",
          "Guatemala",
          "Netherlands",
          "Ecuador",
          "Cambodia",
          "Zimbabwe",
          "Guinea",
          "Benin",
          "Rwanda",
          "Burundi",
          "Bolivia",
          "Tunisia",
          "South Sudan",
          "Haiti",
          "Belgium",
          "Jordan",
          "Dominican Republic",
          "United Arab Emirates",
          "Cuba",
          "Honduras",
          "Czech Republic",
          "Sweden",
          "Tajikistan",
          "Papua New Guinea",
          "Portugal",
          "Azerbaijan",
          "Greece",
          "Hungary",
          "Togo",
          "Israel",
          "Austria",
          "Belarus",
          "Switzerland",
          "Sierra Leone",
          "Laos",
          "Turkmenistan",
          "Libya",
          "Kyrgyzstan",
          "Paraguay",
          "Nicaragua",
          "Bulgaria",
          "Serbia",
          "El Salvador",
          "Republic of the Congo",
          "Denmark",
          "Singapore",
          "Lebanon",
          "Finland",
          "Liberia",
          "Norway",
          "Slovakia",
          "Palestine",
          "Central African Republic",
          "Oman",
          "Ireland",
          "New Zealand",
          "Mauritania",
          "Costa Rica",
          "Kuwait",
          "Panama",
          "Croatia",
          "Georgia",
          "Eritrea",
          "Mongolia",
          "Uruguay",
          "Puerto Rico",
          "Bosnia and Herzegovina",
          "Qatar",
          "Moldova",
          "Namibia",
          "Armenia",
          "Lithuania",
          "Jamaica",
          "Albania",
          "Gambia",
          "Gabon",
          "Botswana",
          "Lesotho",
          "Guinea-Bissau",
          "Slovenia",
          "Equatorial Guinea",
          "Latvia",
          "North Macedonia",
          "Bahrain",
          "Trinidad and Tobago",
          "Timor-Leste",
          "Estonia",
          "Cyprus",
          "Mauritius",
          "Eswatini",
          "Djibouti",
          "Fiji",
          "Comoros",
          "Guyana",
          "Solomon Islands",
          "Bhutan",
          "Luxembourg",
          "Montenegro",
          "Suriname",
          "Malta",
          "Maldives",
          "Cape Verde",
          "Brunei",
          "Belize",
          "Bahamas",
          "Iceland",
          "Vanuatu",
          "Barbados",
          "Sao Tome and Principe",
          "Samoa",
          "Saint Lucia",
          "Guam",
          "Kiribati",
          "Seychelles",
          "Grenada",
          "Micronesia",
          "Tonga",
          "Saint Vincent and the Grenadines",
          "Antigua and Barbuda",
          "United States Virgin Islands",
          "Andorra",
          "Dominica",
          "Bermuda",
          "Greenland",
          "Saint Kitts and Nevis",
          "American Samoa",
          "Northern Mariana Islands",
          "Monaco",
          "Marshall Islands",
          "San Marino",
          "Palau",
          "Cook Islands",
          "Nauru",
          "Tuvalu",
          "Tokelau",
          "Niue"
         ],
         "yaxis": "y"
        }
       ],
       "layout": {
        "coloraxis": {
         "colorbar": {
          "title": {
           "text": "M+F_RatePer100k_2020"
          }
         },
         "colorscale": [
          [
           0,
           "#440154"
          ],
          [
           0.1111111111111111,
           "#482878"
          ],
          [
           0.2222222222222222,
           "#3e4989"
          ],
          [
           0.3333333333333333,
           "#31688e"
          ],
          [
           0.4444444444444444,
           "#26828e"
          ],
          [
           0.5555555555555556,
           "#1f9e89"
          ],
          [
           0.6666666666666666,
           "#35b779"
          ],
          [
           0.7777777777777778,
           "#6ece58"
          ],
          [
           0.8888888888888888,
           "#b5de2b"
          ],
          [
           1,
           "#fde725"
          ]
         ]
        },
        "height": 800,
        "hoverlabel": {
         "font": {
          "size": 14
         }
        },
        "legend": {
         "tracegroupgap": 0
        },
        "margin": {
         "b": 100,
         "l": 100,
         "r": 50,
         "t": 50
        },
        "showlegend": false,
        "template": {
         "data": {
          "candlestick": [
           {
            "decreasing": {
             "line": {
              "color": "#000033"
             }
            },
            "increasing": {
             "line": {
              "color": "#000032"
             }
            },
            "type": "candlestick"
           }
          ],
          "contour": [
           {
            "colorscale": [
             [
              0,
              "#000011"
             ],
             [
              0.1111111111111111,
              "#000012"
             ],
             [
              0.2222222222222222,
              "#000013"
             ],
             [
              0.3333333333333333,
              "#000014"
             ],
             [
              0.4444444444444444,
              "#000015"
             ],
             [
              0.5555555555555556,
              "#000016"
             ],
             [
              0.6666666666666666,
              "#000017"
             ],
             [
              0.7777777777777778,
              "#000018"
             ],
             [
              0.8888888888888888,
              "#000019"
             ],
             [
              1,
              "#000020"
             ]
            ],
            "type": "contour"
           }
          ],
          "contourcarpet": [
           {
            "colorscale": [
             [
              0,
              "#000011"
             ],
             [
              0.1111111111111111,
              "#000012"
             ],
             [
              0.2222222222222222,
              "#000013"
             ],
             [
              0.3333333333333333,
              "#000014"
             ],
             [
              0.4444444444444444,
              "#000015"
             ],
             [
              0.5555555555555556,
              "#000016"
             ],
             [
              0.6666666666666666,
              "#000017"
             ],
             [
              0.7777777777777778,
              "#000018"
             ],
             [
              0.8888888888888888,
              "#000019"
             ],
             [
              1,
              "#000020"
             ]
            ],
            "type": "contourcarpet"
           }
          ],
          "heatmap": [
           {
            "colorscale": [
             [
              0,
              "#000011"
             ],
             [
              0.1111111111111111,
              "#000012"
             ],
             [
              0.2222222222222222,
              "#000013"
             ],
             [
              0.3333333333333333,
              "#000014"
             ],
             [
              0.4444444444444444,
              "#000015"
             ],
             [
              0.5555555555555556,
              "#000016"
             ],
             [
              0.6666666666666666,
              "#000017"
             ],
             [
              0.7777777777777778,
              "#000018"
             ],
             [
              0.8888888888888888,
              "#000019"
             ],
             [
              1,
              "#000020"
             ]
            ],
            "type": "heatmap"
           }
          ],
          "histogram2d": [
           {
            "colorscale": [
             [
              0,
              "#000011"
             ],
             [
              0.1111111111111111,
              "#000012"
             ],
             [
              0.2222222222222222,
              "#000013"
             ],
             [
              0.3333333333333333,
              "#000014"
             ],
             [
              0.4444444444444444,
              "#000015"
             ],
             [
              0.5555555555555556,
              "#000016"
             ],
             [
              0.6666666666666666,
              "#000017"
             ],
             [
              0.7777777777777778,
              "#000018"
             ],
             [
              0.8888888888888888,
              "#000019"
             ],
             [
              1,
              "#000020"
             ]
            ],
            "type": "histogram2d"
           }
          ],
          "icicle": [
           {
            "textfont": {
             "color": "white"
            },
            "type": "icicle"
           }
          ],
          "sankey": [
           {
            "textfont": {
             "color": "#000036"
            },
            "type": "sankey"
           }
          ],
          "scatter": [
           {
            "marker": {
             "line": {
              "width": 0
             }
            },
            "type": "scatter"
           }
          ],
          "table": [
           {
            "cells": {
             "fill": {
              "color": "#000038"
             },
             "font": {
              "color": "#000037"
             },
             "line": {
              "color": "#000039"
             }
            },
            "header": {
             "fill": {
              "color": "#000040"
             },
             "font": {
              "color": "#000036"
             },
             "line": {
              "color": "#000039"
             }
            },
            "type": "table"
           }
          ],
          "waterfall": [
           {
            "connector": {
             "line": {
              "color": "#000036",
              "width": 2
             }
            },
            "decreasing": {
             "marker": {
              "color": "#000033"
             }
            },
            "increasing": {
             "marker": {
              "color": "#000032"
             }
            },
            "totals": {
             "marker": {
              "color": "#000034"
             }
            },
            "type": "waterfall"
           }
          ]
         },
         "layout": {
          "coloraxis": {
           "colorscale": [
            [
             0,
             "#000011"
            ],
            [
             0.1111111111111111,
             "#000012"
            ],
            [
             0.2222222222222222,
             "#000013"
            ],
            [
             0.3333333333333333,
             "#000014"
            ],
            [
             0.4444444444444444,
             "#000015"
            ],
            [
             0.5555555555555556,
             "#000016"
            ],
            [
             0.6666666666666666,
             "#000017"
            ],
            [
             0.7777777777777778,
             "#000018"
            ],
            [
             0.8888888888888888,
             "#000019"
            ],
            [
             1,
             "#000020"
            ]
           ]
          },
          "colorscale": {
           "diverging": [
            [
             0,
             "#000021"
            ],
            [
             0.1,
             "#000022"
            ],
            [
             0.2,
             "#000023"
            ],
            [
             0.3,
             "#000024"
            ],
            [
             0.4,
             "#000025"
            ],
            [
             0.5,
             "#000026"
            ],
            [
             0.6,
             "#000027"
            ],
            [
             0.7,
             "#000028"
            ],
            [
             0.8,
             "#000029"
            ],
            [
             0.9,
             "#000030"
            ],
            [
             1,
             "#000031"
            ]
           ],
           "sequential": [
            [
             0,
             "#000011"
            ],
            [
             0.1111111111111111,
             "#000012"
            ],
            [
             0.2222222222222222,
             "#000013"
            ],
            [
             0.3333333333333333,
             "#000014"
            ],
            [
             0.4444444444444444,
             "#000015"
            ],
            [
             0.5555555555555556,
             "#000016"
            ],
            [
             0.6666666666666666,
             "#000017"
            ],
            [
             0.7777777777777778,
             "#000018"
            ],
            [
             0.8888888888888888,
             "#000019"
            ],
            [
             1,
             "#000020"
            ]
           ],
           "sequentialminus": [
            [
             0,
             "#000011"
            ],
            [
             0.1111111111111111,
             "#000012"
            ],
            [
             0.2222222222222222,
             "#000013"
            ],
            [
             0.3333333333333333,
             "#000014"
            ],
            [
             0.4444444444444444,
             "#000015"
            ],
            [
             0.5555555555555556,
             "#000016"
            ],
            [
             0.6666666666666666,
             "#000017"
            ],
            [
             0.7777777777777778,
             "#000018"
            ],
            [
             0.8888888888888888,
             "#000019"
            ],
            [
             1,
             "#000020"
            ]
           ]
          },
          "colorway": [
           "#000001",
           "#000002",
           "#000003",
           "#000004",
           "#000005",
           "#000006",
           "#000007",
           "#000008",
           "#000009",
           "#000010"
          ]
         }
        },
        "title": {
         "text": "M+F Suicide Rates per 100k (Filtered by Rate Range)"
        },
        "updatemenus": [
         {
          "buttons": [
           {
            "args": [
             "xaxis.range",
             [
              0.77,
              0.77
             ]
            ],
            "label": "Suicide Rate < 0.77",
            "method": "relayout"
           },
           {
            "args": [
             "xaxis.range",
             [
              0.77,
              837
             ]
            ],
            "label": "Suicide Rate between 0.77 and 837.0",
            "method": "relayout"
           },
           {
            "args": [
             "xaxis.range",
             [
              837,
              837
             ]
            ],
            "label": "Suicide Rate > 837.0",
            "method": "relayout"
           }
          ],
          "direction": "down",
          "type": "dropdown",
          "x": 0.17,
          "y": 1.15
         }
        ],
        "width": 1200,
        "xaxis": {
         "anchor": "y",
         "domain": [
          0,
          1
         ],
         "title": {
          "text": "M+F Rate Per100k(2020)"
         }
        },
        "yaxis": {
         "anchor": "x",
         "domain": [
          0,
          1
         ],
         "title": {
          "text": "Country"
         }
        }
       }
      }
     },
     "metadata": {},
     "output_type": "display_data"
    }
   ],
   "source": [
    "df['M+F_RatePer100k_2020'] = pd.to_numeric(df['M+F_RatePer100k_2020'], errors='coerce')\n",
    "\n",
    "'''This Function to creates a scatter plot'''\n",
    "def create_scatter_plot(df, x_col, y_col, color_col, color_scale=\"Viridis\"):\n",
    "    fig = px.scatter(df, \n",
    "                     x=x_col, \n",
    "                     y=y_col, \n",
    "                     hover_name=y_col,  \n",
    "                     color=color_col, \n",
    "                     color_continuous_scale=color_scale)\n",
    "    return fig\n",
    "\n",
    "'''This Function updates the layout of the figure'''\n",
    "def update_layout(fig, title, xaxis_title, yaxis_title, width=1200, height=800):\n",
    "    fig.update_layout(\n",
    "        width=width,  \n",
    "        height=height,\n",
    "        margin=dict(l=100, r=50, t=50, b=100), \n",
    "        title=title,  \n",
    "        xaxis_title=xaxis_title,  \n",
    "        yaxis_title=yaxis_title, \n",
    "        showlegend=False, \n",
    "        hoverlabel=dict(font_size=14),\n",
    "    )\n",
    "    return fig\n",
    "\n",
    "'''Function to create the dropdown for filtering based on suicide rate'''\n",
    "def create_rate_range_dropdown(min_rate, max_rate):\n",
    "    return [\n",
    "        dict(\n",
    "            label=f\"Suicide Rate < {min_rate}\",\n",
    "            method=\"relayout\",\n",
    "            args=[\"xaxis.range\", [df['M+F_RatePer100k_2020'].min(), min_rate]]\n",
    "        ),\n",
    "        dict(\n",
    "            label=f\"Suicide Rate between {min_rate} and {max_rate}\",\n",
    "            method=\"relayout\",\n",
    "            args=[\"xaxis.range\", [min_rate, max_rate]]\n",
    "        ),\n",
    "        dict(\n",
    "            label=f\"Suicide Rate > {max_rate}\",\n",
    "            method=\"relayout\",\n",
    "            args=[\"xaxis.range\", [max_rate, df['M+F_RatePer100k_2020'].max()]]\n",
    "        ),\n",
    "    ]\n",
    "\n",
    "'''Function to filter the dataframe based on suicide rate range'''\n",
    "def filter_data_by_rate_range(df, min_rate, max_rate):\n",
    "    return df[(df['M+F_RatePer100k_2020'] >= min_rate) & (df['M+F_RatePer100k_2020'] <= max_rate)]\n",
    "\n",
    "''' Main function to display the interactive plot'''\n",
    "def display_interactive_plot():\n",
    "    '''Sidebar filter for suicide rate range'''\n",
    "    min_rate, max_rate = st.sidebar.slider(\n",
    "        \"Select Suicide Rate Range (per 100k)\",\n",
    "        min_value=float(df['M+F_RatePer100k_2020'].min()),\n",
    "        max_value=float(df['M+F_RatePer100k_2020'].max()),\n",
    "        value=(float(df['M+F_RatePer100k_2020'].min()), float(df['M+F_RatePer100k_2020'].max()))\n",
    "    )\n",
    "\n",
    "    '''Filter the data based on selected rate range'''\n",
    "    filtered_df = filter_data_by_rate_range(df, min_rate, max_rate)\n",
    "\n",
    "    '''Create the scatter plot'''\n",
    "    fig = create_scatter_plot(filtered_df, 'M+F_RatePer100k_2020', 'country', 'M+F_RatePer100k_2020')\n",
    "\n",
    "    '''Create the dropdown buttons for rate range selection'''\n",
    "    rate_range_buttons = create_rate_range_dropdown(min_rate, max_rate)\n",
    "\n",
    "    ''' Add dropdown buttons to the plot'''\n",
    "    fig.update_layout(\n",
    "        updatemenus=[\n",
    "            dict(\n",
    "                type=\"dropdown\",\n",
    "                direction=\"down\",\n",
    "                x=0.17,\n",
    "                y=1.15,\n",
    "                buttons=rate_range_buttons\n",
    "            ),\n",
    "        ]\n",
    "    )\n",
    "\n",
    "    ''' Update the layout of the figure'''\n",
    "    fig = update_layout(fig, \n",
    "                        title=f'M+F Suicide Rates per 100k (Filtered by Rate Range)', \n",
    "                        xaxis_title='M+F Rate Per100k(2020)',\n",
    "                        yaxis_title='Country')\n",
    "\n",
    "    '''Show the plot'''\n",
    "    fig.show()\n",
    "\n",
    "''' Call the main function to display the plot'''\n",
    "display_interactive_plot()\n"
   ]
  },
  {
   "cell_type": "code",
   "execution_count": 6,
   "id": "8f60e11e-6e2f-491b-b291-c99718f4eedc",
   "metadata": {},
   "outputs": [
    {
     "data": {
      "application/vnd.plotly.v1+json": {
       "config": {
        "plotlyServerURL": "https://plot.ly"
       },
       "data": [
        {
         "hovertemplate": "<b>%{hovertext}</b><br><br>Male_RatePer100k_2020=%{marker.color}<br>country=%{y}<extra></extra>",
         "hovertext": [
          "India",
          "China",
          "United States",
          "Indonesia",
          "Pakistan",
          "Nigeria",
          "Brazil",
          "Bangladesh",
          "Russia",
          "Ethiopia",
          "Mexico",
          "Japan",
          "Egypt",
          "Philippines",
          "DR Congo",
          "Vietnam",
          "Iran",
          "Turkey",
          "Germany",
          "Thailand",
          "United Kingdom",
          "Tanzania",
          "France",
          "South Africa",
          "Italy",
          "Kenya",
          "Myanmar",
          "Colombia",
          "South Korea",
          "Sudan",
          "Uganda",
          "Spain",
          "Algeria",
          "Iraq",
          "Argentina",
          "Afghanistan",
          "Yemen",
          "Canada",
          "Poland",
          "Morocco",
          "Angola",
          "Ukraine",
          "Uzbekistan",
          "Malaysia",
          "Mozambique",
          "Ghana",
          "Peru",
          "Saudi Arabia",
          "Madagascar",
          "Ivory Coast",
          "Nepal",
          "Cameroon",
          "Venezuela",
          "Niger",
          "Australia",
          "North Korea",
          "Syria",
          "Mali",
          "Burkina Faso",
          "Taiwan",
          "Sri Lanka",
          "Malawi",
          "Zambia",
          "Kazakhstan",
          "Chad",
          "Chile",
          "Romania",
          "Somalia",
          "Senegal",
          "Guatemala",
          "Netherlands",
          "Ecuador",
          "Cambodia",
          "Zimbabwe",
          "Guinea",
          "Benin",
          "Rwanda",
          "Burundi",
          "Bolivia",
          "Tunisia",
          "South Sudan",
          "Haiti",
          "Belgium",
          "Jordan",
          "Dominican Republic",
          "United Arab Emirates",
          "Cuba",
          "Honduras",
          "Czech Republic",
          "Sweden",
          "Tajikistan",
          "Papua New Guinea",
          "Portugal",
          "Azerbaijan",
          "Greece",
          "Hungary",
          "Togo",
          "Israel",
          "Austria",
          "Belarus",
          "Switzerland",
          "Sierra Leone",
          "Laos",
          "Turkmenistan",
          "Libya",
          "Kyrgyzstan",
          "Paraguay",
          "Nicaragua",
          "Bulgaria",
          "Serbia",
          "El Salvador",
          "Republic of the Congo",
          "Denmark",
          "Singapore",
          "Lebanon",
          "Finland",
          "Liberia",
          "Norway",
          "Slovakia",
          "Palestine",
          "Central African Republic",
          "Oman",
          "Ireland",
          "New Zealand",
          "Mauritania",
          "Costa Rica",
          "Kuwait",
          "Panama",
          "Croatia",
          "Georgia",
          "Eritrea",
          "Mongolia",
          "Uruguay",
          "Puerto Rico",
          "Bosnia and Herzegovina",
          "Qatar",
          "Moldova",
          "Namibia",
          "Armenia",
          "Lithuania",
          "Jamaica",
          "Albania",
          "Gambia",
          "Gabon",
          "Botswana",
          "Lesotho",
          "Guinea-Bissau",
          "Slovenia",
          "Equatorial Guinea",
          "Latvia",
          "North Macedonia",
          "Bahrain",
          "Trinidad and Tobago",
          "Timor-Leste",
          "Estonia",
          "Cyprus",
          "Mauritius",
          "Eswatini",
          "Djibouti",
          "Fiji",
          "Comoros",
          "Guyana",
          "Solomon Islands",
          "Bhutan",
          "Luxembourg",
          "Montenegro",
          "Suriname",
          "Malta",
          "Maldives",
          "Cape Verde",
          "Brunei",
          "Belize",
          "Bahamas",
          "Iceland",
          "Vanuatu",
          "Barbados",
          "Sao Tome and Principe",
          "Samoa",
          "Saint Lucia",
          "Guam",
          "Kiribati",
          "Seychelles",
          "Grenada",
          "Micronesia",
          "Tonga",
          "Saint Vincent and the Grenadines",
          "Antigua and Barbuda",
          "United States Virgin Islands",
          "Andorra",
          "Dominica",
          "Bermuda",
          "Greenland",
          "Saint Kitts and Nevis",
          "American Samoa",
          "Northern Mariana Islands",
          "Monaco",
          "Marshall Islands",
          "San Marino",
          "Palau",
          "Cook Islands",
          "Nauru",
          "Tuvalu",
          "Tokelau",
          "Niue"
         ],
         "legendgroup": "",
         "marker": {
          "color": [
           15.7,
           10.52,
           24.33,
           2.23,
           8.54,
           7.28,
           12.46,
           5.18,
           42.42,
           9.34,
           11.3,
           25.4,
           1.5,
           5.69,
           12.32,
           10.98,
           6.52,
           5.95,
           19.33,
           19.98,
           12.89,
           8.86,
           22.87,
           25.24,
           10.01,
           10.54,
           6.02,
           11.07,
           36.61,
           5.44,
           9.86,
           11.58,
           3.59,
           6.56,
           18.19,
           4.18,
           4.61,
           19.98,
           27.44,
           4.23,
           11.2,
           40.96,
           12.4,
           6.98,
           16.17,
           9.33,
           4.44,
           10.92,
           8.97,
           11.65,
           17.99,
           11.43,
           14.08,
           4.66,
           19.73,
           12.2,
           1.43,
           5.3,
           10.5,
           21.56,
           23.88,
           13.96,
           13.63,
           30.58,
           7.91,
           17.43,
           18.3,
           7.2,
           12.03,
           8.41,
           15.25,
           13.34,
           6.42,
           26.5,
           6.99,
           8.43,
           11.11,
           10.96,
           7.61,
           4.39,
           12.45,
           10.22,
           23.33,
           1.59,
           8.69,
           3.16,
           25.06,
           6.45,
           20.59,
           17.83,
           4.95,
           2.89,
           18.35,
           3.87,
           8.69,
           26.57,
           12.42,
           8.7,
           23.15,
           35.07,
           17.03,
           6.88,
           7.64,
           14.58,
           7.66,
           14.53,
           8.79,
           8.81,
           21.13,
           24.93,
           12.95,
           14.42,
           16.88,
           10.89,
           1.18,
           25.02,
           9.2,
           17.36,
           21.49,
           1.2,
           18.88,
           1.49,
           14.24,
           16.98,
           4.85,
           15.7,
           3.32,
           8.91,
           22.28,
           14.83,
           14.09,
           28.08,
           34.15,
           12.78,
           18.77,
           5.12,
           26.25,
           20.2,
           8.92,
           50.46,
           2.32,
           5.16,
           8.1,
           16.96,
           15.77,
           32.8,
           12.87,
           27.78,
           10.26,
           33.36,
           11.18,
           6.05,
           23.4,
           5.55,
           25.62,
           6.33,
           18.63,
           32.09,
           7.68,
           12.42,
           7.79,
           53.32,
           27.58,
           7.54,
           13.19,
           26.07,
           40.11,
           8.37,
           3.2,
           25.58,
           6.63,
           8.78,
           4.74,
           19.06,
           25.05,
           8.43,
           1.73,
           17.21,
           12.44,
           31.29,
           30.26,
           12.64,
           7.35,
           30.65,
           5.93,
           11.06,
           2.74,
           14.81,
           12.26,
           7.38,
           6.58,
           94.39,
           4.87,
           12.59,
           19.87,
           21.42,
           29.07,
           12.87,
           17.22,
           18.3,
           35.25,
           23.92,
           19.71,
           20.66
          ],
          "coloraxis": "coloraxis",
          "symbol": "circle"
         },
         "mode": "markers",
         "name": "",
         "orientation": "h",
         "showlegend": false,
         "type": "scatter",
         "x": [
          15.7,
          10.52,
          24.33,
          2.23,
          8.54,
          7.28,
          12.46,
          5.18,
          42.42,
          9.34,
          11.3,
          25.4,
          1.5,
          5.69,
          12.32,
          10.98,
          6.52,
          5.95,
          19.33,
          19.98,
          12.89,
          8.86,
          22.87,
          25.24,
          10.01,
          10.54,
          6.02,
          11.07,
          36.61,
          5.44,
          9.86,
          11.58,
          3.59,
          6.56,
          18.19,
          4.18,
          4.61,
          19.98,
          27.44,
          4.23,
          11.2,
          40.96,
          12.4,
          6.98,
          16.17,
          9.33,
          4.44,
          10.92,
          8.97,
          11.65,
          17.99,
          11.43,
          14.08,
          4.66,
          19.73,
          12.2,
          1.43,
          5.3,
          10.5,
          21.56,
          23.88,
          13.96,
          13.63,
          30.58,
          7.91,
          17.43,
          18.3,
          7.2,
          12.03,
          8.41,
          15.25,
          13.34,
          6.42,
          26.5,
          6.99,
          8.43,
          11.11,
          10.96,
          7.61,
          4.39,
          12.45,
          10.22,
          23.33,
          1.59,
          8.69,
          3.16,
          25.06,
          6.45,
          20.59,
          17.83,
          4.95,
          2.89,
          18.35,
          3.87,
          8.69,
          26.57,
          12.42,
          8.7,
          23.15,
          35.07,
          17.03,
          6.88,
          7.64,
          14.58,
          7.66,
          14.53,
          8.79,
          8.81,
          21.13,
          24.93,
          12.95,
          14.42,
          16.88,
          10.89,
          1.18,
          25.02,
          9.2,
          17.36,
          21.49,
          1.2,
          18.88,
          1.49,
          14.24,
          16.98,
          4.85,
          15.7,
          3.32,
          8.91,
          22.28,
          14.83,
          14.09,
          28.08,
          34.15,
          12.78,
          18.77,
          5.12,
          26.25,
          20.2,
          8.92,
          50.46,
          2.32,
          5.16,
          8.1,
          16.96,
          15.77,
          32.8,
          12.87,
          27.78,
          10.26,
          33.36,
          11.18,
          6.05,
          23.4,
          5.55,
          25.62,
          6.33,
          18.63,
          32.09,
          7.68,
          12.42,
          7.79,
          53.32,
          27.58,
          7.54,
          13.19,
          26.07,
          40.11,
          8.37,
          3.2,
          25.58,
          6.63,
          8.78,
          4.74,
          19.06,
          25.05,
          8.43,
          1.73,
          17.21,
          12.44,
          31.29,
          30.26,
          12.64,
          7.35,
          30.65,
          5.93,
          11.06,
          2.74,
          14.81,
          12.26,
          7.38,
          6.58,
          94.39,
          4.87,
          12.59,
          19.87,
          21.42,
          29.07,
          12.87,
          17.22,
          18.3,
          35.25,
          23.92,
          19.71,
          20.66
         ],
         "xaxis": "x",
         "y": [
          "India",
          "China",
          "United States",
          "Indonesia",
          "Pakistan",
          "Nigeria",
          "Brazil",
          "Bangladesh",
          "Russia",
          "Ethiopia",
          "Mexico",
          "Japan",
          "Egypt",
          "Philippines",
          "DR Congo",
          "Vietnam",
          "Iran",
          "Turkey",
          "Germany",
          "Thailand",
          "United Kingdom",
          "Tanzania",
          "France",
          "South Africa",
          "Italy",
          "Kenya",
          "Myanmar",
          "Colombia",
          "South Korea",
          "Sudan",
          "Uganda",
          "Spain",
          "Algeria",
          "Iraq",
          "Argentina",
          "Afghanistan",
          "Yemen",
          "Canada",
          "Poland",
          "Morocco",
          "Angola",
          "Ukraine",
          "Uzbekistan",
          "Malaysia",
          "Mozambique",
          "Ghana",
          "Peru",
          "Saudi Arabia",
          "Madagascar",
          "Ivory Coast",
          "Nepal",
          "Cameroon",
          "Venezuela",
          "Niger",
          "Australia",
          "North Korea",
          "Syria",
          "Mali",
          "Burkina Faso",
          "Taiwan",
          "Sri Lanka",
          "Malawi",
          "Zambia",
          "Kazakhstan",
          "Chad",
          "Chile",
          "Romania",
          "Somalia",
          "Senegal",
          "Guatemala",
          "Netherlands",
          "Ecuador",
          "Cambodia",
          "Zimbabwe",
          "Guinea",
          "Benin",
          "Rwanda",
          "Burundi",
          "Bolivia",
          "Tunisia",
          "South Sudan",
          "Haiti",
          "Belgium",
          "Jordan",
          "Dominican Republic",
          "United Arab Emirates",
          "Cuba",
          "Honduras",
          "Czech Republic",
          "Sweden",
          "Tajikistan",
          "Papua New Guinea",
          "Portugal",
          "Azerbaijan",
          "Greece",
          "Hungary",
          "Togo",
          "Israel",
          "Austria",
          "Belarus",
          "Switzerland",
          "Sierra Leone",
          "Laos",
          "Turkmenistan",
          "Libya",
          "Kyrgyzstan",
          "Paraguay",
          "Nicaragua",
          "Bulgaria",
          "Serbia",
          "El Salvador",
          "Republic of the Congo",
          "Denmark",
          "Singapore",
          "Lebanon",
          "Finland",
          "Liberia",
          "Norway",
          "Slovakia",
          "Palestine",
          "Central African Republic",
          "Oman",
          "Ireland",
          "New Zealand",
          "Mauritania",
          "Costa Rica",
          "Kuwait",
          "Panama",
          "Croatia",
          "Georgia",
          "Eritrea",
          "Mongolia",
          "Uruguay",
          "Puerto Rico",
          "Bosnia and Herzegovina",
          "Qatar",
          "Moldova",
          "Namibia",
          "Armenia",
          "Lithuania",
          "Jamaica",
          "Albania",
          "Gambia",
          "Gabon",
          "Botswana",
          "Lesotho",
          "Guinea-Bissau",
          "Slovenia",
          "Equatorial Guinea",
          "Latvia",
          "North Macedonia",
          "Bahrain",
          "Trinidad and Tobago",
          "Timor-Leste",
          "Estonia",
          "Cyprus",
          "Mauritius",
          "Eswatini",
          "Djibouti",
          "Fiji",
          "Comoros",
          "Guyana",
          "Solomon Islands",
          "Bhutan",
          "Luxembourg",
          "Montenegro",
          "Suriname",
          "Malta",
          "Maldives",
          "Cape Verde",
          "Brunei",
          "Belize",
          "Bahamas",
          "Iceland",
          "Vanuatu",
          "Barbados",
          "Sao Tome and Principe",
          "Samoa",
          "Saint Lucia",
          "Guam",
          "Kiribati",
          "Seychelles",
          "Grenada",
          "Micronesia",
          "Tonga",
          "Saint Vincent and the Grenadines",
          "Antigua and Barbuda",
          "United States Virgin Islands",
          "Andorra",
          "Dominica",
          "Bermuda",
          "Greenland",
          "Saint Kitts and Nevis",
          "American Samoa",
          "Northern Mariana Islands",
          "Monaco",
          "Marshall Islands",
          "San Marino",
          "Palau",
          "Cook Islands",
          "Nauru",
          "Tuvalu",
          "Tokelau",
          "Niue"
         ],
         "yaxis": "y"
        }
       ],
       "layout": {
        "coloraxis": {
         "colorbar": {
          "title": {
           "text": "Male_RatePer100k_2020"
          }
         },
         "colorscale": [
          [
           0,
           "#440154"
          ],
          [
           0.1111111111111111,
           "#482878"
          ],
          [
           0.2222222222222222,
           "#3e4989"
          ],
          [
           0.3333333333333333,
           "#31688e"
          ],
          [
           0.4444444444444444,
           "#26828e"
          ],
          [
           0.5555555555555556,
           "#1f9e89"
          ],
          [
           0.6666666666666666,
           "#35b779"
          ],
          [
           0.7777777777777778,
           "#6ece58"
          ],
          [
           0.8888888888888888,
           "#b5de2b"
          ],
          [
           1,
           "#fde725"
          ]
         ]
        },
        "height": 800,
        "hoverlabel": {
         "font": {
          "size": 14
         }
        },
        "legend": {
         "tracegroupgap": 0
        },
        "margin": {
         "b": 100,
         "l": 100,
         "r": 50,
         "t": 50
        },
        "showlegend": false,
        "template": {
         "data": {
          "candlestick": [
           {
            "decreasing": {
             "line": {
              "color": "#000033"
             }
            },
            "increasing": {
             "line": {
              "color": "#000032"
             }
            },
            "type": "candlestick"
           }
          ],
          "contour": [
           {
            "colorscale": [
             [
              0,
              "#000011"
             ],
             [
              0.1111111111111111,
              "#000012"
             ],
             [
              0.2222222222222222,
              "#000013"
             ],
             [
              0.3333333333333333,
              "#000014"
             ],
             [
              0.4444444444444444,
              "#000015"
             ],
             [
              0.5555555555555556,
              "#000016"
             ],
             [
              0.6666666666666666,
              "#000017"
             ],
             [
              0.7777777777777778,
              "#000018"
             ],
             [
              0.8888888888888888,
              "#000019"
             ],
             [
              1,
              "#000020"
             ]
            ],
            "type": "contour"
           }
          ],
          "contourcarpet": [
           {
            "colorscale": [
             [
              0,
              "#000011"
             ],
             [
              0.1111111111111111,
              "#000012"
             ],
             [
              0.2222222222222222,
              "#000013"
             ],
             [
              0.3333333333333333,
              "#000014"
             ],
             [
              0.4444444444444444,
              "#000015"
             ],
             [
              0.5555555555555556,
              "#000016"
             ],
             [
              0.6666666666666666,
              "#000017"
             ],
             [
              0.7777777777777778,
              "#000018"
             ],
             [
              0.8888888888888888,
              "#000019"
             ],
             [
              1,
              "#000020"
             ]
            ],
            "type": "contourcarpet"
           }
          ],
          "heatmap": [
           {
            "colorscale": [
             [
              0,
              "#000011"
             ],
             [
              0.1111111111111111,
              "#000012"
             ],
             [
              0.2222222222222222,
              "#000013"
             ],
             [
              0.3333333333333333,
              "#000014"
             ],
             [
              0.4444444444444444,
              "#000015"
             ],
             [
              0.5555555555555556,
              "#000016"
             ],
             [
              0.6666666666666666,
              "#000017"
             ],
             [
              0.7777777777777778,
              "#000018"
             ],
             [
              0.8888888888888888,
              "#000019"
             ],
             [
              1,
              "#000020"
             ]
            ],
            "type": "heatmap"
           }
          ],
          "histogram2d": [
           {
            "colorscale": [
             [
              0,
              "#000011"
             ],
             [
              0.1111111111111111,
              "#000012"
             ],
             [
              0.2222222222222222,
              "#000013"
             ],
             [
              0.3333333333333333,
              "#000014"
             ],
             [
              0.4444444444444444,
              "#000015"
             ],
             [
              0.5555555555555556,
              "#000016"
             ],
             [
              0.6666666666666666,
              "#000017"
             ],
             [
              0.7777777777777778,
              "#000018"
             ],
             [
              0.8888888888888888,
              "#000019"
             ],
             [
              1,
              "#000020"
             ]
            ],
            "type": "histogram2d"
           }
          ],
          "icicle": [
           {
            "textfont": {
             "color": "white"
            },
            "type": "icicle"
           }
          ],
          "sankey": [
           {
            "textfont": {
             "color": "#000036"
            },
            "type": "sankey"
           }
          ],
          "scatter": [
           {
            "marker": {
             "line": {
              "width": 0
             }
            },
            "type": "scatter"
           }
          ],
          "table": [
           {
            "cells": {
             "fill": {
              "color": "#000038"
             },
             "font": {
              "color": "#000037"
             },
             "line": {
              "color": "#000039"
             }
            },
            "header": {
             "fill": {
              "color": "#000040"
             },
             "font": {
              "color": "#000036"
             },
             "line": {
              "color": "#000039"
             }
            },
            "type": "table"
           }
          ],
          "waterfall": [
           {
            "connector": {
             "line": {
              "color": "#000036",
              "width": 2
             }
            },
            "decreasing": {
             "marker": {
              "color": "#000033"
             }
            },
            "increasing": {
             "marker": {
              "color": "#000032"
             }
            },
            "totals": {
             "marker": {
              "color": "#000034"
             }
            },
            "type": "waterfall"
           }
          ]
         },
         "layout": {
          "coloraxis": {
           "colorscale": [
            [
             0,
             "#000011"
            ],
            [
             0.1111111111111111,
             "#000012"
            ],
            [
             0.2222222222222222,
             "#000013"
            ],
            [
             0.3333333333333333,
             "#000014"
            ],
            [
             0.4444444444444444,
             "#000015"
            ],
            [
             0.5555555555555556,
             "#000016"
            ],
            [
             0.6666666666666666,
             "#000017"
            ],
            [
             0.7777777777777778,
             "#000018"
            ],
            [
             0.8888888888888888,
             "#000019"
            ],
            [
             1,
             "#000020"
            ]
           ]
          },
          "colorscale": {
           "diverging": [
            [
             0,
             "#000021"
            ],
            [
             0.1,
             "#000022"
            ],
            [
             0.2,
             "#000023"
            ],
            [
             0.3,
             "#000024"
            ],
            [
             0.4,
             "#000025"
            ],
            [
             0.5,
             "#000026"
            ],
            [
             0.6,
             "#000027"
            ],
            [
             0.7,
             "#000028"
            ],
            [
             0.8,
             "#000029"
            ],
            [
             0.9,
             "#000030"
            ],
            [
             1,
             "#000031"
            ]
           ],
           "sequential": [
            [
             0,
             "#000011"
            ],
            [
             0.1111111111111111,
             "#000012"
            ],
            [
             0.2222222222222222,
             "#000013"
            ],
            [
             0.3333333333333333,
             "#000014"
            ],
            [
             0.4444444444444444,
             "#000015"
            ],
            [
             0.5555555555555556,
             "#000016"
            ],
            [
             0.6666666666666666,
             "#000017"
            ],
            [
             0.7777777777777778,
             "#000018"
            ],
            [
             0.8888888888888888,
             "#000019"
            ],
            [
             1,
             "#000020"
            ]
           ],
           "sequentialminus": [
            [
             0,
             "#000011"
            ],
            [
             0.1111111111111111,
             "#000012"
            ],
            [
             0.2222222222222222,
             "#000013"
            ],
            [
             0.3333333333333333,
             "#000014"
            ],
            [
             0.4444444444444444,
             "#000015"
            ],
            [
             0.5555555555555556,
             "#000016"
            ],
            [
             0.6666666666666666,
             "#000017"
            ],
            [
             0.7777777777777778,
             "#000018"
            ],
            [
             0.8888888888888888,
             "#000019"
            ],
            [
             1,
             "#000020"
            ]
           ]
          },
          "colorway": [
           "#000001",
           "#000002",
           "#000003",
           "#000004",
           "#000005",
           "#000006",
           "#000007",
           "#000008",
           "#000009",
           "#000010"
          ]
         }
        },
        "title": {
         "text": "Male Suicide Rates per 100k (Filtered by Rate Range)"
        },
        "updatemenus": [
         {
          "buttons": [
           {
            "args": [
             "xaxis.range",
             [
              1.18,
              1.18
             ]
            ],
            "label": "Suicide Rate < 1.18",
            "method": "relayout"
           },
           {
            "args": [
             "xaxis.range",
             [
              1.18,
              94.39
             ]
            ],
            "label": "Suicide Rate between 1.18 and 94.39",
            "method": "relayout"
           },
           {
            "args": [
             "xaxis.range",
             [
              94.39,
              94.39
             ]
            ],
            "label": "Suicide Rate > 94.39",
            "method": "relayout"
           }
          ],
          "direction": "down",
          "type": "dropdown",
          "x": 0.17,
          "y": 1.15
         }
        ],
        "width": 1200,
        "xaxis": {
         "anchor": "y",
         "domain": [
          0,
          1
         ],
         "title": {
          "text": "Male Rate Per100k(2020)"
         }
        },
        "yaxis": {
         "anchor": "x",
         "domain": [
          0,
          1
         ],
         "title": {
          "text": "Country"
         }
        }
       }
      }
     },
     "metadata": {},
     "output_type": "display_data"
    }
   ],
   "source": [
    "df['Male_RatePer100k_2020'] = pd.to_numeric(df['Male_RatePer100k_2020'], errors='coerce')\n",
    "\n",
    "'''This Function to creates a scatter plot'''\n",
    "def create_scatter_plot(df, x_col, y_col, color_col, color_scale=\"Viridis\"):\n",
    "    fig = px.scatter(df, \n",
    "                     x=x_col, \n",
    "                     y=y_col, \n",
    "                     hover_name=y_col,  \n",
    "                     color=color_col, \n",
    "                     color_continuous_scale=color_scale)\n",
    "    return fig\n",
    "\n",
    "'''This Function updates the layout of the figure'''\n",
    "def update_layout(fig, title, xaxis_title, yaxis_title, width=1200, height=800):\n",
    "    fig.update_layout(\n",
    "        width=width,  \n",
    "        height=height,\n",
    "        margin=dict(l=100, r=50, t=50, b=100), \n",
    "        title=title,  \n",
    "        xaxis_title=xaxis_title,  \n",
    "        yaxis_title=yaxis_title, \n",
    "        showlegend=False, \n",
    "        hoverlabel=dict(font_size=14),\n",
    "    )\n",
    "    return fig\n",
    "\n",
    "'''Function to create the dropdown for filtering based on suicide rate'''\n",
    "def create_rate_range_dropdown(min_rate, max_rate):\n",
    "    return [\n",
    "        dict(\n",
    "            label=f\"Suicide Rate < {min_rate}\",\n",
    "            method=\"relayout\",\n",
    "            args=[\"xaxis.range\", [df['Male_RatePer100k_2020'].min(), min_rate]]\n",
    "        ),\n",
    "        dict(\n",
    "            label=f\"Suicide Rate between {min_rate} and {max_rate}\",\n",
    "            method=\"relayout\",\n",
    "            args=[\"xaxis.range\", [min_rate, max_rate]]\n",
    "        ),\n",
    "        dict(\n",
    "            label=f\"Suicide Rate > {max_rate}\",\n",
    "            method=\"relayout\",\n",
    "            args=[\"xaxis.range\", [max_rate, df['Male_RatePer100k_2020'].max()]]\n",
    "        ),\n",
    "    ]\n",
    "\n",
    "''' Function to filter the dataframe based on suicide rate range'''\n",
    "def filter_data_by_rate_range(df, min_rate, max_rate):\n",
    "    return df[(df['Male_RatePer100k_2020'] >= min_rate) & (df['Male_RatePer100k_2020'] <= max_rate)]\n",
    "\n",
    "'''Main function to display the interactive plot'''\n",
    "def display_interactive_plot():\n",
    "    '''Sidebar filter for suicide rate range'''\n",
    "    min_rate, max_rate = st.sidebar.slider(\n",
    "        \"Select Suicide Rate Range (per 100k)\",\n",
    "        min_value=float(df['Male_RatePer100k_2020'].min()),\n",
    "        max_value=float(df['Male_RatePer100k_2020'].max()),\n",
    "        value=(float(df['Male_RatePer100k_2020'].min()), float(df['Male_RatePer100k_2020'].max()))\n",
    "    )\n",
    "\n",
    "    ''' Filter the data based on selected rate range'''\n",
    "    filtered_df = filter_data_by_rate_range(df, min_rate, max_rate)\n",
    "\n",
    "    ''' Create the scatter plot'''\n",
    "    fig = create_scatter_plot(filtered_df, 'Male_RatePer100k_2020', 'country', 'Male_RatePer100k_2020')\n",
    "\n",
    "    ''' Create the dropdown buttons for rate range selection'''\n",
    "    rate_range_buttons = create_rate_range_dropdown(min_rate, max_rate)\n",
    "\n",
    "    ''' Add dropdown buttons to the plot'''\n",
    "    fig.update_layout(\n",
    "        updatemenus=[\n",
    "            dict(\n",
    "                type=\"dropdown\",\n",
    "                direction=\"down\",\n",
    "                x=0.17,\n",
    "                y=1.15,\n",
    "                buttons=rate_range_buttons\n",
    "            ),\n",
    "        ]\n",
    "    )\n",
    "\n",
    "    '''Update the layout of the figure'''\n",
    "    fig = update_layout(fig, \n",
    "                        title=f'Male Suicide Rates per 100k (Filtered by Rate Range)', \n",
    "                        xaxis_title='Male Rate Per100k(2020)',\n",
    "                        yaxis_title='Country')\n",
    "\n",
    "    ''' Show the plot'''\n",
    "    fig.show()\n",
    "\n",
    "''' Call the main function to display the plot'''\n",
    "display_interactive_plot()\n"
   ]
  },
  {
   "cell_type": "code",
   "execution_count": 7,
   "id": "a192fab0-a52b-468d-89d2-4fd716b07c2e",
   "metadata": {},
   "outputs": [
    {
     "data": {
      "application/vnd.plotly.v1+json": {
       "config": {
        "plotlyServerURL": "https://plot.ly"
       },
       "data": [
        {
         "hovertemplate": "<b>%{hovertext}</b><br><br>Female_RatePer100k_2020=%{marker.color}<br>country=%{y}<extra></extra>",
         "hovertext": [
          "India",
          "China",
          "United States",
          "Indonesia",
          "Pakistan",
          "Nigeria",
          "Brazil",
          "Bangladesh",
          "Russia",
          "Ethiopia",
          "Mexico",
          "Japan",
          "Egypt",
          "Philippines",
          "DR Congo",
          "Vietnam",
          "Iran",
          "Turkey",
          "Germany",
          "Thailand",
          "United Kingdom",
          "Tanzania",
          "France",
          "South Africa",
          "Italy",
          "Kenya",
          "Myanmar",
          "Colombia",
          "South Korea",
          "Sudan",
          "Uganda",
          "Spain",
          "Algeria",
          "Iraq",
          "Argentina",
          "Afghanistan",
          "Yemen",
          "Canada",
          "Poland",
          "Morocco",
          "Angola",
          "Ukraine",
          "Uzbekistan",
          "Malaysia",
          "Mozambique",
          "Ghana",
          "Peru",
          "Saudi Arabia",
          "Madagascar",
          "Ivory Coast",
          "Nepal",
          "Cameroon",
          "Venezuela",
          "Niger",
          "Australia",
          "North Korea",
          "Syria",
          "Mali",
          "Burkina Faso",
          "Taiwan",
          "Sri Lanka",
          "Malawi",
          "Zambia",
          "Kazakhstan",
          "Chad",
          "Chile",
          "Romania",
          "Somalia",
          "Senegal",
          "Guatemala",
          "Netherlands",
          "Ecuador",
          "Cambodia",
          "Zimbabwe",
          "Guinea",
          "Benin",
          "Rwanda",
          "Burundi",
          "Bolivia",
          "Tunisia",
          "South Sudan",
          "Haiti",
          "Belgium",
          "Jordan",
          "Dominican Republic",
          "United Arab Emirates",
          "Cuba",
          "Honduras",
          "Czech Republic",
          "Sweden",
          "Tajikistan",
          "Papua New Guinea",
          "Portugal",
          "Azerbaijan",
          "Greece",
          "Hungary",
          "Togo",
          "Israel",
          "Austria",
          "Belarus",
          "Switzerland",
          "Sierra Leone",
          "Laos",
          "Turkmenistan",
          "Libya",
          "Kyrgyzstan",
          "Paraguay",
          "Nicaragua",
          "Bulgaria",
          "Serbia",
          "El Salvador",
          "Republic of the Congo",
          "Denmark",
          "Singapore",
          "Lebanon",
          "Finland",
          "Liberia",
          "Norway",
          "Slovakia",
          "Palestine",
          "Central African Republic",
          "Oman",
          "Ireland",
          "New Zealand",
          "Mauritania",
          "Costa Rica",
          "Kuwait",
          "Panama",
          "Croatia",
          "Georgia",
          "Eritrea",
          "Mongolia",
          "Uruguay",
          "Puerto Rico",
          "Bosnia and Herzegovina",
          "Qatar",
          "Moldova",
          "Namibia",
          "Armenia",
          "Lithuania",
          "Jamaica",
          "Albania",
          "Gambia",
          "Gabon",
          "Botswana",
          "Lesotho",
          "Guinea-Bissau",
          "Slovenia",
          "Equatorial Guinea",
          "Latvia",
          "North Macedonia",
          "Bahrain",
          "Trinidad and Tobago",
          "Timor-Leste",
          "Estonia",
          "Cyprus",
          "Mauritius",
          "Eswatini",
          "Djibouti",
          "Fiji",
          "Comoros",
          "Guyana",
          "Solomon Islands",
          "Bhutan",
          "Luxembourg",
          "Montenegro",
          "Suriname",
          "Malta",
          "Maldives",
          "Cape Verde",
          "Brunei",
          "Belize",
          "Bahamas",
          "Iceland",
          "Vanuatu",
          "Barbados",
          "Sao Tome and Principe",
          "Samoa",
          "Saint Lucia",
          "Guam",
          "Kiribati",
          "Seychelles",
          "Grenada",
          "Micronesia",
          "Tonga",
          "Saint Vincent and the Grenadines",
          "Antigua and Barbuda",
          "United States Virgin Islands",
          "Andorra",
          "Dominica",
          "Bermuda",
          "Greenland",
          "Saint Kitts and Nevis",
          "American Samoa",
          "Northern Mariana Islands",
          "Monaco",
          "Marshall Islands",
          "San Marino",
          "Palau",
          "Cook Islands",
          "Nauru",
          "Tuvalu",
          "Tokelau",
          "Niue"
         ],
         "legendgroup": "",
         "marker": {
          "color": [
           10.73,
           7.5,
           6.73,
           1.07,
           3.1,
           1.55,
           3.25,
           2.26,
           8.44,
           2.84,
           2.36,
           10.05,
           0.51,
           1.43,
           3.76,
           5.07,
           2.17,
           1.68,
           5.9,
           4.44,
           3.85,
           2.6,
           6.17,
           5.35,
           2.63,
           3.18,
           1.27,
           2.63,
           14.56,
           3.2,
           2.01,
           3.69,
           1.91,
           2.16,
           4.17,
           3.04,
           2.48,
           5.9,
           3.74,
           3.09,
           2.85,
           7.32,
           5.85,
           1.95,
           3.19,
           2.41,
           1.48,
           3.56,
           3.6,
           2.29,
           8.41,
           2.99,
           2.39,
           2.53,
           6.17,
           9.55,
           0.39,
           2.99,
           2.95,
           10.28,
           6.43,
           3.06,
           3.02,
           6.22,
           3,
           3.6,
           3.32,
           4.45,
           3.3,
           2.6,
           7.34,
           3.51,
           2.7,
           9.25,
           3.3,
           2.43,
           3.79,
           3.31,
           3.48,
           1.74,
           3.8,
           4.23,
           8.75,
           0.46,
           2.09,
           1.48,
           6.75,
           1.48,
           4.78,
           8.06,
           1.83,
           1.71,
           5.61,
           1.09,
           1.97,
           8.31,
           3.53,
           2.04,
           6.91,
           7.13,
           5.97,
           3.3,
           2.9,
           4.67,
           3.35,
           3.95,
           2.97,
           2.75,
           6.23,
           8.04,
           3.84,
           4.76,
           6.59,
           5.3,
           0.69,
           7.96,
           3.81,
           6.98,
           3.78,
           0.32,
           4.85,
           0.34,
           3.38,
           5.59,
           2.12,
           2.7,
           0.72,
           1.73,
           6.66,
           3.26,
           4.93,
           4.1,
           7.06,
           2.06,
           4.57,
           0.8,
           4.37,
           3.61,
           2.5,
           8.93,
           0.43,
           2.87,
           3.13,
           3.17,
           3.9,
           9.44,
           4.49,
           6.51,
           2.85,
           6.28,
           4.65,
           1.34,
           4.42,
           2.49,
           5.69,
           1.75,
           3.99,
           6.19,
           3.22,
           5.51,
           4.78,
           10.59,
           9.14,
           3.79,
           4.61,
           7.87,
           10.58,
           1.76,
           0.43,
           4.29,
           1.77,
           1.33,
           0.61,
           5,
           7.5,
           1.41,
           0.52,
           7.04,
           1.13,
           4.97,
           5.05,
           1.35,
           1.83,
           9.26,
           3.31,
           0.96,
           0.29,
           1.86,
           3.33,
           0.88,
           1.04,
           31.59,
           0.73,
           4.14,
           5.84,
           9.9,
           10.71,
           3.45,
           12.38,
           5.32,
           11.86,
           8.68,
           12.05,
           10.54
          ],
          "coloraxis": "coloraxis",
          "symbol": "circle"
         },
         "mode": "markers",
         "name": "",
         "orientation": "h",
         "showlegend": false,
         "type": "scatter",
         "x": [
          10.73,
          7.5,
          6.73,
          1.07,
          3.1,
          1.55,
          3.25,
          2.26,
          8.44,
          2.84,
          2.36,
          10.05,
          0.51,
          1.43,
          3.76,
          5.07,
          2.17,
          1.68,
          5.9,
          4.44,
          3.85,
          2.6,
          6.17,
          5.35,
          2.63,
          3.18,
          1.27,
          2.63,
          14.56,
          3.2,
          2.01,
          3.69,
          1.91,
          2.16,
          4.17,
          3.04,
          2.48,
          5.9,
          3.74,
          3.09,
          2.85,
          7.32,
          5.85,
          1.95,
          3.19,
          2.41,
          1.48,
          3.56,
          3.6,
          2.29,
          8.41,
          2.99,
          2.39,
          2.53,
          6.17,
          9.55,
          0.39,
          2.99,
          2.95,
          10.28,
          6.43,
          3.06,
          3.02,
          6.22,
          3,
          3.6,
          3.32,
          4.45,
          3.3,
          2.6,
          7.34,
          3.51,
          2.7,
          9.25,
          3.3,
          2.43,
          3.79,
          3.31,
          3.48,
          1.74,
          3.8,
          4.23,
          8.75,
          0.46,
          2.09,
          1.48,
          6.75,
          1.48,
          4.78,
          8.06,
          1.83,
          1.71,
          5.61,
          1.09,
          1.97,
          8.31,
          3.53,
          2.04,
          6.91,
          7.13,
          5.97,
          3.3,
          2.9,
          4.67,
          3.35,
          3.95,
          2.97,
          2.75,
          6.23,
          8.04,
          3.84,
          4.76,
          6.59,
          5.3,
          0.69,
          7.96,
          3.81,
          6.98,
          3.78,
          0.32,
          4.85,
          0.34,
          3.38,
          5.59,
          2.12,
          2.7,
          0.72,
          1.73,
          6.66,
          3.26,
          4.93,
          4.1,
          7.06,
          2.06,
          4.57,
          0.8,
          4.37,
          3.61,
          2.5,
          8.93,
          0.43,
          2.87,
          3.13,
          3.17,
          3.9,
          9.44,
          4.49,
          6.51,
          2.85,
          6.28,
          4.65,
          1.34,
          4.42,
          2.49,
          5.69,
          1.75,
          3.99,
          6.19,
          3.22,
          5.51,
          4.78,
          10.59,
          9.14,
          3.79,
          4.61,
          7.87,
          10.58,
          1.76,
          0.43,
          4.29,
          1.77,
          1.33,
          0.61,
          5,
          7.5,
          1.41,
          0.52,
          7.04,
          1.13,
          4.97,
          5.05,
          1.35,
          1.83,
          9.26,
          3.31,
          0.96,
          0.29,
          1.86,
          3.33,
          0.88,
          1.04,
          31.59,
          0.73,
          4.14,
          5.84,
          9.9,
          10.71,
          3.45,
          12.38,
          5.32,
          11.86,
          8.68,
          12.05,
          10.54
         ],
         "xaxis": "x",
         "y": [
          "India",
          "China",
          "United States",
          "Indonesia",
          "Pakistan",
          "Nigeria",
          "Brazil",
          "Bangladesh",
          "Russia",
          "Ethiopia",
          "Mexico",
          "Japan",
          "Egypt",
          "Philippines",
          "DR Congo",
          "Vietnam",
          "Iran",
          "Turkey",
          "Germany",
          "Thailand",
          "United Kingdom",
          "Tanzania",
          "France",
          "South Africa",
          "Italy",
          "Kenya",
          "Myanmar",
          "Colombia",
          "South Korea",
          "Sudan",
          "Uganda",
          "Spain",
          "Algeria",
          "Iraq",
          "Argentina",
          "Afghanistan",
          "Yemen",
          "Canada",
          "Poland",
          "Morocco",
          "Angola",
          "Ukraine",
          "Uzbekistan",
          "Malaysia",
          "Mozambique",
          "Ghana",
          "Peru",
          "Saudi Arabia",
          "Madagascar",
          "Ivory Coast",
          "Nepal",
          "Cameroon",
          "Venezuela",
          "Niger",
          "Australia",
          "North Korea",
          "Syria",
          "Mali",
          "Burkina Faso",
          "Taiwan",
          "Sri Lanka",
          "Malawi",
          "Zambia",
          "Kazakhstan",
          "Chad",
          "Chile",
          "Romania",
          "Somalia",
          "Senegal",
          "Guatemala",
          "Netherlands",
          "Ecuador",
          "Cambodia",
          "Zimbabwe",
          "Guinea",
          "Benin",
          "Rwanda",
          "Burundi",
          "Bolivia",
          "Tunisia",
          "South Sudan",
          "Haiti",
          "Belgium",
          "Jordan",
          "Dominican Republic",
          "United Arab Emirates",
          "Cuba",
          "Honduras",
          "Czech Republic",
          "Sweden",
          "Tajikistan",
          "Papua New Guinea",
          "Portugal",
          "Azerbaijan",
          "Greece",
          "Hungary",
          "Togo",
          "Israel",
          "Austria",
          "Belarus",
          "Switzerland",
          "Sierra Leone",
          "Laos",
          "Turkmenistan",
          "Libya",
          "Kyrgyzstan",
          "Paraguay",
          "Nicaragua",
          "Bulgaria",
          "Serbia",
          "El Salvador",
          "Republic of the Congo",
          "Denmark",
          "Singapore",
          "Lebanon",
          "Finland",
          "Liberia",
          "Norway",
          "Slovakia",
          "Palestine",
          "Central African Republic",
          "Oman",
          "Ireland",
          "New Zealand",
          "Mauritania",
          "Costa Rica",
          "Kuwait",
          "Panama",
          "Croatia",
          "Georgia",
          "Eritrea",
          "Mongolia",
          "Uruguay",
          "Puerto Rico",
          "Bosnia and Herzegovina",
          "Qatar",
          "Moldova",
          "Namibia",
          "Armenia",
          "Lithuania",
          "Jamaica",
          "Albania",
          "Gambia",
          "Gabon",
          "Botswana",
          "Lesotho",
          "Guinea-Bissau",
          "Slovenia",
          "Equatorial Guinea",
          "Latvia",
          "North Macedonia",
          "Bahrain",
          "Trinidad and Tobago",
          "Timor-Leste",
          "Estonia",
          "Cyprus",
          "Mauritius",
          "Eswatini",
          "Djibouti",
          "Fiji",
          "Comoros",
          "Guyana",
          "Solomon Islands",
          "Bhutan",
          "Luxembourg",
          "Montenegro",
          "Suriname",
          "Malta",
          "Maldives",
          "Cape Verde",
          "Brunei",
          "Belize",
          "Bahamas",
          "Iceland",
          "Vanuatu",
          "Barbados",
          "Sao Tome and Principe",
          "Samoa",
          "Saint Lucia",
          "Guam",
          "Kiribati",
          "Seychelles",
          "Grenada",
          "Micronesia",
          "Tonga",
          "Saint Vincent and the Grenadines",
          "Antigua and Barbuda",
          "United States Virgin Islands",
          "Andorra",
          "Dominica",
          "Bermuda",
          "Greenland",
          "Saint Kitts and Nevis",
          "American Samoa",
          "Northern Mariana Islands",
          "Monaco",
          "Marshall Islands",
          "San Marino",
          "Palau",
          "Cook Islands",
          "Nauru",
          "Tuvalu",
          "Tokelau",
          "Niue"
         ],
         "yaxis": "y"
        }
       ],
       "layout": {
        "coloraxis": {
         "colorbar": {
          "title": {
           "text": "Female_RatePer100k_2020"
          }
         },
         "colorscale": [
          [
           0,
           "#440154"
          ],
          [
           0.1111111111111111,
           "#482878"
          ],
          [
           0.2222222222222222,
           "#3e4989"
          ],
          [
           0.3333333333333333,
           "#31688e"
          ],
          [
           0.4444444444444444,
           "#26828e"
          ],
          [
           0.5555555555555556,
           "#1f9e89"
          ],
          [
           0.6666666666666666,
           "#35b779"
          ],
          [
           0.7777777777777778,
           "#6ece58"
          ],
          [
           0.8888888888888888,
           "#b5de2b"
          ],
          [
           1,
           "#fde725"
          ]
         ]
        },
        "height": 800,
        "hoverlabel": {
         "font": {
          "size": 14
         }
        },
        "legend": {
         "tracegroupgap": 0
        },
        "margin": {
         "b": 100,
         "l": 100,
         "r": 50,
         "t": 50
        },
        "showlegend": false,
        "template": {
         "data": {
          "candlestick": [
           {
            "decreasing": {
             "line": {
              "color": "#000033"
             }
            },
            "increasing": {
             "line": {
              "color": "#000032"
             }
            },
            "type": "candlestick"
           }
          ],
          "contour": [
           {
            "colorscale": [
             [
              0,
              "#000011"
             ],
             [
              0.1111111111111111,
              "#000012"
             ],
             [
              0.2222222222222222,
              "#000013"
             ],
             [
              0.3333333333333333,
              "#000014"
             ],
             [
              0.4444444444444444,
              "#000015"
             ],
             [
              0.5555555555555556,
              "#000016"
             ],
             [
              0.6666666666666666,
              "#000017"
             ],
             [
              0.7777777777777778,
              "#000018"
             ],
             [
              0.8888888888888888,
              "#000019"
             ],
             [
              1,
              "#000020"
             ]
            ],
            "type": "contour"
           }
          ],
          "contourcarpet": [
           {
            "colorscale": [
             [
              0,
              "#000011"
             ],
             [
              0.1111111111111111,
              "#000012"
             ],
             [
              0.2222222222222222,
              "#000013"
             ],
             [
              0.3333333333333333,
              "#000014"
             ],
             [
              0.4444444444444444,
              "#000015"
             ],
             [
              0.5555555555555556,
              "#000016"
             ],
             [
              0.6666666666666666,
              "#000017"
             ],
             [
              0.7777777777777778,
              "#000018"
             ],
             [
              0.8888888888888888,
              "#000019"
             ],
             [
              1,
              "#000020"
             ]
            ],
            "type": "contourcarpet"
           }
          ],
          "heatmap": [
           {
            "colorscale": [
             [
              0,
              "#000011"
             ],
             [
              0.1111111111111111,
              "#000012"
             ],
             [
              0.2222222222222222,
              "#000013"
             ],
             [
              0.3333333333333333,
              "#000014"
             ],
             [
              0.4444444444444444,
              "#000015"
             ],
             [
              0.5555555555555556,
              "#000016"
             ],
             [
              0.6666666666666666,
              "#000017"
             ],
             [
              0.7777777777777778,
              "#000018"
             ],
             [
              0.8888888888888888,
              "#000019"
             ],
             [
              1,
              "#000020"
             ]
            ],
            "type": "heatmap"
           }
          ],
          "histogram2d": [
           {
            "colorscale": [
             [
              0,
              "#000011"
             ],
             [
              0.1111111111111111,
              "#000012"
             ],
             [
              0.2222222222222222,
              "#000013"
             ],
             [
              0.3333333333333333,
              "#000014"
             ],
             [
              0.4444444444444444,
              "#000015"
             ],
             [
              0.5555555555555556,
              "#000016"
             ],
             [
              0.6666666666666666,
              "#000017"
             ],
             [
              0.7777777777777778,
              "#000018"
             ],
             [
              0.8888888888888888,
              "#000019"
             ],
             [
              1,
              "#000020"
             ]
            ],
            "type": "histogram2d"
           }
          ],
          "icicle": [
           {
            "textfont": {
             "color": "white"
            },
            "type": "icicle"
           }
          ],
          "sankey": [
           {
            "textfont": {
             "color": "#000036"
            },
            "type": "sankey"
           }
          ],
          "scatter": [
           {
            "marker": {
             "line": {
              "width": 0
             }
            },
            "type": "scatter"
           }
          ],
          "table": [
           {
            "cells": {
             "fill": {
              "color": "#000038"
             },
             "font": {
              "color": "#000037"
             },
             "line": {
              "color": "#000039"
             }
            },
            "header": {
             "fill": {
              "color": "#000040"
             },
             "font": {
              "color": "#000036"
             },
             "line": {
              "color": "#000039"
             }
            },
            "type": "table"
           }
          ],
          "waterfall": [
           {
            "connector": {
             "line": {
              "color": "#000036",
              "width": 2
             }
            },
            "decreasing": {
             "marker": {
              "color": "#000033"
             }
            },
            "increasing": {
             "marker": {
              "color": "#000032"
             }
            },
            "totals": {
             "marker": {
              "color": "#000034"
             }
            },
            "type": "waterfall"
           }
          ]
         },
         "layout": {
          "coloraxis": {
           "colorscale": [
            [
             0,
             "#000011"
            ],
            [
             0.1111111111111111,
             "#000012"
            ],
            [
             0.2222222222222222,
             "#000013"
            ],
            [
             0.3333333333333333,
             "#000014"
            ],
            [
             0.4444444444444444,
             "#000015"
            ],
            [
             0.5555555555555556,
             "#000016"
            ],
            [
             0.6666666666666666,
             "#000017"
            ],
            [
             0.7777777777777778,
             "#000018"
            ],
            [
             0.8888888888888888,
             "#000019"
            ],
            [
             1,
             "#000020"
            ]
           ]
          },
          "colorscale": {
           "diverging": [
            [
             0,
             "#000021"
            ],
            [
             0.1,
             "#000022"
            ],
            [
             0.2,
             "#000023"
            ],
            [
             0.3,
             "#000024"
            ],
            [
             0.4,
             "#000025"
            ],
            [
             0.5,
             "#000026"
            ],
            [
             0.6,
             "#000027"
            ],
            [
             0.7,
             "#000028"
            ],
            [
             0.8,
             "#000029"
            ],
            [
             0.9,
             "#000030"
            ],
            [
             1,
             "#000031"
            ]
           ],
           "sequential": [
            [
             0,
             "#000011"
            ],
            [
             0.1111111111111111,
             "#000012"
            ],
            [
             0.2222222222222222,
             "#000013"
            ],
            [
             0.3333333333333333,
             "#000014"
            ],
            [
             0.4444444444444444,
             "#000015"
            ],
            [
             0.5555555555555556,
             "#000016"
            ],
            [
             0.6666666666666666,
             "#000017"
            ],
            [
             0.7777777777777778,
             "#000018"
            ],
            [
             0.8888888888888888,
             "#000019"
            ],
            [
             1,
             "#000020"
            ]
           ],
           "sequentialminus": [
            [
             0,
             "#000011"
            ],
            [
             0.1111111111111111,
             "#000012"
            ],
            [
             0.2222222222222222,
             "#000013"
            ],
            [
             0.3333333333333333,
             "#000014"
            ],
            [
             0.4444444444444444,
             "#000015"
            ],
            [
             0.5555555555555556,
             "#000016"
            ],
            [
             0.6666666666666666,
             "#000017"
            ],
            [
             0.7777777777777778,
             "#000018"
            ],
            [
             0.8888888888888888,
             "#000019"
            ],
            [
             1,
             "#000020"
            ]
           ]
          },
          "colorway": [
           "#000001",
           "#000002",
           "#000003",
           "#000004",
           "#000005",
           "#000006",
           "#000007",
           "#000008",
           "#000009",
           "#000010"
          ]
         }
        },
        "title": {
         "text": "Female Suicide Rates per 100k (Filtered by Rate Range)"
        },
        "updatemenus": [
         {
          "buttons": [
           {
            "args": [
             "xaxis.range",
             [
              0.29,
              0.29
             ]
            ],
            "label": "Suicide Rate < 0.29",
            "method": "relayout"
           },
           {
            "args": [
             "xaxis.range",
             [
              0.29,
              31.59
             ]
            ],
            "label": "Suicide Rate between 0.29 and 31.59",
            "method": "relayout"
           },
           {
            "args": [
             "xaxis.range",
             [
              31.59,
              31.59
             ]
            ],
            "label": "Suicide Rate > 31.59",
            "method": "relayout"
           }
          ],
          "direction": "down",
          "type": "dropdown",
          "x": 0.17,
          "y": 1.15
         }
        ],
        "width": 1200,
        "xaxis": {
         "anchor": "y",
         "domain": [
          0,
          1
         ],
         "title": {
          "text": "Female Rate Per100k(2020)"
         }
        },
        "yaxis": {
         "anchor": "x",
         "domain": [
          0,
          1
         ],
         "title": {
          "text": "Country"
         }
        }
       }
      }
     },
     "metadata": {},
     "output_type": "display_data"
    }
   ],
   "source": [
    "df['Female_RatePer100k_2020'] = pd.to_numeric(df['Female_RatePer100k_2020'], errors='coerce')\n",
    "\n",
    "'''This Function to creates a scatter plot'''\n",
    "def create_scatter_plot(df, x_col, y_col, color_col, color_scale=\"Viridis\"):\n",
    "    fig = px.scatter(df, \n",
    "                     x=x_col, \n",
    "                     y=y_col, \n",
    "                     hover_name=y_col,  \n",
    "                     color=color_col, \n",
    "                     color_continuous_scale=color_scale)\n",
    "    return fig\n",
    "\n",
    "'''This Function updates the layout of the figure'''\n",
    "def update_layout(fig, title, xaxis_title, yaxis_title, width=1200, height=800):\n",
    "    fig.update_layout(\n",
    "        width=width,  \n",
    "        height=height,\n",
    "        margin=dict(l=100, r=50, t=50, b=100), \n",
    "        title=title,  \n",
    "        xaxis_title=xaxis_title,  \n",
    "        yaxis_title=yaxis_title, \n",
    "        showlegend=False, \n",
    "        hoverlabel=dict(font_size=14),\n",
    "    )\n",
    "    return fig\n",
    "\n",
    "'''Function to create the dropdown for filtering based on suicide rate'''\n",
    "def create_rate_range_dropdown(min_rate, max_rate):\n",
    "    return [\n",
    "        dict(\n",
    "            label=f\"Suicide Rate < {min_rate}\",\n",
    "            method=\"relayout\",\n",
    "            args=[\"xaxis.range\", [df['Female_RatePer100k_2020'].min(), min_rate]]\n",
    "        ),\n",
    "        dict(\n",
    "            label=f\"Suicide Rate between {min_rate} and {max_rate}\",\n",
    "            method=\"relayout\",\n",
    "            args=[\"xaxis.range\", [min_rate, max_rate]]\n",
    "        ),\n",
    "        dict(\n",
    "            label=f\"Suicide Rate > {max_rate}\",\n",
    "            method=\"relayout\",\n",
    "            args=[\"xaxis.range\", [max_rate, df['Female_RatePer100k_2020'].max()]]\n",
    "        ),\n",
    "    ]\n",
    "\n",
    "''' Function to filter the dataframe based on suicide rate range'''\n",
    "def filter_data_by_rate_range(df, min_rate, max_rate):\n",
    "    return df[(df['Female_RatePer100k_2020'] >= min_rate) & (df['Female_RatePer100k_2020'] <= max_rate)]\n",
    "\n",
    "''' Main function to display the interactive plot'''\n",
    "def display_interactive_plot():\n",
    "    ''' Sidebar filter for suicide rate range'''\n",
    "    min_rate, max_rate = st.sidebar.slider(\n",
    "        \"Select Suicide Rate Range (per 100k)\",\n",
    "        min_value=float(df['Female_RatePer100k_2020'].min()),\n",
    "        max_value=float(df['Female_RatePer100k_2020'].max()),\n",
    "        value=(float(df['Female_RatePer100k_2020'].min()), float(df['Female_RatePer100k_2020'].max()))\n",
    "    )\n",
    "\n",
    "    '''Filter the data based on selected rate range'''\n",
    "    filtered_df = filter_data_by_rate_range(df, min_rate, max_rate)\n",
    "\n",
    "    ''' Create the scatter plot'''\n",
    "    fig = create_scatter_plot(filtered_df, 'Female_RatePer100k_2020', 'country', 'Female_RatePer100k_2020')\n",
    "\n",
    "    '''Create the dropdown buttons for rate range selection'''\n",
    "    rate_range_buttons = create_rate_range_dropdown(min_rate, max_rate)\n",
    "\n",
    "    ''' Add dropdown buttons to the plot'''\n",
    "    fig.update_layout(\n",
    "        updatemenus=[\n",
    "            dict(\n",
    "                type=\"dropdown\",\n",
    "                direction=\"down\",\n",
    "                x=0.17,\n",
    "                y=1.15,\n",
    "                buttons=rate_range_buttons\n",
    "            ),\n",
    "        ]\n",
    "    )\n",
    "\n",
    "    ''' Update the layout of the figure'''\n",
    "    fig = update_layout(fig, \n",
    "                        title=f'Female Suicide Rates per 100k (Filtered by Rate Range)', \n",
    "                        xaxis_title='Female Rate Per100k(2020)',\n",
    "                        yaxis_title='Country')\n",
    "\n",
    "    '''Show the plot'''\n",
    "    fig.show()\n",
    "\n",
    "''' Call the main function to display the plot'''\n",
    "display_interactive_plot()\n",
    "\n",
    "\n"
   ]
  },
  {
   "cell_type": "code",
   "execution_count": 8,
   "id": "f9a74206-4ec9-47a9-82cb-f61dff1d95fd",
   "metadata": {},
   "outputs": [
    {
     "data": {
      "application/vnd.plotly.v1+json": {
       "config": {
        "plotlyServerURL": "https://plot.ly"
       },
       "data": [
        {
         "hovertemplate": "<b>%{hovertext}</b><br><br>M+F_RatePer100k_2019=%{marker.color}<br>country=%{y}<extra></extra>",
         "hovertext": [
          "India",
          "China",
          "United States",
          "Indonesia",
          "Pakistan",
          "Nigeria",
          "Brazil",
          "Bangladesh",
          "Russia",
          "Ethiopia",
          "Mexico",
          "Japan",
          "Egypt",
          "Philippines",
          "DR Congo",
          "Vietnam",
          "Iran",
          "Turkey",
          "Germany",
          "Thailand",
          "United Kingdom",
          "Tanzania",
          "France",
          "South Africa",
          "Italy",
          "Kenya",
          "Myanmar",
          "Colombia",
          "South Korea",
          "Sudan",
          "Uganda",
          "Spain",
          "Algeria",
          "Iraq",
          "Argentina",
          "Afghanistan",
          "Yemen",
          "Canada",
          "Poland",
          "Morocco",
          "Angola",
          "Ukraine",
          "Uzbekistan",
          "Malaysia",
          "Mozambique",
          "Ghana",
          "Peru",
          "Saudi Arabia",
          "Madagascar",
          "Ivory Coast",
          "Nepal",
          "Cameroon",
          "Venezuela",
          "Niger",
          "Australia",
          "North Korea",
          "Syria",
          "Mali",
          "Burkina Faso",
          "Sri Lanka",
          "Malawi",
          "Zambia",
          "Kazakhstan",
          "Chad",
          "Chile",
          "Romania",
          "Somalia",
          "Senegal",
          "Guatemala",
          "Netherlands",
          "Ecuador",
          "Cambodia",
          "Zimbabwe",
          "Guinea",
          "Benin",
          "Rwanda",
          "Burundi",
          "Bolivia",
          "Tunisia",
          "South Sudan",
          "Haiti",
          "Belgium",
          "Jordan",
          "Dominican Republic",
          "United Arab Emirates",
          "Cuba",
          "Honduras",
          "Czech Republic",
          "Sweden",
          "Tajikistan",
          "Papua New Guinea",
          "Portugal",
          "Azerbaijan",
          "Greece",
          "Hungary",
          "Togo",
          "Israel",
          "Austria",
          "Belarus",
          "Switzerland",
          "Sierra Leone",
          "Laos",
          "Turkmenistan",
          "Libya",
          "Kyrgyzstan",
          "Paraguay",
          "Nicaragua",
          "Bulgaria",
          "Serbia",
          "El Salvador",
          "Republic of the Congo",
          "Denmark",
          "Singapore",
          "Lebanon",
          "Finland",
          "Liberia",
          "Norway",
          "Slovakia",
          "Central African Republic",
          "Oman",
          "Ireland",
          "New Zealand",
          "Mauritania",
          "Costa Rica",
          "Kuwait",
          "Panama",
          "Croatia",
          "Georgia",
          "Eritrea",
          "Mongolia",
          "Uruguay",
          "Bosnia and Herzegovina",
          "Qatar",
          "Moldova",
          "Namibia",
          "Armenia",
          "Lithuania",
          "Jamaica",
          "Albania",
          "Gambia",
          "Gabon",
          "Botswana",
          "Lesotho",
          "Guinea-Bissau",
          "Slovenia",
          "Equatorial Guinea",
          "Latvia",
          "North Macedonia",
          "Bahrain",
          "Trinidad and Tobago",
          "Timor-Leste",
          "Estonia",
          "Cyprus",
          "Mauritius",
          "Eswatini",
          "Djibouti",
          "Fiji",
          "Comoros",
          "Guyana",
          "Solomon Islands",
          "Bhutan",
          "Luxembourg",
          "Montenegro",
          "Suriname",
          "Malta",
          "Maldives",
          "Cape Verde",
          "Brunei",
          "Belize",
          "Bahamas",
          "Iceland",
          "Vanuatu",
          "Barbados",
          "Sao Tome and Principe",
          "Samoa",
          "Saint Lucia",
          "Kiribati",
          "Seychelles",
          "Grenada",
          "Micronesia",
          "Tonga",
          "Saint Vincent and the Grenadines",
          "Antigua and Barbuda"
         ],
         "legendgroup": "",
         "marker": {
          "color": [
           12.7,
           8.1,
           16.1,
           2.4,
           8.9,
           3.5,
           6.9,
           3.7,
           25.1,
           5.4,
           5.3,
           15.3,
           3,
           2.2,
           6.7,
           7.5,
           5.2,
           2.4,
           12.3,
           8.8,
           7.9,
           4.3,
           13.8,
           23.5,
           6.7,
           6.1,
           2.9,
           3.9,
           28.6,
           3.8,
           4.6,
           7.7,
           2.5,
           3.6,
           8.4,
           4.1,
           5.8,
           11.8,
           11.3,
           7.2,
           6.1,
           21.6,
           8,
           5.7,
           13.6,
           6.6,
           2.8,
           6,
           5.5,
           8.9,
           9,
           9,
           2.1,
           5.3,
           12.5,
           9.4,
           2,
           4.1,
           7.5,
           14,
           5.4,
           7.3,
           17.6,
           6.4,
           9,
           9.7,
           7.9,
           6,
           5.9,
           11.8,
           7.6,
           4.9,
           14.1,
           7,
           7.8,
           5.6,
           6.2,
           6.2,
           3.3,
           3.9,
           9.6,
           18.3,
           1.6,
           4.9,
           6.4,
           14.5,
           2.1,
           12.2,
           14.7,
           4.3,
           3,
           11.5,
           4.1,
           5.1,
           16.6,
           8.8,
           5.3,
           14.6,
           21.2,
           14.5,
           6.7,
           5.4,
           5.7,
           4.5,
           7.4,
           6,
           4.4,
           9.7,
           11.4,
           6.1,
           6.5,
           10.7,
           11.2,
           2.8,
           15.3,
           4.5,
           11.8,
           12.1,
           12.3,
           4.9,
           9.6,
           11,
           3.1,
           8.1,
           2.9,
           2.9,
           16.4,
           9.2,
           10.9,
           17.9,
           21.2,
           10.9,
           5.8,
           14.7,
           9.7,
           3.3,
           26.1,
           2.4,
           4.3,
           4.8,
           8.4,
           16.1,
           72.4,
           7,
           19.8,
           7.9,
           20.1,
           9.4,
           8.9,
           8.7,
           3.7,
           14.9,
           3.6,
           9.5,
           29.4,
           9.6,
           9,
           5.4,
           40.3,
           14.7,
           4.6,
           11.3,
           21,
           25.4,
           6.1,
           2.7,
           12.9,
           2.7,
           7.1,
           3.5,
           11.9,
           18,
           0.6,
           1.5,
           12.6,
           7.9,
           28.3,
           8.1,
           0.7,
           28.2,
           3.8,
           1,
           0.4
          ],
          "coloraxis": "coloraxis",
          "symbol": "circle"
         },
         "mode": "markers",
         "name": "",
         "orientation": "h",
         "showlegend": false,
         "type": "scatter",
         "x": [
          12.7,
          8.1,
          16.1,
          2.4,
          8.9,
          3.5,
          6.9,
          3.7,
          25.1,
          5.4,
          5.3,
          15.3,
          3,
          2.2,
          6.7,
          7.5,
          5.2,
          2.4,
          12.3,
          8.8,
          7.9,
          4.3,
          13.8,
          23.5,
          6.7,
          6.1,
          2.9,
          3.9,
          28.6,
          3.8,
          4.6,
          7.7,
          2.5,
          3.6,
          8.4,
          4.1,
          5.8,
          11.8,
          11.3,
          7.2,
          6.1,
          21.6,
          8,
          5.7,
          13.6,
          6.6,
          2.8,
          6,
          5.5,
          8.9,
          9,
          9,
          2.1,
          5.3,
          12.5,
          9.4,
          2,
          4.1,
          7.5,
          14,
          5.4,
          7.3,
          17.6,
          6.4,
          9,
          9.7,
          7.9,
          6,
          5.9,
          11.8,
          7.6,
          4.9,
          14.1,
          7,
          7.8,
          5.6,
          6.2,
          6.2,
          3.3,
          3.9,
          9.6,
          18.3,
          1.6,
          4.9,
          6.4,
          14.5,
          2.1,
          12.2,
          14.7,
          4.3,
          3,
          11.5,
          4.1,
          5.1,
          16.6,
          8.8,
          5.3,
          14.6,
          21.2,
          14.5,
          6.7,
          5.4,
          5.7,
          4.5,
          7.4,
          6,
          4.4,
          9.7,
          11.4,
          6.1,
          6.5,
          10.7,
          11.2,
          2.8,
          15.3,
          4.5,
          11.8,
          12.1,
          12.3,
          4.9,
          9.6,
          11,
          3.1,
          8.1,
          2.9,
          2.9,
          16.4,
          9.2,
          10.9,
          17.9,
          21.2,
          10.9,
          5.8,
          14.7,
          9.7,
          3.3,
          26.1,
          2.4,
          4.3,
          4.8,
          8.4,
          16.1,
          72.4,
          7,
          19.8,
          7.9,
          20.1,
          9.4,
          8.9,
          8.7,
          3.7,
          14.9,
          3.6,
          9.5,
          29.4,
          9.6,
          9,
          5.4,
          40.3,
          14.7,
          4.6,
          11.3,
          21,
          25.4,
          6.1,
          2.7,
          12.9,
          2.7,
          7.1,
          3.5,
          11.9,
          18,
          0.6,
          1.5,
          12.6,
          7.9,
          28.3,
          8.1,
          0.7,
          28.2,
          3.8,
          1,
          0.4
         ],
         "xaxis": "x",
         "y": [
          "India",
          "China",
          "United States",
          "Indonesia",
          "Pakistan",
          "Nigeria",
          "Brazil",
          "Bangladesh",
          "Russia",
          "Ethiopia",
          "Mexico",
          "Japan",
          "Egypt",
          "Philippines",
          "DR Congo",
          "Vietnam",
          "Iran",
          "Turkey",
          "Germany",
          "Thailand",
          "United Kingdom",
          "Tanzania",
          "France",
          "South Africa",
          "Italy",
          "Kenya",
          "Myanmar",
          "Colombia",
          "South Korea",
          "Sudan",
          "Uganda",
          "Spain",
          "Algeria",
          "Iraq",
          "Argentina",
          "Afghanistan",
          "Yemen",
          "Canada",
          "Poland",
          "Morocco",
          "Angola",
          "Ukraine",
          "Uzbekistan",
          "Malaysia",
          "Mozambique",
          "Ghana",
          "Peru",
          "Saudi Arabia",
          "Madagascar",
          "Ivory Coast",
          "Nepal",
          "Cameroon",
          "Venezuela",
          "Niger",
          "Australia",
          "North Korea",
          "Syria",
          "Mali",
          "Burkina Faso",
          "Sri Lanka",
          "Malawi",
          "Zambia",
          "Kazakhstan",
          "Chad",
          "Chile",
          "Romania",
          "Somalia",
          "Senegal",
          "Guatemala",
          "Netherlands",
          "Ecuador",
          "Cambodia",
          "Zimbabwe",
          "Guinea",
          "Benin",
          "Rwanda",
          "Burundi",
          "Bolivia",
          "Tunisia",
          "South Sudan",
          "Haiti",
          "Belgium",
          "Jordan",
          "Dominican Republic",
          "United Arab Emirates",
          "Cuba",
          "Honduras",
          "Czech Republic",
          "Sweden",
          "Tajikistan",
          "Papua New Guinea",
          "Portugal",
          "Azerbaijan",
          "Greece",
          "Hungary",
          "Togo",
          "Israel",
          "Austria",
          "Belarus",
          "Switzerland",
          "Sierra Leone",
          "Laos",
          "Turkmenistan",
          "Libya",
          "Kyrgyzstan",
          "Paraguay",
          "Nicaragua",
          "Bulgaria",
          "Serbia",
          "El Salvador",
          "Republic of the Congo",
          "Denmark",
          "Singapore",
          "Lebanon",
          "Finland",
          "Liberia",
          "Norway",
          "Slovakia",
          "Central African Republic",
          "Oman",
          "Ireland",
          "New Zealand",
          "Mauritania",
          "Costa Rica",
          "Kuwait",
          "Panama",
          "Croatia",
          "Georgia",
          "Eritrea",
          "Mongolia",
          "Uruguay",
          "Bosnia and Herzegovina",
          "Qatar",
          "Moldova",
          "Namibia",
          "Armenia",
          "Lithuania",
          "Jamaica",
          "Albania",
          "Gambia",
          "Gabon",
          "Botswana",
          "Lesotho",
          "Guinea-Bissau",
          "Slovenia",
          "Equatorial Guinea",
          "Latvia",
          "North Macedonia",
          "Bahrain",
          "Trinidad and Tobago",
          "Timor-Leste",
          "Estonia",
          "Cyprus",
          "Mauritius",
          "Eswatini",
          "Djibouti",
          "Fiji",
          "Comoros",
          "Guyana",
          "Solomon Islands",
          "Bhutan",
          "Luxembourg",
          "Montenegro",
          "Suriname",
          "Malta",
          "Maldives",
          "Cape Verde",
          "Brunei",
          "Belize",
          "Bahamas",
          "Iceland",
          "Vanuatu",
          "Barbados",
          "Sao Tome and Principe",
          "Samoa",
          "Saint Lucia",
          "Kiribati",
          "Seychelles",
          "Grenada",
          "Micronesia",
          "Tonga",
          "Saint Vincent and the Grenadines",
          "Antigua and Barbuda"
         ],
         "yaxis": "y"
        }
       ],
       "layout": {
        "coloraxis": {
         "colorbar": {
          "title": {
           "text": "M+F_RatePer100k_2019"
          }
         },
         "colorscale": [
          [
           0,
           "#440154"
          ],
          [
           0.1111111111111111,
           "#482878"
          ],
          [
           0.2222222222222222,
           "#3e4989"
          ],
          [
           0.3333333333333333,
           "#31688e"
          ],
          [
           0.4444444444444444,
           "#26828e"
          ],
          [
           0.5555555555555556,
           "#1f9e89"
          ],
          [
           0.6666666666666666,
           "#35b779"
          ],
          [
           0.7777777777777778,
           "#6ece58"
          ],
          [
           0.8888888888888888,
           "#b5de2b"
          ],
          [
           1,
           "#fde725"
          ]
         ]
        },
        "height": 800,
        "hoverlabel": {
         "font": {
          "size": 14
         }
        },
        "legend": {
         "tracegroupgap": 0
        },
        "margin": {
         "b": 100,
         "l": 100,
         "r": 50,
         "t": 50
        },
        "showlegend": false,
        "template": {
         "data": {
          "candlestick": [
           {
            "decreasing": {
             "line": {
              "color": "#000033"
             }
            },
            "increasing": {
             "line": {
              "color": "#000032"
             }
            },
            "type": "candlestick"
           }
          ],
          "contour": [
           {
            "colorscale": [
             [
              0,
              "#000011"
             ],
             [
              0.1111111111111111,
              "#000012"
             ],
             [
              0.2222222222222222,
              "#000013"
             ],
             [
              0.3333333333333333,
              "#000014"
             ],
             [
              0.4444444444444444,
              "#000015"
             ],
             [
              0.5555555555555556,
              "#000016"
             ],
             [
              0.6666666666666666,
              "#000017"
             ],
             [
              0.7777777777777778,
              "#000018"
             ],
             [
              0.8888888888888888,
              "#000019"
             ],
             [
              1,
              "#000020"
             ]
            ],
            "type": "contour"
           }
          ],
          "contourcarpet": [
           {
            "colorscale": [
             [
              0,
              "#000011"
             ],
             [
              0.1111111111111111,
              "#000012"
             ],
             [
              0.2222222222222222,
              "#000013"
             ],
             [
              0.3333333333333333,
              "#000014"
             ],
             [
              0.4444444444444444,
              "#000015"
             ],
             [
              0.5555555555555556,
              "#000016"
             ],
             [
              0.6666666666666666,
              "#000017"
             ],
             [
              0.7777777777777778,
              "#000018"
             ],
             [
              0.8888888888888888,
              "#000019"
             ],
             [
              1,
              "#000020"
             ]
            ],
            "type": "contourcarpet"
           }
          ],
          "heatmap": [
           {
            "colorscale": [
             [
              0,
              "#000011"
             ],
             [
              0.1111111111111111,
              "#000012"
             ],
             [
              0.2222222222222222,
              "#000013"
             ],
             [
              0.3333333333333333,
              "#000014"
             ],
             [
              0.4444444444444444,
              "#000015"
             ],
             [
              0.5555555555555556,
              "#000016"
             ],
             [
              0.6666666666666666,
              "#000017"
             ],
             [
              0.7777777777777778,
              "#000018"
             ],
             [
              0.8888888888888888,
              "#000019"
             ],
             [
              1,
              "#000020"
             ]
            ],
            "type": "heatmap"
           }
          ],
          "histogram2d": [
           {
            "colorscale": [
             [
              0,
              "#000011"
             ],
             [
              0.1111111111111111,
              "#000012"
             ],
             [
              0.2222222222222222,
              "#000013"
             ],
             [
              0.3333333333333333,
              "#000014"
             ],
             [
              0.4444444444444444,
              "#000015"
             ],
             [
              0.5555555555555556,
              "#000016"
             ],
             [
              0.6666666666666666,
              "#000017"
             ],
             [
              0.7777777777777778,
              "#000018"
             ],
             [
              0.8888888888888888,
              "#000019"
             ],
             [
              1,
              "#000020"
             ]
            ],
            "type": "histogram2d"
           }
          ],
          "icicle": [
           {
            "textfont": {
             "color": "white"
            },
            "type": "icicle"
           }
          ],
          "sankey": [
           {
            "textfont": {
             "color": "#000036"
            },
            "type": "sankey"
           }
          ],
          "scatter": [
           {
            "marker": {
             "line": {
              "width": 0
             }
            },
            "type": "scatter"
           }
          ],
          "table": [
           {
            "cells": {
             "fill": {
              "color": "#000038"
             },
             "font": {
              "color": "#000037"
             },
             "line": {
              "color": "#000039"
             }
            },
            "header": {
             "fill": {
              "color": "#000040"
             },
             "font": {
              "color": "#000036"
             },
             "line": {
              "color": "#000039"
             }
            },
            "type": "table"
           }
          ],
          "waterfall": [
           {
            "connector": {
             "line": {
              "color": "#000036",
              "width": 2
             }
            },
            "decreasing": {
             "marker": {
              "color": "#000033"
             }
            },
            "increasing": {
             "marker": {
              "color": "#000032"
             }
            },
            "totals": {
             "marker": {
              "color": "#000034"
             }
            },
            "type": "waterfall"
           }
          ]
         },
         "layout": {
          "coloraxis": {
           "colorscale": [
            [
             0,
             "#000011"
            ],
            [
             0.1111111111111111,
             "#000012"
            ],
            [
             0.2222222222222222,
             "#000013"
            ],
            [
             0.3333333333333333,
             "#000014"
            ],
            [
             0.4444444444444444,
             "#000015"
            ],
            [
             0.5555555555555556,
             "#000016"
            ],
            [
             0.6666666666666666,
             "#000017"
            ],
            [
             0.7777777777777778,
             "#000018"
            ],
            [
             0.8888888888888888,
             "#000019"
            ],
            [
             1,
             "#000020"
            ]
           ]
          },
          "colorscale": {
           "diverging": [
            [
             0,
             "#000021"
            ],
            [
             0.1,
             "#000022"
            ],
            [
             0.2,
             "#000023"
            ],
            [
             0.3,
             "#000024"
            ],
            [
             0.4,
             "#000025"
            ],
            [
             0.5,
             "#000026"
            ],
            [
             0.6,
             "#000027"
            ],
            [
             0.7,
             "#000028"
            ],
            [
             0.8,
             "#000029"
            ],
            [
             0.9,
             "#000030"
            ],
            [
             1,
             "#000031"
            ]
           ],
           "sequential": [
            [
             0,
             "#000011"
            ],
            [
             0.1111111111111111,
             "#000012"
            ],
            [
             0.2222222222222222,
             "#000013"
            ],
            [
             0.3333333333333333,
             "#000014"
            ],
            [
             0.4444444444444444,
             "#000015"
            ],
            [
             0.5555555555555556,
             "#000016"
            ],
            [
             0.6666666666666666,
             "#000017"
            ],
            [
             0.7777777777777778,
             "#000018"
            ],
            [
             0.8888888888888888,
             "#000019"
            ],
            [
             1,
             "#000020"
            ]
           ],
           "sequentialminus": [
            [
             0,
             "#000011"
            ],
            [
             0.1111111111111111,
             "#000012"
            ],
            [
             0.2222222222222222,
             "#000013"
            ],
            [
             0.3333333333333333,
             "#000014"
            ],
            [
             0.4444444444444444,
             "#000015"
            ],
            [
             0.5555555555555556,
             "#000016"
            ],
            [
             0.6666666666666666,
             "#000017"
            ],
            [
             0.7777777777777778,
             "#000018"
            ],
            [
             0.8888888888888888,
             "#000019"
            ],
            [
             1,
             "#000020"
            ]
           ]
          },
          "colorway": [
           "#000001",
           "#000002",
           "#000003",
           "#000004",
           "#000005",
           "#000006",
           "#000007",
           "#000008",
           "#000009",
           "#000010"
          ]
         }
        },
        "title": {
         "text": "M+F Suicide Rates per 100k (Filtered by Rate Range)"
        },
        "updatemenus": [
         {
          "buttons": [
           {
            "args": [
             "xaxis.range",
             [
              0.4,
              0.4
             ]
            ],
            "label": "Suicide Rate < 0.4",
            "method": "relayout"
           },
           {
            "args": [
             "xaxis.range",
             [
              0.4,
              72.4
             ]
            ],
            "label": "Suicide Rate between 0.4 and 72.4",
            "method": "relayout"
           },
           {
            "args": [
             "xaxis.range",
             [
              72.4,
              72.4
             ]
            ],
            "label": "Suicide Rate > 72.4",
            "method": "relayout"
           }
          ],
          "direction": "down",
          "type": "dropdown",
          "x": 0.17,
          "y": 1.15
         }
        ],
        "width": 1200,
        "xaxis": {
         "anchor": "y",
         "domain": [
          0,
          1
         ],
         "title": {
          "text": "M+F Rate Per100k(2019)"
         }
        },
        "yaxis": {
         "anchor": "x",
         "domain": [
          0,
          1
         ],
         "title": {
          "text": "Country"
         }
        }
       }
      }
     },
     "metadata": {},
     "output_type": "display_data"
    }
   ],
   "source": [
    "df['M+F_RatePer100k_2019'] = pd.to_numeric(df['M+F_RatePer100k_2019'], errors='coerce')\n",
    "\n",
    "'''This Function to creates a scatter plot'''\n",
    "def create_scatter_plot(df, x_col, y_col, color_col, color_scale=\"Viridis\"):\n",
    "    fig = px.scatter(df, \n",
    "                     x=x_col, \n",
    "                     y=y_col, \n",
    "                     hover_name=y_col,  \n",
    "                     color=color_col, \n",
    "                     color_continuous_scale=color_scale)\n",
    "    return fig\n",
    "\n",
    "'''This Function updates the layout of the figure'''\n",
    "def update_layout(fig, title, xaxis_title, yaxis_title, width=1200, height=800):\n",
    "    fig.update_layout(\n",
    "        width=width,  \n",
    "        height=height,\n",
    "        margin=dict(l=100, r=50, t=50, b=100), \n",
    "        title=title,  \n",
    "        xaxis_title=xaxis_title,  \n",
    "        yaxis_title=yaxis_title, \n",
    "        showlegend=False, \n",
    "        hoverlabel=dict(font_size=14),\n",
    "    )\n",
    "    return fig\n",
    "\n",
    "'''Function to create the dropdown for filtering based on suicide rate'''\n",
    "def create_rate_range_dropdown(min_rate, max_rate):\n",
    "    return [\n",
    "        dict(\n",
    "            label=f\"Suicide Rate < {min_rate}\",\n",
    "            method=\"relayout\",\n",
    "            args=[\"xaxis.range\", [df['M+F_RatePer100k_2019'].min(), min_rate]]\n",
    "        ),\n",
    "        dict(\n",
    "            label=f\"Suicide Rate between {min_rate} and {max_rate}\",\n",
    "            method=\"relayout\",\n",
    "            args=[\"xaxis.range\", [min_rate, max_rate]]\n",
    "        ),\n",
    "        dict(\n",
    "            label=f\"Suicide Rate > {max_rate}\",\n",
    "            method=\"relayout\",\n",
    "            args=[\"xaxis.range\", [max_rate, df['M+F_RatePer100k_2019'].max()]]\n",
    "        ),\n",
    "    ]\n",
    "\n",
    "'''Function to filter the dataframe based on suicide rate range'''\n",
    "def filter_data_by_rate_range(df, min_rate, max_rate):\n",
    "    return df[(df['M+F_RatePer100k_2019'] >= min_rate) & (df['M+F_RatePer100k_2019'] <= max_rate)]\n",
    "\n",
    "'''Main function to display the interactive plot'''\n",
    "def display_interactive_plot():\n",
    "    ''' Sidebar filter for suicide rate range'''\n",
    "    min_rate, max_rate = st.sidebar.slider(\n",
    "        \"Select Suicide Rate Range (per 100k)\",\n",
    "        min_value=float(df['M+F_RatePer100k_2019'].min()),\n",
    "        max_value=float(df['M+F_RatePer100k_2019'].max()),\n",
    "        value=(float(df['M+F_RatePer100k_2019'].min()), float(df['M+F_RatePer100k_2019'].max()))\n",
    "    )\n",
    "\n",
    "    ''' Filter the data based on selected rate range'''\n",
    "    filtered_df = filter_data_by_rate_range(df, min_rate, max_rate)\n",
    "\n",
    "    ''' Create the scatter plot'''\n",
    "    fig = create_scatter_plot(filtered_df, 'M+F_RatePer100k_2019', 'country', 'M+F_RatePer100k_2019')\n",
    "\n",
    "    '''Create the dropdown buttons for rate range selection'''\n",
    "    rate_range_buttons = create_rate_range_dropdown(min_rate, max_rate)\n",
    "\n",
    "    ''' Add dropdown buttons to the plot'''\n",
    "    fig.update_layout(\n",
    "        updatemenus=[\n",
    "            dict(\n",
    "                type=\"dropdown\",\n",
    "                direction=\"down\",\n",
    "                x=0.17,\n",
    "                y=1.15,\n",
    "                buttons=rate_range_buttons\n",
    "            ),\n",
    "        ]\n",
    "    )\n",
    "\n",
    "    ''' Update the layout of the figure'''\n",
    "    fig = update_layout(fig, \n",
    "                        title=f'M+F Suicide Rates per 100k (Filtered by Rate Range)', \n",
    "                        xaxis_title='M+F Rate Per100k(2019)',\n",
    "                        yaxis_title='Country')\n",
    "\n",
    "    ''' Show the plot'''\n",
    "    fig.show()\n",
    "\n",
    "''' Call the main function to display the plot'''\n",
    "display_interactive_plot()\n",
    "\n",
    "\n"
   ]
  },
  {
   "cell_type": "code",
   "execution_count": 9,
   "id": "78a4b134-d7d1-4f67-8878-cc580608466b",
   "metadata": {},
   "outputs": [
    {
     "data": {
      "application/vnd.plotly.v1+json": {
       "config": {
        "plotlyServerURL": "https://plot.ly"
       },
       "data": [
        {
         "hovertemplate": "<b>%{hovertext}</b><br><br>Male_RatePer100k_2019=%{marker.color}<br>country=%{y}<extra></extra>",
         "hovertext": [
          "India",
          "China",
          "United States",
          "Indonesia",
          "Pakistan",
          "Nigeria",
          "Brazil",
          "Bangladesh",
          "Russia",
          "Ethiopia",
          "Mexico",
          "Japan",
          "Egypt",
          "Philippines",
          "DR Congo",
          "Vietnam",
          "Iran",
          "Turkey",
          "Germany",
          "Thailand",
          "United Kingdom",
          "Tanzania",
          "France",
          "South Africa",
          "Italy",
          "Kenya",
          "Myanmar",
          "Colombia",
          "South Korea",
          "Sudan",
          "Uganda",
          "Spain",
          "Algeria",
          "Iraq",
          "Argentina",
          "Afghanistan",
          "Yemen",
          "Canada",
          "Poland",
          "Morocco",
          "Angola",
          "Ukraine",
          "Uzbekistan",
          "Malaysia",
          "Mozambique",
          "Ghana",
          "Peru",
          "Saudi Arabia",
          "Madagascar",
          "Ivory Coast",
          "Nepal",
          "Cameroon",
          "Venezuela",
          "Niger",
          "Australia",
          "North Korea",
          "Syria",
          "Mali",
          "Burkina Faso",
          "Sri Lanka",
          "Malawi",
          "Zambia",
          "Kazakhstan",
          "Chad",
          "Chile",
          "Romania",
          "Somalia",
          "Senegal",
          "Guatemala",
          "Netherlands",
          "Ecuador",
          "Cambodia",
          "Zimbabwe",
          "Guinea",
          "Benin",
          "Rwanda",
          "Burundi",
          "Bolivia",
          "Tunisia",
          "South Sudan",
          "Haiti",
          "Belgium",
          "Jordan",
          "Dominican Republic",
          "United Arab Emirates",
          "Cuba",
          "Honduras",
          "Czech Republic",
          "Sweden",
          "Tajikistan",
          "Papua New Guinea",
          "Portugal",
          "Azerbaijan",
          "Greece",
          "Hungary",
          "Togo",
          "Israel",
          "Austria",
          "Belarus",
          "Switzerland",
          "Sierra Leone",
          "Laos",
          "Turkmenistan",
          "Libya",
          "Kyrgyzstan",
          "Paraguay",
          "Nicaragua",
          "Bulgaria",
          "Serbia",
          "El Salvador",
          "Republic of the Congo",
          "Denmark",
          "Singapore",
          "Lebanon",
          "Finland",
          "Liberia",
          "Norway",
          "Slovakia",
          "Central African Republic",
          "Oman",
          "Ireland",
          "New Zealand",
          "Mauritania",
          "Costa Rica",
          "Kuwait",
          "Panama",
          "Croatia",
          "Georgia",
          "Eritrea",
          "Mongolia",
          "Uruguay",
          "Bosnia and Herzegovina",
          "Qatar",
          "Moldova",
          "Namibia",
          "Armenia",
          "Lithuania",
          "Jamaica",
          "Albania",
          "Gambia",
          "Gabon",
          "Botswana",
          "Lesotho",
          "Guinea-Bissau",
          "Slovenia",
          "Equatorial Guinea",
          "Latvia",
          "North Macedonia",
          "Bahrain",
          "Trinidad and Tobago",
          "Timor-Leste",
          "Estonia",
          "Cyprus",
          "Mauritius",
          "Eswatini",
          "Djibouti",
          "Fiji",
          "Comoros",
          "Guyana",
          "Solomon Islands",
          "Bhutan",
          "Luxembourg",
          "Montenegro",
          "Suriname",
          "Malta",
          "Maldives",
          "Cape Verde",
          "Brunei",
          "Belize",
          "Bahamas",
          "Iceland",
          "Vanuatu",
          "Barbados",
          "Sao Tome and Principe",
          "Samoa",
          "Saint Lucia",
          "Kiribati",
          "Seychelles",
          "Grenada",
          "Micronesia",
          "Tonga",
          "Saint Vincent and the Grenadines"
         ],
         "legendgroup": "",
         "marker": {
          "color": [
           14.1,
           9.8,
           25,
           3.7,
           13.3,
           5,
           10.9,
           5.7,
           43.6,
           7.7,
           8.5,
           21.8,
           4,
           3.1,
           10.6,
           10.4,
           7.7,
           3.6,
           18.6,
           15,
           11.8,
           6.6,
           20.4,
           37.6,
           10.1,
           9.1,
           4.9,
           6.1,
           40.2,
           4.9,
           7.6,
           11.4,
           3.1,
           5.2,
           13.7,
           4.6,
           7,
           17.6,
           20.1,
           9.7,
           10,
           39.2,
           11.3,
           8.9,
           22,
           11.8,
           4.2,
           8.9,
           7.6,
           14.9,
           16.4,
           13.6,
           3.5,
           7.2,
           18.6,
           11.2,
           3.2,
           5.3,
           11.3,
           22.3,
           9.2,
           12,
           29,
           9.6,
           14.9,
           16.5,
           12,
           9.2,
           9.4,
           15.5,
           11.6,
           7,
           20,
           9.2,
           11.8,
           8.2,
           9.2,
           8.4,
           4.7,
           5.7,
           11.8,
           24.9,
           2.5,
           8,
           8,
           23,
           3.3,
           19.8,
           19.9,
           5.7,
           4.3,
           17.9,
           6.6,
           8.4,
           25.9,
           13.8,
           8.4,
           22.8,
           36.7,
           20.2,
           8.3,
           7.6,
           8.8,
           6,
           11.7,
           8.7,
           6.9,
           15.3,
           16.6,
           10.5,
           9.5,
           14.9,
           15,
           3.8,
           23.2,
           5.6,
           15.8,
           21.2,
           19.6,
           6.8,
           15.4,
           16.5,
           4,
           14.1,
           4.3,
           4.7,
           25.3,
           16,
           16.6,
           30.7,
           34.5,
           17.6,
           7.2,
           26.1,
           16.7,
           5.6,
           45.4,
           3.7,
           5.9,
           6.6,
           14.2,
           26.3,
           116,
           10.2,
           31.4,
           9.4,
           35.5,
           13.9,
           12.5,
           13.9,
           5.3,
           24.3,
           6,
           16.3,
           55.1,
           12.6,
           12.2,
           7,
           63,
           27,
           6.3,
           15.3,
           31.7,
           38.8,
           9.8,
           3.9,
           21.3,
           4.4,
           12.5,
           5.9,
           19.8,
           28.1,
           0.9,
           2.2,
           18,
           14.3,
           48.6,
           14.4,
           0.6,
           43.2,
           5,
           1.3
          ],
          "coloraxis": "coloraxis",
          "symbol": "circle"
         },
         "mode": "markers",
         "name": "",
         "orientation": "h",
         "showlegend": false,
         "type": "scatter",
         "x": [
          14.1,
          9.8,
          25,
          3.7,
          13.3,
          5,
          10.9,
          5.7,
          43.6,
          7.7,
          8.5,
          21.8,
          4,
          3.1,
          10.6,
          10.4,
          7.7,
          3.6,
          18.6,
          15,
          11.8,
          6.6,
          20.4,
          37.6,
          10.1,
          9.1,
          4.9,
          6.1,
          40.2,
          4.9,
          7.6,
          11.4,
          3.1,
          5.2,
          13.7,
          4.6,
          7,
          17.6,
          20.1,
          9.7,
          10,
          39.2,
          11.3,
          8.9,
          22,
          11.8,
          4.2,
          8.9,
          7.6,
          14.9,
          16.4,
          13.6,
          3.5,
          7.2,
          18.6,
          11.2,
          3.2,
          5.3,
          11.3,
          22.3,
          9.2,
          12,
          29,
          9.6,
          14.9,
          16.5,
          12,
          9.2,
          9.4,
          15.5,
          11.6,
          7,
          20,
          9.2,
          11.8,
          8.2,
          9.2,
          8.4,
          4.7,
          5.7,
          11.8,
          24.9,
          2.5,
          8,
          8,
          23,
          3.3,
          19.8,
          19.9,
          5.7,
          4.3,
          17.9,
          6.6,
          8.4,
          25.9,
          13.8,
          8.4,
          22.8,
          36.7,
          20.2,
          8.3,
          7.6,
          8.8,
          6,
          11.7,
          8.7,
          6.9,
          15.3,
          16.6,
          10.5,
          9.5,
          14.9,
          15,
          3.8,
          23.2,
          5.6,
          15.8,
          21.2,
          19.6,
          6.8,
          15.4,
          16.5,
          4,
          14.1,
          4.3,
          4.7,
          25.3,
          16,
          16.6,
          30.7,
          34.5,
          17.6,
          7.2,
          26.1,
          16.7,
          5.6,
          45.4,
          3.7,
          5.9,
          6.6,
          14.2,
          26.3,
          116,
          10.2,
          31.4,
          9.4,
          35.5,
          13.9,
          12.5,
          13.9,
          5.3,
          24.3,
          6,
          16.3,
          55.1,
          12.6,
          12.2,
          7,
          63,
          27,
          6.3,
          15.3,
          31.7,
          38.8,
          9.8,
          3.9,
          21.3,
          4.4,
          12.5,
          5.9,
          19.8,
          28.1,
          0.9,
          2.2,
          18,
          14.3,
          48.6,
          14.4,
          0.6,
          43.2,
          5,
          1.3
         ],
         "xaxis": "x",
         "y": [
          "India",
          "China",
          "United States",
          "Indonesia",
          "Pakistan",
          "Nigeria",
          "Brazil",
          "Bangladesh",
          "Russia",
          "Ethiopia",
          "Mexico",
          "Japan",
          "Egypt",
          "Philippines",
          "DR Congo",
          "Vietnam",
          "Iran",
          "Turkey",
          "Germany",
          "Thailand",
          "United Kingdom",
          "Tanzania",
          "France",
          "South Africa",
          "Italy",
          "Kenya",
          "Myanmar",
          "Colombia",
          "South Korea",
          "Sudan",
          "Uganda",
          "Spain",
          "Algeria",
          "Iraq",
          "Argentina",
          "Afghanistan",
          "Yemen",
          "Canada",
          "Poland",
          "Morocco",
          "Angola",
          "Ukraine",
          "Uzbekistan",
          "Malaysia",
          "Mozambique",
          "Ghana",
          "Peru",
          "Saudi Arabia",
          "Madagascar",
          "Ivory Coast",
          "Nepal",
          "Cameroon",
          "Venezuela",
          "Niger",
          "Australia",
          "North Korea",
          "Syria",
          "Mali",
          "Burkina Faso",
          "Sri Lanka",
          "Malawi",
          "Zambia",
          "Kazakhstan",
          "Chad",
          "Chile",
          "Romania",
          "Somalia",
          "Senegal",
          "Guatemala",
          "Netherlands",
          "Ecuador",
          "Cambodia",
          "Zimbabwe",
          "Guinea",
          "Benin",
          "Rwanda",
          "Burundi",
          "Bolivia",
          "Tunisia",
          "South Sudan",
          "Haiti",
          "Belgium",
          "Jordan",
          "Dominican Republic",
          "United Arab Emirates",
          "Cuba",
          "Honduras",
          "Czech Republic",
          "Sweden",
          "Tajikistan",
          "Papua New Guinea",
          "Portugal",
          "Azerbaijan",
          "Greece",
          "Hungary",
          "Togo",
          "Israel",
          "Austria",
          "Belarus",
          "Switzerland",
          "Sierra Leone",
          "Laos",
          "Turkmenistan",
          "Libya",
          "Kyrgyzstan",
          "Paraguay",
          "Nicaragua",
          "Bulgaria",
          "Serbia",
          "El Salvador",
          "Republic of the Congo",
          "Denmark",
          "Singapore",
          "Lebanon",
          "Finland",
          "Liberia",
          "Norway",
          "Slovakia",
          "Central African Republic",
          "Oman",
          "Ireland",
          "New Zealand",
          "Mauritania",
          "Costa Rica",
          "Kuwait",
          "Panama",
          "Croatia",
          "Georgia",
          "Eritrea",
          "Mongolia",
          "Uruguay",
          "Bosnia and Herzegovina",
          "Qatar",
          "Moldova",
          "Namibia",
          "Armenia",
          "Lithuania",
          "Jamaica",
          "Albania",
          "Gambia",
          "Gabon",
          "Botswana",
          "Lesotho",
          "Guinea-Bissau",
          "Slovenia",
          "Equatorial Guinea",
          "Latvia",
          "North Macedonia",
          "Bahrain",
          "Trinidad and Tobago",
          "Timor-Leste",
          "Estonia",
          "Cyprus",
          "Mauritius",
          "Eswatini",
          "Djibouti",
          "Fiji",
          "Comoros",
          "Guyana",
          "Solomon Islands",
          "Bhutan",
          "Luxembourg",
          "Montenegro",
          "Suriname",
          "Malta",
          "Maldives",
          "Cape Verde",
          "Brunei",
          "Belize",
          "Bahamas",
          "Iceland",
          "Vanuatu",
          "Barbados",
          "Sao Tome and Principe",
          "Samoa",
          "Saint Lucia",
          "Kiribati",
          "Seychelles",
          "Grenada",
          "Micronesia",
          "Tonga",
          "Saint Vincent and the Grenadines"
         ],
         "yaxis": "y"
        }
       ],
       "layout": {
        "coloraxis": {
         "colorbar": {
          "title": {
           "text": "Male_RatePer100k_2019"
          }
         },
         "colorscale": [
          [
           0,
           "#440154"
          ],
          [
           0.1111111111111111,
           "#482878"
          ],
          [
           0.2222222222222222,
           "#3e4989"
          ],
          [
           0.3333333333333333,
           "#31688e"
          ],
          [
           0.4444444444444444,
           "#26828e"
          ],
          [
           0.5555555555555556,
           "#1f9e89"
          ],
          [
           0.6666666666666666,
           "#35b779"
          ],
          [
           0.7777777777777778,
           "#6ece58"
          ],
          [
           0.8888888888888888,
           "#b5de2b"
          ],
          [
           1,
           "#fde725"
          ]
         ]
        },
        "height": 800,
        "hoverlabel": {
         "font": {
          "size": 14
         }
        },
        "legend": {
         "tracegroupgap": 0
        },
        "margin": {
         "b": 100,
         "l": 100,
         "r": 50,
         "t": 50
        },
        "showlegend": false,
        "template": {
         "data": {
          "candlestick": [
           {
            "decreasing": {
             "line": {
              "color": "#000033"
             }
            },
            "increasing": {
             "line": {
              "color": "#000032"
             }
            },
            "type": "candlestick"
           }
          ],
          "contour": [
           {
            "colorscale": [
             [
              0,
              "#000011"
             ],
             [
              0.1111111111111111,
              "#000012"
             ],
             [
              0.2222222222222222,
              "#000013"
             ],
             [
              0.3333333333333333,
              "#000014"
             ],
             [
              0.4444444444444444,
              "#000015"
             ],
             [
              0.5555555555555556,
              "#000016"
             ],
             [
              0.6666666666666666,
              "#000017"
             ],
             [
              0.7777777777777778,
              "#000018"
             ],
             [
              0.8888888888888888,
              "#000019"
             ],
             [
              1,
              "#000020"
             ]
            ],
            "type": "contour"
           }
          ],
          "contourcarpet": [
           {
            "colorscale": [
             [
              0,
              "#000011"
             ],
             [
              0.1111111111111111,
              "#000012"
             ],
             [
              0.2222222222222222,
              "#000013"
             ],
             [
              0.3333333333333333,
              "#000014"
             ],
             [
              0.4444444444444444,
              "#000015"
             ],
             [
              0.5555555555555556,
              "#000016"
             ],
             [
              0.6666666666666666,
              "#000017"
             ],
             [
              0.7777777777777778,
              "#000018"
             ],
             [
              0.8888888888888888,
              "#000019"
             ],
             [
              1,
              "#000020"
             ]
            ],
            "type": "contourcarpet"
           }
          ],
          "heatmap": [
           {
            "colorscale": [
             [
              0,
              "#000011"
             ],
             [
              0.1111111111111111,
              "#000012"
             ],
             [
              0.2222222222222222,
              "#000013"
             ],
             [
              0.3333333333333333,
              "#000014"
             ],
             [
              0.4444444444444444,
              "#000015"
             ],
             [
              0.5555555555555556,
              "#000016"
             ],
             [
              0.6666666666666666,
              "#000017"
             ],
             [
              0.7777777777777778,
              "#000018"
             ],
             [
              0.8888888888888888,
              "#000019"
             ],
             [
              1,
              "#000020"
             ]
            ],
            "type": "heatmap"
           }
          ],
          "histogram2d": [
           {
            "colorscale": [
             [
              0,
              "#000011"
             ],
             [
              0.1111111111111111,
              "#000012"
             ],
             [
              0.2222222222222222,
              "#000013"
             ],
             [
              0.3333333333333333,
              "#000014"
             ],
             [
              0.4444444444444444,
              "#000015"
             ],
             [
              0.5555555555555556,
              "#000016"
             ],
             [
              0.6666666666666666,
              "#000017"
             ],
             [
              0.7777777777777778,
              "#000018"
             ],
             [
              0.8888888888888888,
              "#000019"
             ],
             [
              1,
              "#000020"
             ]
            ],
            "type": "histogram2d"
           }
          ],
          "icicle": [
           {
            "textfont": {
             "color": "white"
            },
            "type": "icicle"
           }
          ],
          "sankey": [
           {
            "textfont": {
             "color": "#000036"
            },
            "type": "sankey"
           }
          ],
          "scatter": [
           {
            "marker": {
             "line": {
              "width": 0
             }
            },
            "type": "scatter"
           }
          ],
          "table": [
           {
            "cells": {
             "fill": {
              "color": "#000038"
             },
             "font": {
              "color": "#000037"
             },
             "line": {
              "color": "#000039"
             }
            },
            "header": {
             "fill": {
              "color": "#000040"
             },
             "font": {
              "color": "#000036"
             },
             "line": {
              "color": "#000039"
             }
            },
            "type": "table"
           }
          ],
          "waterfall": [
           {
            "connector": {
             "line": {
              "color": "#000036",
              "width": 2
             }
            },
            "decreasing": {
             "marker": {
              "color": "#000033"
             }
            },
            "increasing": {
             "marker": {
              "color": "#000032"
             }
            },
            "totals": {
             "marker": {
              "color": "#000034"
             }
            },
            "type": "waterfall"
           }
          ]
         },
         "layout": {
          "coloraxis": {
           "colorscale": [
            [
             0,
             "#000011"
            ],
            [
             0.1111111111111111,
             "#000012"
            ],
            [
             0.2222222222222222,
             "#000013"
            ],
            [
             0.3333333333333333,
             "#000014"
            ],
            [
             0.4444444444444444,
             "#000015"
            ],
            [
             0.5555555555555556,
             "#000016"
            ],
            [
             0.6666666666666666,
             "#000017"
            ],
            [
             0.7777777777777778,
             "#000018"
            ],
            [
             0.8888888888888888,
             "#000019"
            ],
            [
             1,
             "#000020"
            ]
           ]
          },
          "colorscale": {
           "diverging": [
            [
             0,
             "#000021"
            ],
            [
             0.1,
             "#000022"
            ],
            [
             0.2,
             "#000023"
            ],
            [
             0.3,
             "#000024"
            ],
            [
             0.4,
             "#000025"
            ],
            [
             0.5,
             "#000026"
            ],
            [
             0.6,
             "#000027"
            ],
            [
             0.7,
             "#000028"
            ],
            [
             0.8,
             "#000029"
            ],
            [
             0.9,
             "#000030"
            ],
            [
             1,
             "#000031"
            ]
           ],
           "sequential": [
            [
             0,
             "#000011"
            ],
            [
             0.1111111111111111,
             "#000012"
            ],
            [
             0.2222222222222222,
             "#000013"
            ],
            [
             0.3333333333333333,
             "#000014"
            ],
            [
             0.4444444444444444,
             "#000015"
            ],
            [
             0.5555555555555556,
             "#000016"
            ],
            [
             0.6666666666666666,
             "#000017"
            ],
            [
             0.7777777777777778,
             "#000018"
            ],
            [
             0.8888888888888888,
             "#000019"
            ],
            [
             1,
             "#000020"
            ]
           ],
           "sequentialminus": [
            [
             0,
             "#000011"
            ],
            [
             0.1111111111111111,
             "#000012"
            ],
            [
             0.2222222222222222,
             "#000013"
            ],
            [
             0.3333333333333333,
             "#000014"
            ],
            [
             0.4444444444444444,
             "#000015"
            ],
            [
             0.5555555555555556,
             "#000016"
            ],
            [
             0.6666666666666666,
             "#000017"
            ],
            [
             0.7777777777777778,
             "#000018"
            ],
            [
             0.8888888888888888,
             "#000019"
            ],
            [
             1,
             "#000020"
            ]
           ]
          },
          "colorway": [
           "#000001",
           "#000002",
           "#000003",
           "#000004",
           "#000005",
           "#000006",
           "#000007",
           "#000008",
           "#000009",
           "#000010"
          ]
         }
        },
        "title": {
         "text": "Male Suicide Rates per 100k (Filtered by Rate Range)"
        },
        "updatemenus": [
         {
          "buttons": [
           {
            "args": [
             "xaxis.range",
             [
              0.6,
              0.6
             ]
            ],
            "label": "Suicide Rate < 0.6",
            "method": "relayout"
           },
           {
            "args": [
             "xaxis.range",
             [
              0.6,
              116
             ]
            ],
            "label": "Suicide Rate between 0.6 and 116.0",
            "method": "relayout"
           },
           {
            "args": [
             "xaxis.range",
             [
              116,
              116
             ]
            ],
            "label": "Suicide Rate > 116.0",
            "method": "relayout"
           }
          ],
          "direction": "down",
          "type": "dropdown",
          "x": 0.17,
          "y": 1.15
         }
        ],
        "width": 1200,
        "xaxis": {
         "anchor": "y",
         "domain": [
          0,
          1
         ],
         "title": {
          "text": "Male Rate Per100k(2019)"
         }
        },
        "yaxis": {
         "anchor": "x",
         "domain": [
          0,
          1
         ],
         "title": {
          "text": "Country"
         }
        }
       }
      }
     },
     "metadata": {},
     "output_type": "display_data"
    }
   ],
   "source": [
    "\n",
    "df['Male_RatePer100k_2019'] = pd.to_numeric(df['Male_RatePer100k_2019'], errors='coerce')\n",
    "\n",
    "'''This Function to creates a scatter plot'''\n",
    "def create_scatter_plot(df, x_col, y_col, color_col, color_scale=\"Viridis\"):\n",
    "    fig = px.scatter(df, \n",
    "                     x=x_col, \n",
    "                     y=y_col, \n",
    "                     hover_name=y_col,  \n",
    "                     color=color_col, \n",
    "                     color_continuous_scale=color_scale)\n",
    "    return fig\n",
    "\n",
    "'''This Function updates the layout of the figure'''\n",
    "def update_layout(fig, title, xaxis_title, yaxis_title, width=1200, height=800):\n",
    "    fig.update_layout(\n",
    "        width=width,  \n",
    "        height=height,\n",
    "        margin=dict(l=100, r=50, t=50, b=100), \n",
    "        title=title,  \n",
    "        xaxis_title=xaxis_title,  \n",
    "        yaxis_title=yaxis_title, \n",
    "        showlegend=False, \n",
    "        hoverlabel=dict(font_size=14),\n",
    "    )\n",
    "    return fig\n",
    "\n",
    "'''Function to create the dropdown for filtering based on suicide rate'''\n",
    "def create_rate_range_dropdown(min_rate, max_rate):\n",
    "    return [\n",
    "        dict(\n",
    "            label=f\"Suicide Rate < {min_rate}\",\n",
    "            method=\"relayout\",\n",
    "            args=[\"xaxis.range\", [df['Male_RatePer100k_2019'].min(), min_rate]]\n",
    "        ),\n",
    "        dict(\n",
    "            label=f\"Suicide Rate between {min_rate} and {max_rate}\",\n",
    "            method=\"relayout\",\n",
    "            args=[\"xaxis.range\", [min_rate, max_rate]]\n",
    "        ),\n",
    "        dict(\n",
    "            label=f\"Suicide Rate > {max_rate}\",\n",
    "            method=\"relayout\",\n",
    "            args=[\"xaxis.range\", [max_rate, df['Male_RatePer100k_2019'].max()]]\n",
    "        ),\n",
    "    ]\n",
    "\n",
    "''' Function to filter the dataframe based on suicide rate range'''\n",
    "def filter_data_by_rate_range(df, min_rate, max_rate):\n",
    "    return df[(df['Male_RatePer100k_2019'] >= min_rate) & (df['Male_RatePer100k_2019'] <= max_rate)]\n",
    "\n",
    "''' Main function to display the interactive plot'''\n",
    "def display_interactive_plot():\n",
    "    ''' Sidebar filter for suicide rate range'''\n",
    "    min_rate, max_rate = st.sidebar.slider(\n",
    "        \"Select Suicide Rate Range (per 100k)\",\n",
    "        min_value=float(df['Male_RatePer100k_2019'].min()),\n",
    "        max_value=float(df['Male_RatePer100k_2019'].max()),\n",
    "        value=(float(df['Male_RatePer100k_2019'].min()), float(df['Male_RatePer100k_2019'].max()))\n",
    "    )\n",
    "\n",
    "    ''' Filter the data based on selected rate range'''\n",
    "    filtered_df = filter_data_by_rate_range(df, min_rate, max_rate)\n",
    "\n",
    "    '''Create the scatter plot'''\n",
    "    fig = create_scatter_plot(filtered_df, 'Male_RatePer100k_2019', 'country', 'Male_RatePer100k_2019')\n",
    "\n",
    "    ''' Create the dropdown buttons for rate range selection'''\n",
    "    rate_range_buttons = create_rate_range_dropdown(min_rate, max_rate)\n",
    "\n",
    "    ''' Add dropdown buttons to the plot'''\n",
    "    fig.update_layout(\n",
    "        updatemenus=[\n",
    "            dict(\n",
    "                type=\"dropdown\",\n",
    "                direction=\"down\",\n",
    "                x=0.17,\n",
    "                y=1.15,\n",
    "                buttons=rate_range_buttons\n",
    "            ),\n",
    "        ]\n",
    "    )\n",
    "\n",
    "    '''Update the layout of the figure'''\n",
    "    fig = update_layout(fig, \n",
    "                        title=f'Male Suicide Rates per 100k (Filtered by Rate Range)', \n",
    "                        xaxis_title='Male Rate Per100k(2019)',\n",
    "                        yaxis_title='Country')\n",
    "\n",
    "    ''' Show the plot'''\n",
    "    fig.show()\n",
    "\n",
    "''' Call the main function to display the plot'''\n",
    "display_interactive_plot()\n"
   ]
  },
  {
   "cell_type": "code",
   "execution_count": 10,
   "id": "c890ed34-3081-4e48-bc30-e3e3780d975c",
   "metadata": {},
   "outputs": [
    {
     "data": {
      "application/vnd.plotly.v1+json": {
       "config": {
        "plotlyServerURL": "https://plot.ly"
       },
       "data": [
        {
         "hovertemplate": "<b>%{hovertext}</b><br><br>Female_RatePer100k_2019=%{marker.color}<br>country=%{y}<extra></extra>",
         "hovertext": [
          "India",
          "China",
          "United States",
          "Indonesia",
          "Pakistan",
          "Nigeria",
          "Brazil",
          "Bangladesh",
          "Russia",
          "Ethiopia",
          "Mexico",
          "Japan",
          "Egypt",
          "Philippines",
          "DR Congo",
          "Vietnam",
          "Iran",
          "Turkey",
          "Germany",
          "Thailand",
          "United Kingdom",
          "Tanzania",
          "France",
          "South Africa",
          "Italy",
          "Kenya",
          "Myanmar",
          "Colombia",
          "South Korea",
          "Sudan",
          "Uganda",
          "Spain",
          "Algeria",
          "Iraq",
          "Argentina",
          "Afghanistan",
          "Yemen",
          "Canada",
          "Poland",
          "Morocco",
          "Angola",
          "Ukraine",
          "Uzbekistan",
          "Malaysia",
          "Mozambique",
          "Ghana",
          "Peru",
          "Saudi Arabia",
          "Madagascar",
          "Ivory Coast",
          "Nepal",
          "Cameroon",
          "Venezuela",
          "Niger",
          "Australia",
          "North Korea",
          "Syria",
          "Mali",
          "Burkina Faso",
          "Sri Lanka",
          "Malawi",
          "Zambia",
          "Kazakhstan",
          "Chad",
          "Chile",
          "Romania",
          "Somalia",
          "Senegal",
          "Guatemala",
          "Netherlands",
          "Ecuador",
          "Cambodia",
          "Zimbabwe",
          "Guinea",
          "Benin",
          "Rwanda",
          "Burundi",
          "Bolivia",
          "Tunisia",
          "South Sudan",
          "Haiti",
          "Belgium",
          "Jordan",
          "Dominican Republic",
          "United Arab Emirates",
          "Cuba",
          "Honduras",
          "Czech Republic",
          "Sweden",
          "Tajikistan",
          "Papua New Guinea",
          "Portugal",
          "Azerbaijan",
          "Greece",
          "Hungary",
          "Togo",
          "Israel",
          "Austria",
          "Belarus",
          "Switzerland",
          "Sierra Leone",
          "Laos",
          "Turkmenistan",
          "Libya",
          "Kyrgyzstan",
          "Paraguay",
          "Nicaragua",
          "Bulgaria",
          "Serbia",
          "El Salvador",
          "Republic of the Congo",
          "Denmark",
          "Singapore",
          "Lebanon",
          "Finland",
          "Liberia",
          "Norway",
          "Slovakia",
          "Central African Republic",
          "Oman",
          "Ireland",
          "New Zealand",
          "Mauritania",
          "Costa Rica",
          "Kuwait",
          "Panama",
          "Croatia",
          "Georgia",
          "Eritrea",
          "Mongolia",
          "Uruguay",
          "Bosnia and Herzegovina",
          "Qatar",
          "Moldova",
          "Namibia",
          "Armenia",
          "Lithuania",
          "Jamaica",
          "Albania",
          "Gambia",
          "Gabon",
          "Botswana",
          "Lesotho",
          "Guinea-Bissau",
          "Slovenia",
          "Equatorial Guinea",
          "Latvia",
          "North Macedonia",
          "Bahrain",
          "Trinidad and Tobago",
          "Timor-Leste",
          "Estonia",
          "Cyprus",
          "Mauritius",
          "Eswatini",
          "Djibouti",
          "Fiji",
          "Comoros",
          "Guyana",
          "Solomon Islands",
          "Bhutan",
          "Luxembourg",
          "Montenegro",
          "Suriname",
          "Malta",
          "Maldives",
          "Cape Verde",
          "Brunei",
          "Belize",
          "Bahamas",
          "Iceland",
          "Vanuatu",
          "Barbados",
          "Sao Tome and Principe",
          "Samoa",
          "Saint Lucia",
          "Kiribati",
          "Seychelles",
          "Grenada",
          "Micronesia",
          "Tonga",
          "Saint Vincent and the Grenadines",
          "Antigua and Barbuda"
         ],
         "legendgroup": "",
         "marker": {
          "color": [
           11.1,
           6.2,
           7.5,
           1.1,
           4.3,
           1.9,
           3,
           1.7,
           9.1,
           3.1,
           2.2,
           9.2,
           2,
           1.2,
           2.8,
           4.7,
           2.8,
           1.2,
           6.2,
           2.9,
           4,
           2,
           7.6,
           9.8,
           3.5,
           3.2,
           1.1,
           1.8,
           16.9,
           2.8,
           1.7,
           4.2,
           1.8,
           2,
           3.3,
           3.6,
           4.6,
           6.1,
           3.1,
           4.7,
           2.3,
           6.5,
           4.8,
           2.3,
           5.7,
           1.2,
           1.4,
           2,
           3.4,
           2.8,
           2.7,
           4.4,
           0.7,
           3.3,
           6.4,
           7.6,
           0.7,
           2.9,
           3.7,
           6.2,
           1.7,
           2.7,
           6.8,
           3.3,
           3.2,
           3.3,
           3.8,
           3,
           2.6,
           8.3,
           3.6,
           2.8,
           8.8,
           4.9,
           3.8,
           3,
           3.4,
           4.1,
           1.9,
           2,
           7.6,
           11.8,
           0.7,
           1.8,
           3,
           6,
           0.8,
           4.8,
           9.5,
           2.8,
           1.6,
           5.7,
           1.6,
           1.9,
           8.3,
           3.9,
           2.3,
           6.7,
           7.7,
           9,
           5.1,
           3.2,
           2.7,
           2.9,
           3.2,
           3.2,
           1.9,
           4.4,
           6.3,
           2.1,
           3.5,
           6.5,
           7.1,
           1.7,
           7.6,
           3.3,
           7.7,
           3.4,
           5.2,
           1,
           3.9,
           5.8,
           2.2,
           2,
           0.7,
           1,
           8.1,
           3,
           5.2,
           5.4,
           8.9,
           4.5,
           1.7,
           4.1,
           3.2,
           1.3,
           9.6,
           1.1,
           2.7,
           3,
           2.4,
           6.4,
           30.1,
           3.9,
           8.3,
           6,
           7,
           4.8,
           2.4,
           3.6,
           2,
           6.5,
           1.3,
           2.8,
           4.7,
           6.4,
           5.7,
           3.8,
           17.4,
           1.9,
           2.7,
           7.1,
           10.4,
           11.8,
           2.3,
           0.8,
           4.5,
           0.8,
           1.7,
           1.3,
           3.9,
           7.6,
           0.3,
           0.8,
           6.7,
           1.7,
           8.7,
           1.4,
           0.7,
           12.7,
           2.6,
           0.6,
           0.8
          ],
          "coloraxis": "coloraxis",
          "symbol": "circle"
         },
         "mode": "markers",
         "name": "",
         "orientation": "h",
         "showlegend": false,
         "type": "scatter",
         "x": [
          11.1,
          6.2,
          7.5,
          1.1,
          4.3,
          1.9,
          3,
          1.7,
          9.1,
          3.1,
          2.2,
          9.2,
          2,
          1.2,
          2.8,
          4.7,
          2.8,
          1.2,
          6.2,
          2.9,
          4,
          2,
          7.6,
          9.8,
          3.5,
          3.2,
          1.1,
          1.8,
          16.9,
          2.8,
          1.7,
          4.2,
          1.8,
          2,
          3.3,
          3.6,
          4.6,
          6.1,
          3.1,
          4.7,
          2.3,
          6.5,
          4.8,
          2.3,
          5.7,
          1.2,
          1.4,
          2,
          3.4,
          2.8,
          2.7,
          4.4,
          0.7,
          3.3,
          6.4,
          7.6,
          0.7,
          2.9,
          3.7,
          6.2,
          1.7,
          2.7,
          6.8,
          3.3,
          3.2,
          3.3,
          3.8,
          3,
          2.6,
          8.3,
          3.6,
          2.8,
          8.8,
          4.9,
          3.8,
          3,
          3.4,
          4.1,
          1.9,
          2,
          7.6,
          11.8,
          0.7,
          1.8,
          3,
          6,
          0.8,
          4.8,
          9.5,
          2.8,
          1.6,
          5.7,
          1.6,
          1.9,
          8.3,
          3.9,
          2.3,
          6.7,
          7.7,
          9,
          5.1,
          3.2,
          2.7,
          2.9,
          3.2,
          3.2,
          1.9,
          4.4,
          6.3,
          2.1,
          3.5,
          6.5,
          7.1,
          1.7,
          7.6,
          3.3,
          7.7,
          3.4,
          5.2,
          1,
          3.9,
          5.8,
          2.2,
          2,
          0.7,
          1,
          8.1,
          3,
          5.2,
          5.4,
          8.9,
          4.5,
          1.7,
          4.1,
          3.2,
          1.3,
          9.6,
          1.1,
          2.7,
          3,
          2.4,
          6.4,
          30.1,
          3.9,
          8.3,
          6,
          7,
          4.8,
          2.4,
          3.6,
          2,
          6.5,
          1.3,
          2.8,
          4.7,
          6.4,
          5.7,
          3.8,
          17.4,
          1.9,
          2.7,
          7.1,
          10.4,
          11.8,
          2.3,
          0.8,
          4.5,
          0.8,
          1.7,
          1.3,
          3.9,
          7.6,
          0.3,
          0.8,
          6.7,
          1.7,
          8.7,
          1.4,
          0.7,
          12.7,
          2.6,
          0.6,
          0.8
         ],
         "xaxis": "x",
         "y": [
          "India",
          "China",
          "United States",
          "Indonesia",
          "Pakistan",
          "Nigeria",
          "Brazil",
          "Bangladesh",
          "Russia",
          "Ethiopia",
          "Mexico",
          "Japan",
          "Egypt",
          "Philippines",
          "DR Congo",
          "Vietnam",
          "Iran",
          "Turkey",
          "Germany",
          "Thailand",
          "United Kingdom",
          "Tanzania",
          "France",
          "South Africa",
          "Italy",
          "Kenya",
          "Myanmar",
          "Colombia",
          "South Korea",
          "Sudan",
          "Uganda",
          "Spain",
          "Algeria",
          "Iraq",
          "Argentina",
          "Afghanistan",
          "Yemen",
          "Canada",
          "Poland",
          "Morocco",
          "Angola",
          "Ukraine",
          "Uzbekistan",
          "Malaysia",
          "Mozambique",
          "Ghana",
          "Peru",
          "Saudi Arabia",
          "Madagascar",
          "Ivory Coast",
          "Nepal",
          "Cameroon",
          "Venezuela",
          "Niger",
          "Australia",
          "North Korea",
          "Syria",
          "Mali",
          "Burkina Faso",
          "Sri Lanka",
          "Malawi",
          "Zambia",
          "Kazakhstan",
          "Chad",
          "Chile",
          "Romania",
          "Somalia",
          "Senegal",
          "Guatemala",
          "Netherlands",
          "Ecuador",
          "Cambodia",
          "Zimbabwe",
          "Guinea",
          "Benin",
          "Rwanda",
          "Burundi",
          "Bolivia",
          "Tunisia",
          "South Sudan",
          "Haiti",
          "Belgium",
          "Jordan",
          "Dominican Republic",
          "United Arab Emirates",
          "Cuba",
          "Honduras",
          "Czech Republic",
          "Sweden",
          "Tajikistan",
          "Papua New Guinea",
          "Portugal",
          "Azerbaijan",
          "Greece",
          "Hungary",
          "Togo",
          "Israel",
          "Austria",
          "Belarus",
          "Switzerland",
          "Sierra Leone",
          "Laos",
          "Turkmenistan",
          "Libya",
          "Kyrgyzstan",
          "Paraguay",
          "Nicaragua",
          "Bulgaria",
          "Serbia",
          "El Salvador",
          "Republic of the Congo",
          "Denmark",
          "Singapore",
          "Lebanon",
          "Finland",
          "Liberia",
          "Norway",
          "Slovakia",
          "Central African Republic",
          "Oman",
          "Ireland",
          "New Zealand",
          "Mauritania",
          "Costa Rica",
          "Kuwait",
          "Panama",
          "Croatia",
          "Georgia",
          "Eritrea",
          "Mongolia",
          "Uruguay",
          "Bosnia and Herzegovina",
          "Qatar",
          "Moldova",
          "Namibia",
          "Armenia",
          "Lithuania",
          "Jamaica",
          "Albania",
          "Gambia",
          "Gabon",
          "Botswana",
          "Lesotho",
          "Guinea-Bissau",
          "Slovenia",
          "Equatorial Guinea",
          "Latvia",
          "North Macedonia",
          "Bahrain",
          "Trinidad and Tobago",
          "Timor-Leste",
          "Estonia",
          "Cyprus",
          "Mauritius",
          "Eswatini",
          "Djibouti",
          "Fiji",
          "Comoros",
          "Guyana",
          "Solomon Islands",
          "Bhutan",
          "Luxembourg",
          "Montenegro",
          "Suriname",
          "Malta",
          "Maldives",
          "Cape Verde",
          "Brunei",
          "Belize",
          "Bahamas",
          "Iceland",
          "Vanuatu",
          "Barbados",
          "Sao Tome and Principe",
          "Samoa",
          "Saint Lucia",
          "Kiribati",
          "Seychelles",
          "Grenada",
          "Micronesia",
          "Tonga",
          "Saint Vincent and the Grenadines",
          "Antigua and Barbuda"
         ],
         "yaxis": "y"
        }
       ],
       "layout": {
        "coloraxis": {
         "colorbar": {
          "title": {
           "text": "Female_RatePer100k_2019"
          }
         },
         "colorscale": [
          [
           0,
           "#440154"
          ],
          [
           0.1111111111111111,
           "#482878"
          ],
          [
           0.2222222222222222,
           "#3e4989"
          ],
          [
           0.3333333333333333,
           "#31688e"
          ],
          [
           0.4444444444444444,
           "#26828e"
          ],
          [
           0.5555555555555556,
           "#1f9e89"
          ],
          [
           0.6666666666666666,
           "#35b779"
          ],
          [
           0.7777777777777778,
           "#6ece58"
          ],
          [
           0.8888888888888888,
           "#b5de2b"
          ],
          [
           1,
           "#fde725"
          ]
         ]
        },
        "height": 800,
        "hoverlabel": {
         "font": {
          "size": 14
         }
        },
        "legend": {
         "tracegroupgap": 0
        },
        "margin": {
         "b": 100,
         "l": 100,
         "r": 50,
         "t": 50
        },
        "showlegend": false,
        "template": {
         "data": {
          "candlestick": [
           {
            "decreasing": {
             "line": {
              "color": "#000033"
             }
            },
            "increasing": {
             "line": {
              "color": "#000032"
             }
            },
            "type": "candlestick"
           }
          ],
          "contour": [
           {
            "colorscale": [
             [
              0,
              "#000011"
             ],
             [
              0.1111111111111111,
              "#000012"
             ],
             [
              0.2222222222222222,
              "#000013"
             ],
             [
              0.3333333333333333,
              "#000014"
             ],
             [
              0.4444444444444444,
              "#000015"
             ],
             [
              0.5555555555555556,
              "#000016"
             ],
             [
              0.6666666666666666,
              "#000017"
             ],
             [
              0.7777777777777778,
              "#000018"
             ],
             [
              0.8888888888888888,
              "#000019"
             ],
             [
              1,
              "#000020"
             ]
            ],
            "type": "contour"
           }
          ],
          "contourcarpet": [
           {
            "colorscale": [
             [
              0,
              "#000011"
             ],
             [
              0.1111111111111111,
              "#000012"
             ],
             [
              0.2222222222222222,
              "#000013"
             ],
             [
              0.3333333333333333,
              "#000014"
             ],
             [
              0.4444444444444444,
              "#000015"
             ],
             [
              0.5555555555555556,
              "#000016"
             ],
             [
              0.6666666666666666,
              "#000017"
             ],
             [
              0.7777777777777778,
              "#000018"
             ],
             [
              0.8888888888888888,
              "#000019"
             ],
             [
              1,
              "#000020"
             ]
            ],
            "type": "contourcarpet"
           }
          ],
          "heatmap": [
           {
            "colorscale": [
             [
              0,
              "#000011"
             ],
             [
              0.1111111111111111,
              "#000012"
             ],
             [
              0.2222222222222222,
              "#000013"
             ],
             [
              0.3333333333333333,
              "#000014"
             ],
             [
              0.4444444444444444,
              "#000015"
             ],
             [
              0.5555555555555556,
              "#000016"
             ],
             [
              0.6666666666666666,
              "#000017"
             ],
             [
              0.7777777777777778,
              "#000018"
             ],
             [
              0.8888888888888888,
              "#000019"
             ],
             [
              1,
              "#000020"
             ]
            ],
            "type": "heatmap"
           }
          ],
          "histogram2d": [
           {
            "colorscale": [
             [
              0,
              "#000011"
             ],
             [
              0.1111111111111111,
              "#000012"
             ],
             [
              0.2222222222222222,
              "#000013"
             ],
             [
              0.3333333333333333,
              "#000014"
             ],
             [
              0.4444444444444444,
              "#000015"
             ],
             [
              0.5555555555555556,
              "#000016"
             ],
             [
              0.6666666666666666,
              "#000017"
             ],
             [
              0.7777777777777778,
              "#000018"
             ],
             [
              0.8888888888888888,
              "#000019"
             ],
             [
              1,
              "#000020"
             ]
            ],
            "type": "histogram2d"
           }
          ],
          "icicle": [
           {
            "textfont": {
             "color": "white"
            },
            "type": "icicle"
           }
          ],
          "sankey": [
           {
            "textfont": {
             "color": "#000036"
            },
            "type": "sankey"
           }
          ],
          "scatter": [
           {
            "marker": {
             "line": {
              "width": 0
             }
            },
            "type": "scatter"
           }
          ],
          "table": [
           {
            "cells": {
             "fill": {
              "color": "#000038"
             },
             "font": {
              "color": "#000037"
             },
             "line": {
              "color": "#000039"
             }
            },
            "header": {
             "fill": {
              "color": "#000040"
             },
             "font": {
              "color": "#000036"
             },
             "line": {
              "color": "#000039"
             }
            },
            "type": "table"
           }
          ],
          "waterfall": [
           {
            "connector": {
             "line": {
              "color": "#000036",
              "width": 2
             }
            },
            "decreasing": {
             "marker": {
              "color": "#000033"
             }
            },
            "increasing": {
             "marker": {
              "color": "#000032"
             }
            },
            "totals": {
             "marker": {
              "color": "#000034"
             }
            },
            "type": "waterfall"
           }
          ]
         },
         "layout": {
          "coloraxis": {
           "colorscale": [
            [
             0,
             "#000011"
            ],
            [
             0.1111111111111111,
             "#000012"
            ],
            [
             0.2222222222222222,
             "#000013"
            ],
            [
             0.3333333333333333,
             "#000014"
            ],
            [
             0.4444444444444444,
             "#000015"
            ],
            [
             0.5555555555555556,
             "#000016"
            ],
            [
             0.6666666666666666,
             "#000017"
            ],
            [
             0.7777777777777778,
             "#000018"
            ],
            [
             0.8888888888888888,
             "#000019"
            ],
            [
             1,
             "#000020"
            ]
           ]
          },
          "colorscale": {
           "diverging": [
            [
             0,
             "#000021"
            ],
            [
             0.1,
             "#000022"
            ],
            [
             0.2,
             "#000023"
            ],
            [
             0.3,
             "#000024"
            ],
            [
             0.4,
             "#000025"
            ],
            [
             0.5,
             "#000026"
            ],
            [
             0.6,
             "#000027"
            ],
            [
             0.7,
             "#000028"
            ],
            [
             0.8,
             "#000029"
            ],
            [
             0.9,
             "#000030"
            ],
            [
             1,
             "#000031"
            ]
           ],
           "sequential": [
            [
             0,
             "#000011"
            ],
            [
             0.1111111111111111,
             "#000012"
            ],
            [
             0.2222222222222222,
             "#000013"
            ],
            [
             0.3333333333333333,
             "#000014"
            ],
            [
             0.4444444444444444,
             "#000015"
            ],
            [
             0.5555555555555556,
             "#000016"
            ],
            [
             0.6666666666666666,
             "#000017"
            ],
            [
             0.7777777777777778,
             "#000018"
            ],
            [
             0.8888888888888888,
             "#000019"
            ],
            [
             1,
             "#000020"
            ]
           ],
           "sequentialminus": [
            [
             0,
             "#000011"
            ],
            [
             0.1111111111111111,
             "#000012"
            ],
            [
             0.2222222222222222,
             "#000013"
            ],
            [
             0.3333333333333333,
             "#000014"
            ],
            [
             0.4444444444444444,
             "#000015"
            ],
            [
             0.5555555555555556,
             "#000016"
            ],
            [
             0.6666666666666666,
             "#000017"
            ],
            [
             0.7777777777777778,
             "#000018"
            ],
            [
             0.8888888888888888,
             "#000019"
            ],
            [
             1,
             "#000020"
            ]
           ]
          },
          "colorway": [
           "#000001",
           "#000002",
           "#000003",
           "#000004",
           "#000005",
           "#000006",
           "#000007",
           "#000008",
           "#000009",
           "#000010"
          ]
         }
        },
        "title": {
         "text": "Female Suicide Rates per 100k (Filtered by Rate Range)"
        },
        "updatemenus": [
         {
          "buttons": [
           {
            "args": [
             "xaxis.range",
             [
              0.3,
              0.3
             ]
            ],
            "label": "Suicide Rate < 0.3",
            "method": "relayout"
           },
           {
            "args": [
             "xaxis.range",
             [
              0.3,
              30.1
             ]
            ],
            "label": "Suicide Rate between 0.3 and 30.1",
            "method": "relayout"
           },
           {
            "args": [
             "xaxis.range",
             [
              30.1,
              30.1
             ]
            ],
            "label": "Suicide Rate > 30.1",
            "method": "relayout"
           }
          ],
          "direction": "down",
          "type": "dropdown",
          "x": 0.17,
          "y": 1.15
         }
        ],
        "width": 1200,
        "xaxis": {
         "anchor": "y",
         "domain": [
          0,
          1
         ],
         "title": {
          "text": "Female Rate Per100k(2019)"
         }
        },
        "yaxis": {
         "anchor": "x",
         "domain": [
          0,
          1
         ],
         "title": {
          "text": "Country"
         }
        }
       }
      }
     },
     "metadata": {},
     "output_type": "display_data"
    }
   ],
   "source": [
    "\n",
    "df['Female_RatePer100k_2019'] = pd.to_numeric(df['Female_RatePer100k_2019'], errors='coerce')\n",
    "\n",
    "'''This Function to creates a scatter plot'''\n",
    "def create_scatter_plot(df, x_col, y_col, color_col, color_scale=\"Viridis\"):\n",
    "    fig = px.scatter(df, \n",
    "                     x=x_col, \n",
    "                     y=y_col, \n",
    "                     hover_name=y_col,  \n",
    "                     color=color_col, \n",
    "                     color_continuous_scale=color_scale)\n",
    "    return fig\n",
    "\n",
    "'''This Function updates the layout of the figure'''\n",
    "def update_layout(fig, title, xaxis_title, yaxis_title, width=1200, height=800):\n",
    "    fig.update_layout(\n",
    "        width=width,  \n",
    "        height=height,\n",
    "        margin=dict(l=100, r=50, t=50, b=100), \n",
    "        title=title,  \n",
    "        xaxis_title=xaxis_title,  \n",
    "        yaxis_title=yaxis_title, \n",
    "        showlegend=False, \n",
    "        hoverlabel=dict(font_size=14),\n",
    "    )\n",
    "    return fig\n",
    "\n",
    "'''Function to create the dropdown for filtering based on suicide rate'''\n",
    "def create_rate_range_dropdown(min_rate, max_rate):\n",
    "    return [\n",
    "        dict(\n",
    "            label=f\"Suicide Rate < {min_rate}\",\n",
    "            method=\"relayout\",\n",
    "            args=[\"xaxis.range\", [df['Female_RatePer100k_2019'].min(), min_rate]]\n",
    "        ),\n",
    "        dict(\n",
    "            label=f\"Suicide Rate between {min_rate} and {max_rate}\",\n",
    "            method=\"relayout\",\n",
    "            args=[\"xaxis.range\", [min_rate, max_rate]]\n",
    "        ),\n",
    "        dict(\n",
    "            label=f\"Suicide Rate > {max_rate}\",\n",
    "            method=\"relayout\",\n",
    "            args=[\"xaxis.range\", [max_rate, df['Female_RatePer100k_2019'].max()]]\n",
    "        ),\n",
    "    ]\n",
    "\n",
    "''' Function to filter the dataframe based on suicide rate range'''\n",
    "def filter_data_by_rate_range(df, min_rate, max_rate):\n",
    "    return df[(df['Female_RatePer100k_2019'] >= min_rate) & (df['Female_RatePer100k_2019'] <= max_rate)]\n",
    "\n",
    "''' Main function to display the interactive plot'''\n",
    "def display_interactive_plot():\n",
    "    '''Sidebar filter for suicide rate range'''\n",
    "    min_rate, max_rate = st.sidebar.slider(\n",
    "        \"Select Suicide Rate Range (per 100k)\",\n",
    "        min_value=float(df['Female_RatePer100k_2019'].min()),\n",
    "        max_value=float(df['Female_RatePer100k_2019'].max()),\n",
    "        value=(float(df['Female_RatePer100k_2019'].min()), float(df['Female_RatePer100k_2019'].max()))\n",
    "    )\n",
    "\n",
    "    ''' Filter the data based on selected rate range'''\n",
    "    filtered_df = filter_data_by_rate_range(df, min_rate, max_rate)\n",
    "\n",
    "    ''' Create the scatter plot'''\n",
    "    fig = create_scatter_plot(filtered_df, 'Female_RatePer100k_2019', 'country', 'Female_RatePer100k_2019')\n",
    "\n",
    "    '''Create the dropdown buttons for rate range selection'''\n",
    "    rate_range_buttons = create_rate_range_dropdown(min_rate, max_rate)\n",
    "\n",
    "    ''' Add dropdown buttons to the plot'''\n",
    "    fig.update_layout(\n",
    "        updatemenus=[\n",
    "            dict(\n",
    "                type=\"dropdown\",\n",
    "                direction=\"down\",\n",
    "                x=0.17,\n",
    "                y=1.15,\n",
    "                buttons=rate_range_buttons\n",
    "            ),\n",
    "        ]\n",
    "    )\n",
    "\n",
    "    '''Update the layout of the figure'''\n",
    "    fig = update_layout(fig, \n",
    "                        title=f'Female Suicide Rates per 100k (Filtered by Rate Range)', \n",
    "                        xaxis_title='Female Rate Per100k(2019)',\n",
    "                        yaxis_title='Country')\n",
    "\n",
    "    '''Show the plot'''\n",
    "    fig.show()\n",
    "\n",
    "''' Call the main function to display the plot'''\n",
    "display_interactive_plot()\n"
   ]
  },
  {
   "cell_type": "code",
   "execution_count": null,
   "id": "80715255-240d-4171-9ae6-adf00e27596f",
   "metadata": {},
   "outputs": [],
   "source": []
  }
 ],
 "metadata": {
  "kernelspec": {
   "display_name": "base",
   "language": "python",
   "name": "python3"
  },
  "language_info": {
   "codemirror_mode": {
    "name": "ipython",
    "version": 3
   },
   "file_extension": ".py",
   "mimetype": "text/x-python",
   "name": "python",
   "nbconvert_exporter": "python",
   "pygments_lexer": "ipython3",
   "version": "3.12.4"
  }
 },
 "nbformat": 4,
 "nbformat_minor": 5
}
